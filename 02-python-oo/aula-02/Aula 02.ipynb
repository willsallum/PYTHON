{
 "cells": [
  {
   "cell_type": "markdown",
   "metadata": {},
   "source": [
    "# [Py-OO] Aula 02\n",
    "\n",
    "## Herança\n",
    "O que você vai aprender nesta aula?\n",
    "\n",
    "Após o término da aula você terá aprendido:\n",
    "\n",
    "- Herança e Herança múltipla\n",
    "- Lidando com exceções\n",
    "\n",
    "*Este material usou algumas explicações e exemplos do Capítulo 12 do livro Python Fluente do Luciano Ramalho.*"
   ]
  },
  {
   "cell_type": "markdown",
   "metadata": {},
   "source": [
    "Vamos falar nesta aula sobre herança, que é um dos conceitos mais importantes e utilizados dentro da orientação a objetos. A herança traz várias vantagens como, por exemplo, a reutilização de código que reduz a manutenção de software e permite criar aplicações mais complexas.\n",
    "\n",
    "\"Começamos a insistir na ideia de herança como uma maneira de permitir que novatos desenvolvessem com base em frameworks que poderiam ser projetados somente por experts\" (Alan Kay, The Early  History of Smalltalk)\n",
    "\n",
    "Também vamos falar sobre herança múltipla. Muitos programadores chegam ao Python do Java sem ter visto herança múltipla na prática, por esse motivo serão usados exemplos didáticos sobre esse tema usando um projeto Python importante: o framework web Django.\n",
    "\n",
    "### Herança"
   ]
  },
  {
   "cell_type": "markdown",
   "metadata": {},
   "source": [
    "Na aula passada vimos o seguinte exemplo da classe `Cão`. Hoje vamos usar herança para especificar raças diferentes de cachorros:"
   ]
  },
  {
   "cell_type": "code",
   "execution_count": 1,
   "metadata": {
    "collapsed": true
   },
   "outputs": [],
   "source": [
    "class Cão:\n",
    "    qtd_patas = 4\n",
    "    carnívoro = True\n",
    "    nervoso = False\n",
    "    \n",
    "    def __init__(self, nome):\n",
    "        self.nome = nome\n",
    "        \n",
    "    def latir(self, vezes=1):\n",
    "        \"\"\" Latir do cão. Quanto mais nervoso mais late. \"\"\"\n",
    "        \n",
    "        vezes += self.nervoso * vezes\n",
    "        latido = 'Au! ' * vezes\n",
    "        print('{}: {}'.format(self.nome, latido))"
   ]
  },
  {
   "cell_type": "markdown",
   "metadata": {},
   "source": [
    "Vamos brincar um pouco com o cão:"
   ]
  },
  {
   "cell_type": "code",
   "execution_count": 2,
   "metadata": {
    "collapsed": false
   },
   "outputs": [
    {
     "data": {
      "text/plain": [
       "4"
      ]
     },
     "execution_count": 2,
     "metadata": {},
     "output_type": "execute_result"
    }
   ],
   "source": [
    "rex = Cão('Rex')\n",
    "rex.qtd_patas"
   ]
  },
  {
   "cell_type": "code",
   "execution_count": 3,
   "metadata": {
    "collapsed": false
   },
   "outputs": [
    {
     "data": {
      "text/plain": [
       "'Rex'"
      ]
     },
     "execution_count": 3,
     "metadata": {},
     "output_type": "execute_result"
    }
   ],
   "source": [
    "rex.nome"
   ]
  },
  {
   "cell_type": "code",
   "execution_count": 4,
   "metadata": {
    "collapsed": false
   },
   "outputs": [
    {
     "name": "stdout",
     "output_type": "stream",
     "text": [
      "Rex: Au! \n"
     ]
    }
   ],
   "source": [
    "rex.latir()"
   ]
  },
  {
   "cell_type": "code",
   "execution_count": 5,
   "metadata": {
    "collapsed": false
   },
   "outputs": [
    {
     "name": "stdout",
     "output_type": "stream",
     "text": [
      "Rex: Au! Au! Au! Au! Au! \n"
     ]
    }
   ],
   "source": [
    "rex.latir(5)"
   ]
  },
  {
   "cell_type": "code",
   "execution_count": 6,
   "metadata": {
    "collapsed": false
   },
   "outputs": [
    {
     "data": {
      "text/plain": [
       "False"
      ]
     },
     "execution_count": 6,
     "metadata": {},
     "output_type": "execute_result"
    }
   ],
   "source": [
    "rex.nervoso"
   ]
  },
  {
   "cell_type": "code",
   "execution_count": 7,
   "metadata": {
    "collapsed": false
   },
   "outputs": [
    {
     "name": "stdout",
     "output_type": "stream",
     "text": [
      "Rex: Au! Au! \n"
     ]
    }
   ],
   "source": [
    "rex.nervoso = True\n",
    "rex.latir()"
   ]
  },
  {
   "cell_type": "code",
   "execution_count": 8,
   "metadata": {
    "collapsed": false
   },
   "outputs": [
    {
     "name": "stdout",
     "output_type": "stream",
     "text": [
      "Rex: Au! Au! Au! Au! Au! Au! Au! Au! Au! Au! Au! Au! Au! Au! Au! Au! Au! Au! Au! Au! \n"
     ]
    }
   ],
   "source": [
    "rex.latir(10)"
   ]
  },
  {
   "cell_type": "markdown",
   "metadata": {},
   "source": [
    "Agora vamos criar a classe `GoldenRetriever` como subclasse de cão. Os cachorros da raça golden retriever são conhecidos por serem muito inteligente e amigáveis. Seu nome retriever (pegador) por sua habilidade de pegar os alvos em jogos de caça sem danificá-los. Por esse motivo vamos implementar um método que permita os cães dessa raça pegar e devolver itens."
   ]
  },
  {
   "cell_type": "code",
   "execution_count": 9,
   "metadata": {
    "collapsed": true
   },
   "outputs": [],
   "source": [
    "class GoldenRetriever(Cão):\n",
    "    def __init__(self, *args, **kwargs):\n",
    "        super().__init__(*args, **kwargs)\n",
    "        self.itens = []\n",
    "    \n",
    "    def pega(self, item):\n",
    "        \"\"\" busca/pega um item quando ordenado \"\"\"\n",
    "        self.itens.append(item)\n",
    "        print('{} pegou {}'.format(self.nome, item))\n",
    "        \n",
    "    def devolve(self, item=None):\n",
    "        \"\"\" devolve um item, caso o item não seja especificado retorna o último que pegou \"\"\"\n",
    "        if not self.itens:\n",
    "            print('{} não está segurando item algum!'.format(self.nome))\n",
    "            return\n",
    "        \n",
    "        if not item:\n",
    "            item = self.itens.pop()\n",
    "        elif item not in self.itens:\n",
    "            print('{} não está segurando {}!'.format(self.nome, item))\n",
    "            return\n",
    "        else:\n",
    "            self.itens.remove(item)\n",
    "        print('{} devolve {}'.format(self.nome, item))\n",
    "        return item"
   ]
  },
  {
   "cell_type": "markdown",
   "metadata": {},
   "source": [
    "Linha 1: especificamos que a classe `GoldenRetriever` herda de `Cão`.\n",
    "\n",
    "Linha 2: sobrescrevemos o construtor da superclasse.\n",
    "\n",
    "Linha 3: repassamos os argumentos para o inicializador de `Cão`. \n",
    "\n",
    "Linha 4: criamos um novo atributo `itens` às instâncias de `GoldenRetriever`\n",
    "\n",
    "Por herdar da classe `Cão` a classe `GoldenRetriever` recebe todos os métodos e atributos do primeiro:"
   ]
  },
  {
   "cell_type": "code",
   "execution_count": 10,
   "metadata": {
    "collapsed": false
   },
   "outputs": [
    {
     "data": {
      "text/plain": [
       "'Nana'"
      ]
     },
     "execution_count": 10,
     "metadata": {},
     "output_type": "execute_result"
    }
   ],
   "source": [
    "nana = GoldenRetriever('Nana')\n",
    "nana.nome"
   ]
  },
  {
   "cell_type": "code",
   "execution_count": 11,
   "metadata": {
    "collapsed": false
   },
   "outputs": [
    {
     "data": {
      "text/plain": [
       "False"
      ]
     },
     "execution_count": 11,
     "metadata": {},
     "output_type": "execute_result"
    }
   ],
   "source": [
    "nana.nervoso"
   ]
  },
  {
   "cell_type": "code",
   "execution_count": 12,
   "metadata": {
    "collapsed": false
   },
   "outputs": [
    {
     "data": {
      "text/plain": [
       "True"
      ]
     },
     "execution_count": 12,
     "metadata": {},
     "output_type": "execute_result"
    }
   ],
   "source": [
    "nana.carnívoro"
   ]
  },
  {
   "cell_type": "code",
   "execution_count": 13,
   "metadata": {
    "collapsed": false
   },
   "outputs": [
    {
     "name": "stdout",
     "output_type": "stream",
     "text": [
      "Nana: Au! \n"
     ]
    }
   ],
   "source": [
    "nana.latir()"
   ]
  },
  {
   "cell_type": "code",
   "execution_count": 14,
   "metadata": {
    "collapsed": false
   },
   "outputs": [
    {
     "name": "stdout",
     "output_type": "stream",
     "text": [
      "Nana: Au! Au! Au! Au! Au! \n"
     ]
    }
   ],
   "source": [
    "nana.latir(5)"
   ]
  },
  {
   "cell_type": "markdown",
   "metadata": {},
   "source": [
    "E temos acesso aos métodos e atributos de `GoldenRetriever`:"
   ]
  },
  {
   "cell_type": "code",
   "execution_count": 15,
   "metadata": {
    "collapsed": false
   },
   "outputs": [
    {
     "data": {
      "text/plain": [
       "[]"
      ]
     },
     "execution_count": 15,
     "metadata": {},
     "output_type": "execute_result"
    }
   ],
   "source": [
    "nana.itens"
   ]
  },
  {
   "cell_type": "code",
   "execution_count": 16,
   "metadata": {
    "collapsed": false
   },
   "outputs": [
    {
     "name": "stdout",
     "output_type": "stream",
     "text": [
      "Nana pegou bola\n"
     ]
    }
   ],
   "source": [
    "nana.pega('bola')"
   ]
  },
  {
   "cell_type": "code",
   "execution_count": 17,
   "metadata": {
    "collapsed": false
   },
   "outputs": [
    {
     "data": {
      "text/plain": [
       "['bola']"
      ]
     },
     "execution_count": 17,
     "metadata": {},
     "output_type": "execute_result"
    }
   ],
   "source": [
    "nana.itens"
   ]
  },
  {
   "cell_type": "code",
   "execution_count": 18,
   "metadata": {
    "collapsed": false
   },
   "outputs": [
    {
     "name": "stdout",
     "output_type": "stream",
     "text": [
      "Nana devolve bola\n"
     ]
    },
    {
     "data": {
      "text/plain": [
       "'bola'"
      ]
     },
     "execution_count": 18,
     "metadata": {},
     "output_type": "execute_result"
    }
   ],
   "source": [
    "nana.devolve()"
   ]
  },
  {
   "cell_type": "code",
   "execution_count": 19,
   "metadata": {
    "collapsed": false
   },
   "outputs": [
    {
     "name": "stdout",
     "output_type": "stream",
     "text": [
      "Nana não está segurando item algum!\n"
     ]
    }
   ],
   "source": [
    "nana.devolve()"
   ]
  },
  {
   "cell_type": "markdown",
   "metadata": {},
   "source": [
    "Python não tem suporte \"nativo\" a sobrecarga de métodos de mesmo nome. Isso se dá pois a linguagem possui outros métodos de emular essa funcionalidade, como: argumentos padrão e empacotamento de argumentos posicionais e nomeados.\n",
    "\n",
    "No exemplo anterior, o método `GoldenRetriever.devolve()` poderia ser escrito com dois metódos: um que não recebe item `GoldenRetriever.devolve(self)` e outro que recebe um item `GoldenRetriever.devolve(self, item)`. Isso não foi necessário, pois usamos argumento padrão.\n",
    "\n",
    "Mas, se analisarmos a função devolve com cuidado logo percebemos que ela faz duas coisas diferentes - assim como em uma lista temos os métodos `list.pop()` e `list.remove()` e não somente um `list.remove()` que funciona para todos os casos. Seguindo as melhores práticas de programação seria melhor escrever duas funções diferentes para isso:"
   ]
  },
  {
   "cell_type": "code",
   "execution_count": 43,
   "metadata": {
    "collapsed": true
   },
   "outputs": [],
   "source": [
    "class GoldenRetriever(Cão):\n",
    "    def __init__(self, *args, **kwargs):\n",
    "        super().__init__(*args, **kwargs)\n",
    "        self.itens = []\n",
    "    \n",
    "    def pega(self, item):\n",
    "        \"\"\" busca/pega um item quando ordenado \"\"\"\n",
    "        self.itens.append(item)\n",
    "        print('{} pegou {}'.format(self.nome, item))\n",
    "        \n",
    "    def devolve(self, item):\n",
    "        \"\"\" devolve um item, caso o item não seja especificado retorna o último que pegou \"\"\"\n",
    "        if not self.itens:\n",
    "            raise ValueError('{} não está segurando item algum!'.format(self.nome))\n",
    "        \n",
    "        if item not in self.itens:\n",
    "            raise ValueError('{} não está segurando {}!'.format(self.nome, item))\n",
    "        \n",
    "        self.itens.remove(item)\n",
    "        print('{} devolve {}'.format(self.nome, item))\n",
    "        return item\n",
    "\n",
    "    def devolve_ultimo(self):\n",
    "        if not self.itens:\n",
    "            raise ValueError('{} não está segurando item algum!'.format(self.nome))\n",
    "        \n",
    "        return self.itens.pop()"
   ]
  },
  {
   "cell_type": "markdown",
   "metadata": {},
   "source": [
    "Vamos testar a nova funcionalidade:"
   ]
  },
  {
   "cell_type": "code",
   "execution_count": 90,
   "metadata": {
    "collapsed": false
   },
   "outputs": [
    {
     "data": {
      "text/plain": [
       "'Totó'"
      ]
     },
     "execution_count": 90,
     "metadata": {},
     "output_type": "execute_result"
    }
   ],
   "source": [
    "toto = GoldenRetriever('Totó')\n",
    "toto.nome"
   ]
  },
  {
   "cell_type": "code",
   "execution_count": 91,
   "metadata": {
    "collapsed": false
   },
   "outputs": [
    {
     "data": {
      "text/plain": [
       "[]"
      ]
     },
     "execution_count": 91,
     "metadata": {},
     "output_type": "execute_result"
    }
   ],
   "source": [
    "toto.itens"
   ]
  },
  {
   "cell_type": "code",
   "execution_count": 103,
   "metadata": {
    "collapsed": false
   },
   "outputs": [
    {
     "name": "stdout",
     "output_type": "stream",
     "text": [
      "Totó pegou chinelo\n"
     ]
    }
   ],
   "source": [
    "toto.pega('chinelo')"
   ]
  },
  {
   "cell_type": "code",
   "execution_count": 104,
   "metadata": {
    "collapsed": false
   },
   "outputs": [
    {
     "name": "stdout",
     "output_type": "stream",
     "text": [
      "Totó pegou bola\n"
     ]
    }
   ],
   "source": [
    "toto.pega('bola')"
   ]
  },
  {
   "cell_type": "code",
   "execution_count": 105,
   "metadata": {
    "collapsed": false
   },
   "outputs": [
    {
     "data": {
      "text/plain": [
       "['chinelo', 'bola']"
      ]
     },
     "execution_count": 105,
     "metadata": {},
     "output_type": "execute_result"
    }
   ],
   "source": [
    "toto.itens"
   ]
  },
  {
   "cell_type": "code",
   "execution_count": 106,
   "metadata": {
    "collapsed": false
   },
   "outputs": [
    {
     "data": {
      "text/plain": [
       "'bola'"
      ]
     },
     "execution_count": 106,
     "metadata": {},
     "output_type": "execute_result"
    }
   ],
   "source": [
    "toto.devolve_ultimo()"
   ]
  },
  {
   "cell_type": "code",
   "execution_count": 107,
   "metadata": {
    "collapsed": false
   },
   "outputs": [
    {
     "name": "stdout",
     "output_type": "stream",
     "text": [
      "Totó não está segurando meia!\n"
     ]
    }
   ],
   "source": [
    "toto.devolve('meia')"
   ]
  },
  {
   "cell_type": "code",
   "execution_count": 108,
   "metadata": {
    "collapsed": false
   },
   "outputs": [
    {
     "name": "stdout",
     "output_type": "stream",
     "text": [
      "Totó devolve chinelo\n"
     ]
    },
    {
     "data": {
      "text/plain": [
       "'chinelo'"
      ]
     },
     "execution_count": 108,
     "metadata": {},
     "output_type": "execute_result"
    }
   ],
   "source": [
    "toto.devolve('chinelo')"
   ]
  },
  {
   "cell_type": "code",
   "execution_count": 109,
   "metadata": {
    "collapsed": false
   },
   "outputs": [
    {
     "name": "stdout",
     "output_type": "stream",
     "text": [
      "Totó não está segurando item algum!\n"
     ]
    }
   ],
   "source": [
    "toto.devolve_ultimo()"
   ]
  },
  {
   "cell_type": "markdown",
   "metadata": {},
   "source": [
    "Devemos notar que usamos `*args` e `**kwargs` na definição da função (linha 2) para repassar a instanciação dos argumentos à classe `Cão`, dessa maneira se modificarmos esta classe e adicionarmos outros parâmetros, então `GoldenRetriever` também aceitará esses parâmetros, como podemos ver no seguinte exemplo que redefinimos a classe `Cão`:"
   ]
  },
  {
   "cell_type": "code",
   "execution_count": 110,
   "metadata": {
    "collapsed": true
   },
   "outputs": [],
   "source": [
    "class Cão:\n",
    "    qtd_patas = 4\n",
    "    carnívoro = True\n",
    "    nervoso = False\n",
    "    \n",
    "    def __init__(self, nome, data_nascimento=None):\n",
    "        self.nome = nome\n",
    "        self.data_nascimento = data_nascimento\n",
    "        \n",
    "    def latir(self, vezes=1):\n",
    "        \"\"\" Latir do cão. Quanto mais nervoso mais late. \"\"\"\n",
    "        \n",
    "        vezes += self.nervoso * vezes\n",
    "        latido = 'Au! ' * vezes\n",
    "        print('{}: {}'.format(self.nome, latido))"
   ]
  },
  {
   "cell_type": "markdown",
   "metadata": {},
   "source": [
    "Precisamos recarregar a classe `GoldenRetriever` para ela herdar da nova superclasse:"
   ]
  },
  {
   "cell_type": "code",
   "execution_count": 111,
   "metadata": {
    "collapsed": true
   },
   "outputs": [],
   "source": [
    "class GoldenRetriever(Cão):\n",
    "    def __init__(self, *args, **kwargs):\n",
    "        super().__init__(*args, **kwargs)\n",
    "        self.itens = []\n",
    "    \n",
    "    def pega(self, item):\n",
    "        \"\"\" busca/pega um item quando ordenado \"\"\"\n",
    "        self.itens.append(item)\n",
    "        print('{} pegou {}'.format(self.nome, item))\n",
    "        \n",
    "    def devolve(self, item):\n",
    "        \"\"\" devolve um item, caso o item não seja especificado retorna o último que pegou \"\"\"\n",
    "        if not self.itens:\n",
    "            raise ValueError('{} não está segurando item algum!'.format(self.nome))\n",
    "        \n",
    "        if item not in self.itens:\n",
    "            raise ValueError('{} não está segurando {}!'.format(self.nome, item))\n",
    "        \n",
    "        self.itens.remove(item)\n",
    "        print('{} devolve {}'.format(self.nome, item))\n",
    "        return item\n",
    "\n",
    "    def devolve_ultimo(self):\n",
    "        if not self.itens:\n",
    "            raise ValueError('{} não está segurando item algum!'.format(self.nome))\n",
    "        \n",
    "        return self.itens.pop()"
   ]
  },
  {
   "cell_type": "code",
   "execution_count": 112,
   "metadata": {
    "collapsed": false
   },
   "outputs": [
    {
     "data": {
      "text/plain": [
       "datetime.date(2016, 4, 4)"
      ]
     },
     "execution_count": 112,
     "metadata": {},
     "output_type": "execute_result"
    }
   ],
   "source": [
    "from datetime import date\n",
    "\n",
    "totó = GoldenRetriever('Totó', date(2016, 4, 4))\n",
    "totó.data_nascimento"
   ]
  },
  {
   "cell_type": "code",
   "execution_count": 113,
   "metadata": {
    "collapsed": false
   },
   "outputs": [
    {
     "name": "stdout",
     "output_type": "stream",
     "text": [
      "2016-04-04\n"
     ]
    }
   ],
   "source": [
    "print(totó.data_nascimento)"
   ]
  },
  {
   "cell_type": "code",
   "execution_count": 115,
   "metadata": {
    "collapsed": false
   },
   "outputs": [
    {
     "name": "stdout",
     "output_type": "stream",
     "text": [
      "None\n"
     ]
    }
   ],
   "source": [
    "fido = GoldenRetriever('Fido')\n",
    "print(fido.data_nascimento)"
   ]
  },
  {
   "cell_type": "markdown",
   "metadata": {},
   "source": [
    "Vamos criar mais uma subclasse de `Cão`. Dessa vez iremos criar a classe `Pinscher`, essa raça de cachorro tem a quantidade de raiva inversamente proporcional ao seu tamanho, ou seja, são muito nervosos! E também latem mais cães de outras raças:"
   ]
  },
  {
   "cell_type": "code",
   "execution_count": 116,
   "metadata": {
    "collapsed": false
   },
   "outputs": [],
   "source": [
    "class Pinscher(Cão):\n",
    "    nervoso = True\n",
    "    \n",
    "    def __init__(self, *args, **kwargs):\n",
    "        super().__init__(*args, **kwargs)\n",
    "    \n",
    "    def latir(self, vezes=1):\n",
    "        vezes *= 2\n",
    "        super().latir(vezes)"
   ]
  },
  {
   "cell_type": "code",
   "execution_count": 117,
   "metadata": {
    "collapsed": false
   },
   "outputs": [
    {
     "data": {
      "text/plain": [
       "True"
      ]
     },
     "execution_count": 117,
     "metadata": {},
     "output_type": "execute_result"
    }
   ],
   "source": [
    "mimi = Pinscher('Mimi')\n",
    "mimi.nervoso"
   ]
  },
  {
   "cell_type": "code",
   "execution_count": 118,
   "metadata": {
    "collapsed": false
   },
   "outputs": [
    {
     "data": {
      "text/plain": [
       "'Mimi'"
      ]
     },
     "execution_count": 118,
     "metadata": {},
     "output_type": "execute_result"
    }
   ],
   "source": [
    "mimi.nome"
   ]
  },
  {
   "cell_type": "code",
   "execution_count": 119,
   "metadata": {
    "collapsed": false
   },
   "outputs": [
    {
     "name": "stdout",
     "output_type": "stream",
     "text": [
      "Mimi: Au! Au! Au! Au! \n"
     ]
    }
   ],
   "source": [
    "mimi.latir()"
   ]
  },
  {
   "cell_type": "code",
   "execution_count": 120,
   "metadata": {
    "collapsed": false
   },
   "outputs": [
    {
     "name": "stdout",
     "output_type": "stream",
     "text": [
      "Mimi: Au! Au! Au! Au! Au! Au! Au! Au! Au! Au! Au! Au! Au! Au! Au! Au! Au! Au! Au! Au! \n"
     ]
    }
   ],
   "source": [
    "mimi.latir(5)"
   ]
  },
  {
   "cell_type": "markdown",
   "metadata": {},
   "source": [
    "Para finalizar vamos criar a classe `SãoBernardo` que representa cães dessa mesma raça. Esta ficou famosa por diversos filmes de humor que passou dezenas de vezes em certo canal da TV aberta brasileira. Há lendas que dizem que, em países que nevam, o cão São Bernardo leva um pequeno barril de conhaque para resgatar viajantes perdidos na neve:"
   ]
  },
  {
   "cell_type": "code",
   "execution_count": 61,
   "metadata": {
    "collapsed": true
   },
   "outputs": [],
   "source": [
    "class SãoBernardo(Cão):\n",
    "    def __init__(self, *args):\n",
    "        super().__init__(*args)\n",
    "        self.doses = 10\n",
    "        \n",
    "    def servir(self):\n",
    "        if self.doses == 0:\n",
    "            raise ValueError(\"'Cabou a birita!\")\n",
    "        \n",
    "        self.doses -= 1\n",
    "        print('{} serve a birita (restam {} doses)'.format(self.nome, self.doses))"
   ]
  },
  {
   "cell_type": "code",
   "execution_count": 62,
   "metadata": {
    "collapsed": false
   },
   "outputs": [
    {
     "name": "stdout",
     "output_type": "stream",
     "text": [
      "Sansão serve a birita (restam 9 doses)\n"
     ]
    }
   ],
   "source": [
    "sansao = SãoBernardo('Sansão')\n",
    "sansao.servir()"
   ]
  },
  {
   "cell_type": "code",
   "execution_count": 63,
   "metadata": {
    "collapsed": false
   },
   "outputs": [
    {
     "name": "stdout",
     "output_type": "stream",
     "text": [
      "Sansão serve a birita (restam 0 doses)\n"
     ]
    }
   ],
   "source": [
    "sansao.doses = 1\n",
    "sansao.servir()"
   ]
  },
  {
   "cell_type": "code",
   "execution_count": 64,
   "metadata": {
    "collapsed": false
   },
   "outputs": [
    {
     "ename": "ValueError",
     "evalue": "'Cabou a birita!",
     "output_type": "error",
     "traceback": [
      "\u001b[1;31m---------------------------------------------------------------------------\u001b[0m",
      "\u001b[1;31mValueError\u001b[0m                                Traceback (most recent call last)",
      "\u001b[1;32m<ipython-input-64-b7277c8186de>\u001b[0m in \u001b[0;36m<module>\u001b[1;34m()\u001b[0m\n\u001b[1;32m----> 1\u001b[1;33m \u001b[0msansao\u001b[0m\u001b[1;33m.\u001b[0m\u001b[0mservir\u001b[0m\u001b[1;33m(\u001b[0m\u001b[1;33m)\u001b[0m\u001b[1;33m\u001b[0m\u001b[0m\n\u001b[0m",
      "\u001b[1;32m<ipython-input-61-96128d5ab246>\u001b[0m in \u001b[0;36mservir\u001b[1;34m(self)\u001b[0m\n\u001b[0;32m      6\u001b[0m     \u001b[1;32mdef\u001b[0m \u001b[0mservir\u001b[0m\u001b[1;33m(\u001b[0m\u001b[0mself\u001b[0m\u001b[1;33m)\u001b[0m\u001b[1;33m:\u001b[0m\u001b[1;33m\u001b[0m\u001b[0m\n\u001b[0;32m      7\u001b[0m         \u001b[1;32mif\u001b[0m \u001b[0mself\u001b[0m\u001b[1;33m.\u001b[0m\u001b[0mdoses\u001b[0m \u001b[1;33m==\u001b[0m \u001b[1;36m0\u001b[0m\u001b[1;33m:\u001b[0m\u001b[1;33m\u001b[0m\u001b[0m\n\u001b[1;32m----> 8\u001b[1;33m             \u001b[1;32mraise\u001b[0m \u001b[0mValueError\u001b[0m\u001b[1;33m(\u001b[0m\u001b[1;34m\"'Cabou a birita!\"\u001b[0m\u001b[1;33m)\u001b[0m\u001b[1;33m\u001b[0m\u001b[0m\n\u001b[0m\u001b[0;32m      9\u001b[0m \u001b[1;33m\u001b[0m\u001b[0m\n\u001b[0;32m     10\u001b[0m         \u001b[0mself\u001b[0m\u001b[1;33m.\u001b[0m\u001b[0mdoses\u001b[0m \u001b[1;33m-=\u001b[0m \u001b[1;36m1\u001b[0m\u001b[1;33m\u001b[0m\u001b[0m\n",
      "\u001b[1;31mValueError\u001b[0m: 'Cabou a birita!"
     ]
    }
   ],
   "source": [
    "sansao.servir()"
   ]
  },
  {
   "cell_type": "markdown",
   "metadata": {},
   "source": [
    "O Python possui duas funções para verificar instâncias: `isinstance(obj, cls)` que checa se uma classe é uma instância da classe ou de suas superclasses:"
   ]
  },
  {
   "cell_type": "code",
   "execution_count": 65,
   "metadata": {
    "collapsed": false
   },
   "outputs": [
    {
     "data": {
      "text/plain": [
       "True"
      ]
     },
     "execution_count": 65,
     "metadata": {},
     "output_type": "execute_result"
    }
   ],
   "source": [
    "isinstance(sansao, SãoBernardo)"
   ]
  },
  {
   "cell_type": "code",
   "execution_count": 72,
   "metadata": {
    "collapsed": false
   },
   "outputs": [
    {
     "data": {
      "text/plain": [
       "True"
      ]
     },
     "execution_count": 72,
     "metadata": {},
     "output_type": "execute_result"
    }
   ],
   "source": [
    "isinstance(sansao, Cão)"
   ]
  },
  {
   "cell_type": "code",
   "execution_count": 75,
   "metadata": {
    "collapsed": false
   },
   "outputs": [
    {
     "data": {
      "text/plain": [
       "False"
      ]
     },
     "execution_count": 75,
     "metadata": {},
     "output_type": "execute_result"
    }
   ],
   "source": [
    "isinstance(totó, SãoBernardo)"
   ]
  },
  {
   "cell_type": "code",
   "execution_count": 77,
   "metadata": {
    "collapsed": false
   },
   "outputs": [
    {
     "data": {
      "text/plain": [
       "True"
      ]
     },
     "execution_count": 77,
     "metadata": {},
     "output_type": "execute_result"
    }
   ],
   "source": [
    "isinstance(totó, GoldenRetriever)"
   ]
  },
  {
   "cell_type": "code",
   "execution_count": 76,
   "metadata": {
    "collapsed": false
   },
   "outputs": [
    {
     "data": {
      "text/plain": [
       "True"
      ]
     },
     "execution_count": 76,
     "metadata": {},
     "output_type": "execute_result"
    }
   ],
   "source": [
    "isinstance(totó, Cão)"
   ]
  },
  {
   "cell_type": "markdown",
   "metadata": {},
   "source": [
    "Para verificar se o objeto é exatamente o tipo desejado é necessário usar a função embutida `type()`:"
   ]
  },
  {
   "cell_type": "code",
   "execution_count": 78,
   "metadata": {
    "collapsed": false
   },
   "outputs": [
    {
     "data": {
      "text/plain": [
       "True"
      ]
     },
     "execution_count": 78,
     "metadata": {},
     "output_type": "execute_result"
    }
   ],
   "source": [
    "type(sansao) is SãoBernardo"
   ]
  },
  {
   "cell_type": "code",
   "execution_count": 79,
   "metadata": {
    "collapsed": false
   },
   "outputs": [
    {
     "data": {
      "text/plain": [
       "False"
      ]
     },
     "execution_count": 79,
     "metadata": {},
     "output_type": "execute_result"
    }
   ],
   "source": [
    "type(sansao) is Cão"
   ]
  },
  {
   "cell_type": "code",
   "execution_count": 81,
   "metadata": {
    "collapsed": false
   },
   "outputs": [
    {
     "data": {
      "text/plain": [
       "False"
      ]
     },
     "execution_count": 81,
     "metadata": {},
     "output_type": "execute_result"
    }
   ],
   "source": [
    "type(totó) is Cão"
   ]
  },
  {
   "cell_type": "markdown",
   "metadata": {},
   "source": [
    "Por fim também existe a função `issubclass(class, classinfo)` que verifica se uma *classe* é derivada de outra:"
   ]
  },
  {
   "cell_type": "code",
   "execution_count": 87,
   "metadata": {
    "collapsed": false
   },
   "outputs": [
    {
     "data": {
      "text/plain": [
       "True"
      ]
     },
     "execution_count": 87,
     "metadata": {},
     "output_type": "execute_result"
    }
   ],
   "source": [
    "issubclass(type(sansao), Cão)"
   ]
  },
  {
   "cell_type": "code",
   "execution_count": 88,
   "metadata": {
    "collapsed": false
   },
   "outputs": [
    {
     "data": {
      "text/plain": [
       "True"
      ]
     },
     "execution_count": 88,
     "metadata": {},
     "output_type": "execute_result"
    }
   ],
   "source": [
    "issubclass(bool, int)"
   ]
  },
  {
   "cell_type": "markdown",
   "metadata": {},
   "source": [
    "Spoiler: o tipo `bool` é derivado do tipo `int`. (veremos mais sobre isso na aula sobre python data model)"
   ]
  },
  {
   "cell_type": "code",
   "execution_count": 89,
   "metadata": {
    "collapsed": false
   },
   "outputs": [
    {
     "data": {
      "text/plain": [
       "False"
      ]
     },
     "execution_count": 89,
     "metadata": {},
     "output_type": "execute_result"
    }
   ],
   "source": [
    "issubclass(float, int)"
   ]
  },
  {
   "cell_type": "markdown",
   "metadata": {},
   "source": [
    "Porém o tipo `float` não."
   ]
  },
  {
   "cell_type": "markdown",
   "metadata": {},
   "source": [
    "#### UML - Unified Modeling Language\n",
    "\n",
    "O UML é um padrão de modelagem de software para diversos campos do desenvolvimento. O padrão possui diversos diagramas para expressar lógica de negócio e estrutura de programas. Para este curso veremos apenas *Diagramas de Classe*.\n",
    "\n",
    "Vamos ver como fica o nosso código de cães em diagramas de classe:\n",
    "\n",
    "![a uau! que diagrama!](img/cao.png)"
   ]
  },
  {
   "cell_type": "markdown",
   "metadata": {},
   "source": [
    "A classe é representada por retângulo e é dividida por três partes:\n",
    "1. Nome da classe\n",
    "2. Atributos\n",
    "3. Métodos\n",
    "\n",
    "O símbolo antes dos métodos e atributos representa a visibilidade deles. Os símbolos e suas visibilidades são:\n",
    "\n",
    "```\n",
    "+ Público\n",
    "# Protegido\n",
    "~ Pacote\n",
    "- Privado\n",
    "```\n",
    "\n",
    "A seta vazada (existem 3 delas no exemplo) indicam relações de generalização e é usado para indicar se uma classe herda de outra.\n",
    "\n",
    "Para esta aula iremos usar somente essa pequena parte do padrão de Diagrama de Classes, caso você queira saber mais pode ver este [simples tutorial](http://www.classdraw.com/help.htm)."
   ]
  },
  {
   "cell_type": "markdown",
   "metadata": {},
   "source": [
    "# Exceptions\n",
    "\n",
    "Antes de falar sobre herança múltipla, vamos falar primeiro sobre exceções. `Exception` é uma classe:"
   ]
  },
  {
   "cell_type": "code",
   "execution_count": 123,
   "metadata": {
    "collapsed": false
   },
   "outputs": [
    {
     "data": {
      "text/plain": [
       "'ValueError'"
      ]
     },
     "execution_count": 123,
     "metadata": {},
     "output_type": "execute_result"
    }
   ],
   "source": [
    "ValueError.__name__"
   ]
  },
  {
   "cell_type": "markdown",
   "metadata": {},
   "source": [
    "E herdam de `Exception`:"
   ]
  },
  {
   "cell_type": "code",
   "execution_count": 125,
   "metadata": {
    "collapsed": false
   },
   "outputs": [
    {
     "data": {
      "text/plain": [
       "True"
      ]
     },
     "execution_count": 125,
     "metadata": {},
     "output_type": "execute_result"
    }
   ],
   "source": [
    "issubclass(ValueError, Exception)"
   ]
  },
  {
   "cell_type": "markdown",
   "metadata": {},
   "source": [
    "Podemos criar nossas próprias exceções herdando de `Exception`:"
   ]
  },
  {
   "cell_type": "code",
   "execution_count": 126,
   "metadata": {
    "collapsed": true
   },
   "outputs": [],
   "source": [
    "class MeuErro(Exception):\n",
    "    pass"
   ]
  },
  {
   "cell_type": "code",
   "execution_count": 128,
   "metadata": {
    "collapsed": false
   },
   "outputs": [
    {
     "ename": "MeuErro",
     "evalue": "deu erro",
     "output_type": "error",
     "traceback": [
      "\u001b[1;31m---------------------------------------------------------------------------\u001b[0m",
      "\u001b[1;31mMeuErro\u001b[0m                                   Traceback (most recent call last)",
      "\u001b[1;32m<ipython-input-128-44bbb182b76a>\u001b[0m in \u001b[0;36m<module>\u001b[1;34m()\u001b[0m\n\u001b[1;32m----> 1\u001b[1;33m \u001b[1;32mraise\u001b[0m \u001b[0mMeuErro\u001b[0m\u001b[1;33m(\u001b[0m\u001b[1;34m'deu erro'\u001b[0m\u001b[1;33m)\u001b[0m\u001b[1;33m\u001b[0m\u001b[0m\n\u001b[0m",
      "\u001b[1;31mMeuErro\u001b[0m: deu erro"
     ]
    }
   ],
   "source": [
    "raise MeuErro('deu erro')"
   ]
  },
  {
   "cell_type": "markdown",
   "metadata": {},
   "source": [
    "Geralmente não precisamos sobreescreve métodos da superclasse `Exception`, pois muitas vezes criamos exceções para deixar o programa mais claro. Caso você queira criar um erro com novas funcionalidades consulte a [documentação de Exception](https://docs.python.org/3/library/exceptions.html#base-classes) e a [parte tutorial do python que fala sobre exceções](https://docs.python.org/3/tutorial/errors.html#user-defined-exceptions)."
   ]
  },
  {
   "cell_type": "markdown",
   "metadata": {},
   "source": [
    "#### Lidando com exceções\n",
    "\n",
    "É possível escrever programas que lidem com exceções:"
   ]
  },
  {
   "cell_type": "code",
   "execution_count": 4,
   "metadata": {
    "collapsed": false
   },
   "outputs": [
    {
     "ename": "ZeroDivisionError",
     "evalue": "division by zero",
     "output_type": "error",
     "traceback": [
      "\u001b[1;31m---------------------------------------------------------------------------\u001b[0m",
      "\u001b[1;31mZeroDivisionError\u001b[0m                         Traceback (most recent call last)",
      "\u001b[1;32m<ipython-input-4-b1158bff461f>\u001b[0m in \u001b[0;36m<module>\u001b[1;34m()\u001b[0m\n\u001b[0;32m      1\u001b[0m \u001b[0ma\u001b[0m\u001b[1;33m,\u001b[0m \u001b[0mb\u001b[0m \u001b[1;33m=\u001b[0m \u001b[1;36m10\u001b[0m\u001b[1;33m,\u001b[0m \u001b[1;36m0\u001b[0m\u001b[1;33m\u001b[0m\u001b[0m\n\u001b[1;32m----> 2\u001b[1;33m \u001b[0ma\u001b[0m \u001b[1;33m/\u001b[0m \u001b[0mb\u001b[0m\u001b[1;33m\u001b[0m\u001b[0m\n\u001b[0m",
      "\u001b[1;31mZeroDivisionError\u001b[0m: division by zero"
     ]
    }
   ],
   "source": [
    "a, b = 10, 0\n",
    "a / b"
   ]
  },
  {
   "cell_type": "code",
   "execution_count": 5,
   "metadata": {
    "collapsed": false
   },
   "outputs": [
    {
     "name": "stdout",
     "output_type": "stream",
     "text": [
      "Olha a divisão por zero aí mano!\n"
     ]
    }
   ],
   "source": [
    "try:\n",
    "    a / b\n",
    "except ZeroDivisionError:\n",
    "    print('Olha a divisão por zero aí mano!')"
   ]
  },
  {
   "cell_type": "markdown",
   "metadata": {},
   "source": [
    "Também é possível multiplicar múltiplas exceções a serem tratadas:"
   ]
  },
  {
   "cell_type": "code",
   "execution_count": 7,
   "metadata": {
    "collapsed": false
   },
   "outputs": [
    {
     "name": "stdout",
     "output_type": "stream",
     "text": [
      "Erro: tem que ver isso daí\n"
     ]
    }
   ],
   "source": [
    "b = \"0\"\n",
    "try:\n",
    "    a / b\n",
    "except (ZeroDivisionError, TypeError):\n",
    "    print('Erro: tem que ver isso daí')"
   ]
  },
  {
   "cell_type": "markdown",
   "metadata": {},
   "source": [
    "Porém lidar com exceções dessa maneira não é recomendado, pois isso pode omitir o nome da exceção e mascarar erros reais! Um jeito melhor de trabalhar com exceções é tratar cada uma de uma maneira:"
   ]
  },
  {
   "cell_type": "code",
   "execution_count": 13,
   "metadata": {
    "collapsed": false
   },
   "outputs": [
    {
     "name": "stdout",
     "output_type": "stream",
     "text": [
      "Algum tipo está errado\n"
     ]
    }
   ],
   "source": [
    "b = \"0\"\n",
    "try:\n",
    "    a / b\n",
    "except ZeroDivisionError:\n",
    "    print('Não é possível dividir por 0')\n",
    "except TypeError:\n",
    "    print('Algum tipo está errado')"
   ]
  },
  {
   "cell_type": "code",
   "execution_count": 12,
   "metadata": {
    "collapsed": false
   },
   "outputs": [
    {
     "name": "stdout",
     "output_type": "stream",
     "text": [
      "Não é possível dividir por 0\n"
     ]
    }
   ],
   "source": [
    "b = 0\n",
    "try:\n",
    "    a / b\n",
    "except ZeroDivisionError:\n",
    "    print('Não é possível dividir por 0')\n",
    "except TypeError:\n",
    "    print('Algum tipo está errado')"
   ]
  },
  {
   "cell_type": "markdown",
   "metadata": {},
   "source": [
    "É possível especificar uma variável para ser atribuída a uma exceção levantada e melhorar o tratamento do erro:"
   ]
  },
  {
   "cell_type": "code",
   "execution_count": 27,
   "metadata": {
    "collapsed": false
   },
   "outputs": [
    {
     "name": "stdout",
     "output_type": "stream",
     "text": [
      "<class 'KeyError'>\n",
      "('chave',)\n",
      "'chave'\n"
     ]
    }
   ],
   "source": [
    "a = {}\n",
    "try:\n",
    "    print(a['chave'])\n",
    "except KeyError as exc:\n",
    "    print(type(exc))  # imprime o tipo da exceção\n",
    "    print(exc.args)  # mostra a tupla de argumentos que a exceção recebeu\n",
    "    print(exc)  # imprime diretamente os argumento"
   ]
  },
  {
   "cell_type": "markdown",
   "metadata": {},
   "source": [
    "Para finalizar segue a lista de exceções padrão. A explicação de cada exceção está na [documentação](https://docs.python.org/3/library/exceptions.html#base-classes):\n",
    "\n",
    "```\n",
    "BaseException\n",
    " +-- SystemExit\n",
    " +-- KeyboardInterrupt\n",
    " +-- GeneratorExit\n",
    " +-- Exception\n",
    "      +-- StopIteration\n",
    "      +-- StopAsyncIteration\n",
    "      +-- ArithmeticError\n",
    "      |    +-- FloatingPointError\n",
    "      |    +-- OverflowError\n",
    "      |    +-- ZeroDivisionError\n",
    "      +-- AssertionError\n",
    "      +-- AttributeError\n",
    "      +-- BufferError\n",
    "      +-- EOFError\n",
    "      +-- ImportError\n",
    "      +-- LookupError\n",
    "      |    +-- IndexError\n",
    "      |    +-- KeyError\n",
    "      +-- MemoryError\n",
    "      +-- NameError\n",
    "      |    +-- UnboundLocalError\n",
    "      +-- OSError\n",
    "      |    +-- BlockingIOError\n",
    "      |    +-- ChildProcessError\n",
    "      |    +-- ConnectionError\n",
    "      |    |    +-- BrokenPipeError\n",
    "      |    |    +-- ConnectionAbortedError\n",
    "      |    |    +-- ConnectionRefusedError\n",
    "      |    |    +-- ConnectionResetError\n",
    "      |    +-- FileExistsError\n",
    "      |    +-- FileNotFoundError\n",
    "      |    +-- InterruptedError\n",
    "      |    +-- IsADirectoryError\n",
    "      |    +-- NotADirectoryError\n",
    "      |    +-- PermissionError\n",
    "      |    +-- ProcessLookupError\n",
    "      |    +-- TimeoutError\n",
    "      +-- ReferenceError\n",
    "      +-- RuntimeError\n",
    "      |    +-- NotImplementedError\n",
    "      |    +-- RecursionError\n",
    "      +-- SyntaxError\n",
    "      |    +-- IndentationError\n",
    "      |         +-- TabError\n",
    "      +-- SystemError\n",
    "      +-- TypeError\n",
    "      +-- ValueError\n",
    "      |    +-- UnicodeError\n",
    "      |         +-- UnicodeDecodeError\n",
    "      |         +-- UnicodeEncodeError\n",
    "      |         +-- UnicodeTranslateError\n",
    "      +-- Warning\n",
    "           +-- DeprecationWarning\n",
    "           +-- PendingDeprecationWarning\n",
    "           +-- RuntimeWarning\n",
    "           +-- SyntaxWarning\n",
    "           +-- UserWarning\n",
    "           +-- FutureWarning\n",
    "           +-- ImportWarning\n",
    "           +-- UnicodeWarning\n",
    "           +-- BytesWarning\n",
    "           +-- ResourceWarning\n",
    "```"
   ]
  },
  {
   "cell_type": "markdown",
   "metadata": {},
   "source": [
    "### Herança múltipla\n",
    "\n",
    "O Python oferece suporte a herança múltipla. A forma de usar herança múltipla é parecida com a herança simples, porém a subclasse herda de mais de uma classe, por exemplo:\n",
    "\n",
    "```py\n",
    "\n",
    "class Subclasse(Base1, Base2, Base3):\n",
    "    ...\n",
    "    ...\n",
    "```\n",
    "\n",
    "Algumas linguagens famosas não implementam herança múltipla como Java, C# e Ruby (elas possuem outras técnicas para prover essa funcionalidade), pois quando usada de forma incorreta pode resultar em sistemas ambíguos e difíceis de entender.\n",
    "\n",
    "Um problema muito comum de herança múltipla é o *Problema do losango*, em que aparece ambiguidade quando uma classe A implementa um método que é sobrescrito nas subclasses B e C e quando D, que não sobrescreveu esse método, invoca esse método qual deve ser chamado: o de C ou de D?\n",
    "\n",
    "![Diamond](img/diamond.png)\n",
    "\n",
    "Vamos fazer um exemplo que implementa o problema do losango e mostaremos como o Python o resolve:"
   ]
  },
  {
   "cell_type": "code",
   "execution_count": 3,
   "metadata": {
    "collapsed": true
   },
   "outputs": [],
   "source": [
    "class A:\n",
    "    def ping(self):\n",
    "        print('ping', self)\n",
    "\n",
    "class B(A):\n",
    "    def pong(self):\n",
    "        print('pong', self)\n",
    "\n",
    "class C(A):\n",
    "    def pong(self):\n",
    "        print('PONG', self)\n",
    "\n",
    "class D(B, C):\n",
    "    def ping(self):\n",
    "        super().ping()\n",
    "        print('post-ping:', self)\n",
    "        \n",
    "    def pingpong(self):\n",
    "        self.ping()\n",
    "        super().ping()\n",
    "        self.pong()\n",
    "        C.pong(self)"
   ]
  },
  {
   "cell_type": "code",
   "execution_count": 5,
   "metadata": {
    "collapsed": false
   },
   "outputs": [
    {
     "name": "stdout",
     "output_type": "stream",
     "text": [
      "pong <__main__.D object at 0x7f6bfcafb438>\n"
     ]
    }
   ],
   "source": [
    "d = D()\n",
    "d.pong()"
   ]
  },
  {
   "cell_type": "markdown",
   "metadata": {},
   "source": [
    "Como vemos, o método chamado pela instância da classe D foi `B.pong()`, p|odemos chamar explicitamente `C.pong()` passando a instância como argumento explícito:"
   ]
  },
  {
   "cell_type": "code",
   "execution_count": 6,
   "metadata": {
    "collapsed": false
   },
   "outputs": [
    {
     "name": "stdout",
     "output_type": "stream",
     "text": [
      "PONG <__main__.D object at 0x7f6bfcafb438>\n"
     ]
    }
   ],
   "source": [
    "C.pong(d)"
   ]
  },
  {
   "cell_type": "markdown",
   "metadata": {},
   "source": [
    "*Essa maneira de chamar métodos só é utilizando para resolver ambiguidade causada pela herança múltipla. O jeito recomendado de delegar chamadas de métodos a superclasses é usar a função embutida `super()`, pois é mais seguro e resistente a mudanças futuras, principalmente quando chamamos métodos em um framework ou em qualquer hierarquia de classes sobre a qual você não tenha controle.*"
   ]
  },
  {
   "cell_type": "markdown",
   "metadata": {},
   "source": [
    "Vamos ver como a função `D.ping()` se comporta:"
   ]
  },
  {
   "cell_type": "code",
   "execution_count": 34,
   "metadata": {
    "collapsed": false
   },
   "outputs": [
    {
     "name": "stdout",
     "output_type": "stream",
     "text": [
      "ping <__main__.D object at 0x7fcddcd2bd68>\n",
      "post-ping: <__main__.D object at 0x7fcddcd2bd68>\n"
     ]
    }
   ],
   "source": [
    "d.ping()"
   ]
  },
  {
   "cell_type": "markdown",
   "metadata": {},
   "source": [
    "`d.ping()` chamou a função `A.ping()` (que imprimiu `ping`) e imprimiu `post-ping` "
   ]
  },
  {
   "cell_type": "markdown",
   "metadata": {},
   "source": [
    "Agora vamos analisar as chamadas do método `pingpong`:"
   ]
  },
  {
   "cell_type": "code",
   "execution_count": 35,
   "metadata": {
    "collapsed": false
   },
   "outputs": [
    {
     "name": "stdout",
     "output_type": "stream",
     "text": [
      "ping <__main__.D object at 0x7fcddcd2bd68>\n",
      "post-ping: <__main__.D object at 0x7fcddcd2bd68>\n",
      "ping <__main__.D object at 0x7fcddcd2bd68>\n",
      "pong <__main__.D object at 0x7fcddcd2bd68>\n",
      "PONG <__main__.D object at 0x7fcddcd2bd68>\n"
     ]
    }
   ],
   "source": [
    "d.pingpong()"
   ]
  },
  {
   "cell_type": "markdown",
   "metadata": {},
   "source": [
    "Primeiro foi chamado `D.ping()` que chama `A.ping()` e imprime post-ping\n",
    "\n",
    "Depois foi chamado `super().ping()` que chama somente `A.ping()`\n",
    "\n",
    "Foi chamado `super().pong()` que chamou `B.pong()`\n",
    "\n",
    "E, por fim, `C.pong(self)` foi chamado diretamente, passando a instância de `D`."
   ]
  },
  {
   "cell_type": "markdown",
   "metadata": {},
   "source": [
    "Agora que entendemos como esse exemplo do problema do diagrama é rodado, podemos falar sobre como o Python resolve essa ambiguidade: percorrendo o grafo de herança de uma forma específica: o MRO - Method Resolution Order ou Ordem de Resolução dos Métodos.\n",
    "\n",
    "O Python procura o método na própria classe, depois em cada superclasse (sem repetição, caso exista haja sobreposição na hierarquia) da esquerda para a direita, depois procura nas superclasses da superclasses da esquerda para direita até chegar a `object` (herdado por todas as classes).\n",
    "\n",
    "Todos os objetos das classes possuem um atributo chamado `__mro__` que apresenta uma tupla de referências às superclasses na ordem MRO, da classe atual até a classe `object`. Vamos ver qual é o MRO da classe `D`:"
   ]
  },
  {
   "cell_type": "code",
   "execution_count": 18,
   "metadata": {
    "collapsed": false
   },
   "outputs": [
    {
     "data": {
      "text/plain": [
       "(__main__.D, __main__.B, __main__.C, __main__.A, object)"
      ]
     },
     "execution_count": 18,
     "metadata": {},
     "output_type": "execute_result"
    }
   ],
   "source": [
    "D.__mro__"
   ]
  },
  {
   "cell_type": "markdown",
   "metadata": {},
   "source": [
    "Aqui comprovamos o que foi dito anteriormente: primeiro um atributo é buscado na seguinte ordem: D, B, C, A e object.\n",
    "\n",
    "Vamos inspecionar o atributo `__mro__` de outras classes:"
   ]
  },
  {
   "cell_type": "code",
   "execution_count": 36,
   "metadata": {
    "collapsed": false
   },
   "outputs": [
    {
     "data": {
      "text/plain": [
       "(bool, int, object)"
      ]
     },
     "execution_count": 36,
     "metadata": {},
     "output_type": "execute_result"
    }
   ],
   "source": [
    "bool.__mro__"
   ]
  },
  {
   "cell_type": "code",
   "execution_count": 40,
   "metadata": {
    "collapsed": false
   },
   "outputs": [
    {
     "data": {
      "text/plain": [
       "(numbers.Integral,\n",
       " numbers.Rational,\n",
       " numbers.Real,\n",
       " numbers.Complex,\n",
       " numbers.Number,\n",
       " object)"
      ]
     },
     "execution_count": 40,
     "metadata": {},
     "output_type": "execute_result"
    }
   ],
   "source": [
    "from numbers import Integral\n",
    "Integral.__mro__"
   ]
  },
  {
   "cell_type": "code",
   "execution_count": 41,
   "metadata": {
    "collapsed": false
   },
   "outputs": [
    {
     "data": {
      "text/plain": [
       "(_io.StringIO, _io._TextIOBase, _io._IOBase, object)"
      ]
     },
     "execution_count": 41,
     "metadata": {},
     "output_type": "execute_result"
    }
   ],
   "source": [
    "from io import StringIO\n",
    "StringIO.__mro__"
   ]
  },
  {
   "cell_type": "markdown",
   "metadata": {},
   "source": [
    "#### Lidando com herança múltipla\n",
    "\n",
    "Como dito anteriormente a herança múltipla pode tornar o código de um software muito complicado e frágil. A seguir consta algumas dicas para deixar grafos de classes mais simples:\n",
    "\n",
    "- Faça a distinção entre herança de interface (para criar um subtipo, implicando em uma relação \"é um\") e herança de implementação (para evitar duplicação de código por meio de reutilização)\n",
    "\n",
    "- Deixe as interfaces explícitas com ABCs\n",
    "\n",
    "- Use mixins e explicite as mixins pelo nome\n",
    "\n",
    "- Uma ABC pode ser um mixin, mas não o contrário\n",
    "\n",
    "- Não herde de mais de uma classe concreta\n",
    "\n",
    "- Ofereça classes agregadas aos usuários\n",
    "\n",
    "- \"Prefira composição de objetos à herança de classe\" (GoF, Padrões de Projeto)\n",
    "\n",
    "\n",
    "#### Mixins\n",
    "\n",
    "\"Mixin é uma classe que provê funcionalidade para ser herdada, mas não instanciada sozinha. [...]\n",
    "pode ser usada para melhorar funcionalidades e comportamentos de classes\" (Greenfield e Greenfield, Two Scoops of Django 1.8)\n",
    "\n",
    "Regra de uso de mixins:\n",
    "1. A classe base deve estar sempre a direita\n",
    "2. Os mixins devem estar a esquerda da classe base\n",
    "3. As classes e mixins devem herdar de object (isso já é feito por padrão no Python 3)"
   ]
  },
  {
   "cell_type": "markdown",
   "metadata": {},
   "source": [
    "#### Herança múltipla na prática: Django\n",
    "\n",
    "O django é um framework web Python muito popular. Ele facilita a criação de views oferecendo views genéricas baseadas em classe - as Class Based Views (CBV - que implementam tarefas comuns na criação de sistema webs como listar objetos, exibir páginas estáticas e criar views de redirecionamento. \n",
    "\n",
    "As Class Based Views foram criadas usando herança múltipla e seguem as dicas citadas acima. Abaixo segue o Diagrama de Classes para podermos entender como a herança múltipla pode ser usada de maneira positiva na prática:"
   ]
  },
  {
   "cell_type": "markdown",
   "metadata": {},
   "source": [
    "##### TemplateView e RedirectView\n",
    "\n",
    "A `TemplateView` exibe o conteúdo de uma página estática. Enquanto que o `RedirectView` simplesmente redireciona uma página para outra.\n",
    "\n",
    "![](img/base.png)\n",
    "\n",
    "Vamos ver como o python resolve a herança de `TemplateView` verificando seu atributo `__mro__`:"
   ]
  },
  {
   "cell_type": "code",
   "execution_count": 4,
   "metadata": {
    "collapsed": false
   },
   "outputs": [
    {
     "data": {
      "text/plain": [
       "(django.views.generic.base.TemplateView,\n",
       " django.views.generic.base.TemplateResponseMixin,\n",
       " django.views.generic.base.ContextMixin,\n",
       " django.views.generic.base.View,\n",
       " object)"
      ]
     },
     "execution_count": 4,
     "metadata": {},
     "output_type": "execute_result"
    }
   ],
   "source": [
    "from django.views.generic import TemplateView\n",
    "\n",
    "TemplateView.__mro__"
   ]
  },
  {
   "cell_type": "markdown",
   "metadata": {},
   "source": [
    "Agora verificaremos o `RedirectView.__mro__`:"
   ]
  },
  {
   "cell_type": "code",
   "execution_count": 5,
   "metadata": {
    "collapsed": false
   },
   "outputs": [
    {
     "data": {
      "text/plain": [
       "(django.views.generic.base.RedirectView,\n",
       " django.views.generic.base.View,\n",
       " object)"
      ]
     },
     "execution_count": 5,
     "metadata": {},
     "output_type": "execute_result"
    }
   ],
   "source": [
    "from django.views.generic import RedirectView\n",
    "\n",
    "RedirectView.__mro__"
   ]
  },
  {
   "cell_type": "markdown",
   "metadata": {},
   "source": [
    "##### DetailView\n",
    "\n",
    "A `DetailView` cria uma página para exibição da informação de um único modelo. Por exemplo podemos utilizá-la em um e-commerce para facilitar a criação de uma página que exibe as informações de apenas um produto.\n",
    "\n",
    "![](img/detail.png)"
   ]
  },
  {
   "cell_type": "code",
   "execution_count": 6,
   "metadata": {
    "collapsed": false
   },
   "outputs": [
    {
     "data": {
      "text/plain": [
       "(django.views.generic.detail.DetailView,\n",
       " django.views.generic.detail.SingleObjectTemplateResponseMixin,\n",
       " django.views.generic.base.TemplateResponseMixin,\n",
       " django.views.generic.detail.BaseDetailView,\n",
       " django.views.generic.detail.SingleObjectMixin,\n",
       " django.views.generic.base.ContextMixin,\n",
       " django.views.generic.base.View,\n",
       " object)"
      ]
     },
     "execution_count": 6,
     "metadata": {},
     "output_type": "execute_result"
    }
   ],
   "source": [
    "from django.views.generic import DetailView\n",
    "\n",
    "DetailView.__mro__"
   ]
  },
  {
   "cell_type": "markdown",
   "metadata": {},
   "source": [
    "##### ListView\n",
    "\n",
    "A `ListView` - favorita dos usuários de CBV - facilita a criação de views que permitem a listagem de modelos. Como por exemplo a listagem de todos os produtos do site (ou de apenas os de algum tipo, categoria etc.).\n",
    "\n",
    "![](img/list.png)"
   ]
  },
  {
   "cell_type": "code",
   "execution_count": 7,
   "metadata": {
    "collapsed": false
   },
   "outputs": [
    {
     "data": {
      "text/plain": [
       "(django.views.generic.list.ListView,\n",
       " django.views.generic.list.MultipleObjectTemplateResponseMixin,\n",
       " django.views.generic.base.TemplateResponseMixin,\n",
       " django.views.generic.list.BaseListView,\n",
       " django.views.generic.list.MultipleObjectMixin,\n",
       " django.views.generic.base.ContextMixin,\n",
       " django.views.generic.base.View,\n",
       " object)"
      ]
     },
     "execution_count": 7,
     "metadata": {},
     "output_type": "execute_result"
    }
   ],
   "source": [
    "from django.views.generic import ListView\n",
    "\n",
    "ListView.__mro__"
   ]
  },
  {
   "cell_type": "markdown",
   "metadata": {},
   "source": [
    "##### DeleteView\n",
    "\n",
    "Por fim temos a `DeleteView` que permite a remoção de um modelo.\n",
    "\n",
    "![](img/delete.png)\n"
   ]
  },
  {
   "cell_type": "code",
   "execution_count": 8,
   "metadata": {
    "collapsed": false
   },
   "outputs": [
    {
     "data": {
      "text/plain": [
       "(django.views.generic.edit.DeleteView,\n",
       " django.views.generic.detail.SingleObjectTemplateResponseMixin,\n",
       " django.views.generic.base.TemplateResponseMixin,\n",
       " django.views.generic.edit.BaseDeleteView,\n",
       " django.views.generic.edit.DeletionMixin,\n",
       " django.views.generic.detail.BaseDetailView,\n",
       " django.views.generic.detail.SingleObjectMixin,\n",
       " django.views.generic.base.ContextMixin,\n",
       " django.views.generic.base.View,\n",
       " object)"
      ]
     },
     "execution_count": 8,
     "metadata": {},
     "output_type": "execute_result"
    }
   ],
   "source": [
    "from django.views.generic import DeleteView\n",
    "\n",
    "DeleteView.__mro__"
   ]
  },
  {
   "cell_type": "markdown",
   "metadata": {
    "collapsed": true
   },
   "source": [
    "**Fim da aula 02**"
   ]
  }
 ],
 "metadata": {
  "kernelspec": {
   "display_name": "Python 3",
   "language": "python",
   "name": "python3"
  },
  "language_info": {
   "codemirror_mode": {
    "name": "ipython",
    "version": 3
   },
   "file_extension": ".py",
   "mimetype": "text/x-python",
   "name": "python",
   "nbconvert_exporter": "python",
   "pygments_lexer": "ipython3",
   "version": "3.5.1+"
  }
 },
 "nbformat": 4,
 "nbformat_minor": 0
}
