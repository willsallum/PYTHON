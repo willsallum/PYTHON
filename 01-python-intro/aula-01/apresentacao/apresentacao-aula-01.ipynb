{
 "cells": [
  {
   "cell_type": "markdown",
   "metadata": {
    "slideshow": {
     "slide_type": "slide"
    }
   },
   "source": [
    "# [Py-Intro] Aula 01: Introdução\n",
    "\n",
    "### O que você vai aprender nesta aula?\n",
    "\n",
    "- Informações úteis sobre Python\n",
    "- Instalar o python\n",
    "- O que é o Jupyter Notebook, como instalá-lo e rodá-lo\n",
    "- Usar o ambiente virtual\n",
    "- Instalar bibliotecas com pip\n",
    "- Acessar páginas web usando Python\n",
    "- Estruturas de dados do Python\n",
    "    - listas\n",
    "    - dicionários\n"
   ]
  },
  {
   "cell_type": "markdown",
   "metadata": {
    "slideshow": {
     "slide_type": "slide"
    }
   },
   "source": [
    "# Python\n",
    "\n",
    "- Python é simples, enxuta e poderosa\n",
    "- Pilhas inclusas\n",
    "- Interpretada e dinâmica\n",
    "- Criada em 1991\n",
    "    - Antes de Java, Ruby, PHP, Javascript, C#, HTML e CSS\n",
    "- **Comunidade ativa e amigável**"
   ]
  },
  {
   "cell_type": "code",
   "execution_count": 1,
   "metadata": {
    "collapsed": false,
    "scrolled": false,
    "slideshow": {
     "slide_type": "slide"
    }
   },
   "outputs": [
    {
     "name": "stdout",
     "output_type": "stream",
     "text": [
      "The Zen of Python, by Tim Peters\n",
      "\n",
      "Beautiful is better than ugly.\n",
      "Explicit is better than implicit.\n",
      "Simple is better than complex.\n",
      "Complex is better than complicated.\n",
      "Flat is better than nested.\n",
      "Sparse is better than dense.\n",
      "Readability counts.\n",
      "Special cases aren't special enough to break the rules.\n",
      "Although practicality beats purity.\n",
      "Errors should never pass silently.\n",
      "Unless explicitly silenced.\n",
      "In the face of ambiguity, refuse the temptation to guess.\n",
      "There should be one-- and preferably only one --obvious way to do it.\n",
      "Although that way may not be obvious at first unless you're Dutch.\n",
      "Now is better than never.\n",
      "Although never is often better than *right* now.\n",
      "If the implementation is hard to explain, it's a bad idea.\n",
      "If the implementation is easy to explain, it may be a good idea.\n",
      "Namespaces are one honking great idea -- let's do more of those!\n"
     ]
    }
   ],
   "source": [
    "import this"
   ]
  },
  {
   "cell_type": "markdown",
   "metadata": {
    "slideshow": {
     "slide_type": "slide"
    }
   },
   "source": [
    "# Aplicações do Python\n",
    "\n",
    "## Web\n",
    "- Django, Flask, Bottle, web2py, Pyramid, twisted, tornado\n",
    "\n",
    "## Programação científica\n",
    "- Numpy, Scipy, scikit-learn, Juyter Notebook, matplotlib\n",
    "\n",
    "## Desktop\n",
    "- PyQT, PyGTK, WxPython, kivy, tkinter\n",
    "\n",
    "## Cinema\n",
    "- Autodesk Maya, Blender, Nuke, ILM"
   ]
  },
  {
   "cell_type": "markdown",
   "metadata": {
    "slideshow": {
     "slide_type": "slide"
    }
   },
   "source": [
    "# Aplicações do Python\n",
    "\n",
    "## InfoSec (Information Security)\n",
    "- Scapy\n",
    "\n",
    "## Interet of Things\n",
    "- MicroPython\n",
    "\n",
    "## Educação\n",
    "- \"Python is Now the Most Popular Introductory Teaching Language at Top U.S. Universities\" [(ACM, 2014)]()\n",
    "- \"BBC begins to delivery 1 millions small programmable devices [...] called BBC micro:bit and [...] runs MicroPython.\" [(PSF, 2014)](http://pyfound.blogspot.com.br/2016/03/a-million-children.html)"
   ]
  },
  {
   "cell_type": "markdown",
   "metadata": {
    "slideshow": {
     "slide_type": "slide"
    }
   },
   "source": [
    "# PyCon 2015\n",
    "\n",
    "![Patrocinadores PyCon 2015 (1)](pycon2015-1.png)"
   ]
  },
  {
   "cell_type": "markdown",
   "metadata": {
    "slideshow": {
     "slide_type": "slide"
    }
   },
   "source": [
    "# PyCon 2015\n",
    "\n",
    "![Patrocinadores PyCon 2015 (2)](pycon2015-2.png)"
   ]
  },
  {
   "cell_type": "markdown",
   "metadata": {
    "slideshow": {
     "slide_type": "slide"
    }
   },
   "source": [
    "# Instalando o Python 3.5\n",
    "\n",
    "### Debian e derivados (ubuntu, mint etc.)\n",
    "    $ sudo apt-get install python3.5\n",
    "### Windows e OS X\n",
    "\n",
    "- https://www.python.org/downloads/"
   ]
  },
  {
   "cell_type": "markdown",
   "metadata": {
    "slideshow": {
     "slide_type": "slide"
    }
   },
   "source": [
    "# Instalando o Python 3.5\n",
    "\n",
    "### Windows\n",
    "\n",
    "Não esqueça de marcar a opção **\"Add Python.exe to Path\"**\n",
    "\n",
    "![Instalando o Python no Windows](http://tutorial.djangogirls.org/pt/python_installation/images/add_python_to_windows_path.png)\n",
    "<center>(imagem retirada do [Django Girls Tutorial](http://tutorial.djangogirls.org/pt/))</center>"
   ]
  },
  {
   "cell_type": "markdown",
   "metadata": {
    "slideshow": {
     "slide_type": "slide"
    }
   },
   "source": [
    "# Virtualenv (Ambiente virtual)\n",
    "\n",
    "## Instalando o virtualenv\n",
    "\n",
    "### Linux e MacOS\n",
    "    $ python3 -m venv env\n",
    "### Windows\n",
    "    > C:\\Python3.5\\python -m venv env"
   ]
  },
  {
   "cell_type": "markdown",
   "metadata": {
    "slideshow": {
     "slide_type": "slide"
    }
   },
   "source": [
    "# Virtualenv (Ambiente virtual)\n",
    "\n",
    "\n",
    "## Ativando o virtualenv\n",
    "\n",
    "### Linux e MacOS\n",
    "    $ source env/bin/activate\n",
    "### Windows\n",
    "    > env\\Scripts\\activate  \n",
    "Para sair de um ambiente virtual use o comando `deactivate`."
   ]
  },
  {
   "cell_type": "markdown",
   "metadata": {
    "slideshow": {
     "slide_type": "slide"
    }
   },
   "source": [
    "# Instalando pacotes com o pip\n",
    "\n",
    "- O pip permite instalar pacotes Python do [PyPI](http://pypi.python.org/))\n",
    "- pip significa \"**p**ip **i**nstall **packages**\" (ou pip instala pacotes).\n",
    "\n",
    "### Como instalar\n",
    "(funciona no Linux, Mac e Windows)\n",
    "    (env) $ pip install requests"
   ]
  },
  {
   "cell_type": "markdown",
   "metadata": {
    "slideshow": {
     "slide_type": "slide"
    }
   },
   "source": [
    "# Jupyter Notebook\n",
    "\n",
    "- Aplicação web que permite a criação de documentos com:\n",
    "    - Código ao vivo\n",
    "    - Equações\n",
    "    - Gráficos\n",
    "    - Textos em Markdown ou Latex\n",
    "    \n",
    "- É muito utilizado em:\n",
    "    - Transformação de dados\n",
    "    - Modelagem estatística\n",
    "    - Simulação numérica\n",
    "    - Aprendizado de máquina\n",
    "    - Ensino"
   ]
  },
  {
   "cell_type": "markdown",
   "metadata": {
    "slideshow": {
     "slide_type": "slide"
    }
   },
   "source": [
    "# Jupyter Notebook\n",
    "\n",
    "### Instalando\n",
    "    (env) $ pip install jupyter[notebook]\n",
    "### Executando\n",
    "\n",
    "- Baixe o arquivo `[Py-Intro] Aula 01 - Instalando...` em sua máquina na mesma pasta que se encontra o `env/`\n",
    "- Rode o comando a seguir nessa mesma pasta\n",
    "    (env) $ jupyter notebook\n",
    "Após um tempo será aberto o navegador com o índice de notebooks"
   ]
  }
 ],
 "metadata": {
  "celltoolbar": "Slideshow",
  "kernelspec": {
   "display_name": "Python 3",
   "language": "python",
   "name": "python3"
  },
  "language_info": {
   "codemirror_mode": {
    "name": "ipython",
    "version": 3
   },
   "file_extension": ".py",
   "mimetype": "text/x-python",
   "name": "python",
   "nbconvert_exporter": "python",
   "pygments_lexer": "ipython3",
   "version": "3.5.0+"
  }
 },
 "nbformat": 4,
 "nbformat_minor": 0
}
