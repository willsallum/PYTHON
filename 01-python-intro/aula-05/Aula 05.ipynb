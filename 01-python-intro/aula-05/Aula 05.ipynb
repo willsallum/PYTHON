{
 "cells": [
  {
   "cell_type": "markdown",
   "metadata": {},
   "source": [
    "# [Py-Intro] Aula 05\n",
    "\n",
    "## Funções e arquivos\n",
    "\n",
    "### O que você vai aprender nesta aula?\n",
    "\n",
    "- Funções\n",
    "    - Definir nções\n",
    "    - Funções como objetos\n",
    "    - Argumentos padrão\n",
    "    - Invocar funções pelos nomes dos argumentos (keyword arguments)\n",
    "    - Empacotamento e desempacotamento de argumentos\n",
    "\n",
    "- Arquivos\n",
    "    - Como ler e escrever arquivos\n",
    "    - Trabalhando com arquivos CSV (Comma-separated values)"
   ]
  },
  {
   "cell_type": "markdown",
   "metadata": {},
   "source": [
    "# Funções\n",
    "\n",
    "### Definindo funções\n",
    "\n",
    "Nas aulas anteriores já usamos e definimos muitas funções. Nesta aula revisaremos como essas coisas acontecem e aprofundaremos o assunto."
   ]
  },
  {
   "cell_type": "code",
   "execution_count": 1,
   "metadata": {
    "collapsed": true
   },
   "outputs": [],
   "source": [
    "def dobra(x):\n",
    "    return x * 2"
   ]
  },
  {
   "cell_type": "code",
   "execution_count": 2,
   "metadata": {
    "collapsed": false
   },
   "outputs": [
    {
     "data": {
      "text/plain": [
       "20"
      ]
     },
     "execution_count": 2,
     "metadata": {},
     "output_type": "execute_result"
    }
   ],
   "source": [
    "dobra(10)"
   ]
  },
  {
   "cell_type": "markdown",
   "metadata": {},
   "source": [
    "Vale notar que o Python não faz checagem de tipos, então podemos usar nossa função `dobra()` com outros tipos de argumentos:"
   ]
  },
  {
   "cell_type": "code",
   "execution_count": 9,
   "metadata": {
    "collapsed": false
   },
   "outputs": [
    {
     "data": {
      "text/plain": [
       "'dodo'"
      ]
     },
     "execution_count": 9,
     "metadata": {},
     "output_type": "execute_result"
    }
   ],
   "source": [
    "dobra('do')"
   ]
  },
  {
   "cell_type": "code",
   "execution_count": 10,
   "metadata": {
    "collapsed": false
   },
   "outputs": [
    {
     "data": {
      "text/plain": [
       "[1, 2, 3, 1, 2, 3]"
      ]
     },
     "execution_count": 10,
     "metadata": {},
     "output_type": "execute_result"
    }
   ],
   "source": [
    "dobra([1, 2, 3])"
   ]
  },
  {
   "cell_type": "markdown",
   "metadata": {},
   "source": [
    "Uma função pode receber mais de um parâmetro:"
   ]
  },
  {
   "cell_type": "code",
   "execution_count": 16,
   "metadata": {
    "collapsed": true
   },
   "outputs": [],
   "source": [
    "def soma(a, b, c, d):\n",
    "    return a + b + c + d"
   ]
  },
  {
   "cell_type": "code",
   "execution_count": 17,
   "metadata": {
    "collapsed": false
   },
   "outputs": [
    {
     "data": {
      "text/plain": [
       "10"
      ]
     },
     "execution_count": 17,
     "metadata": {},
     "output_type": "execute_result"
    }
   ],
   "source": [
    "soma(1, 2, 3, 4)"
   ]
  },
  {
   "cell_type": "code",
   "execution_count": 19,
   "metadata": {
    "collapsed": false
   },
   "outputs": [
    {
     "data": {
      "text/plain": [
       "'hoje'"
      ]
     },
     "execution_count": 19,
     "metadata": {},
     "output_type": "execute_result"
    }
   ],
   "source": [
    "soma('h', 'o', 'j', 'e')"
   ]
  },
  {
   "cell_type": "markdown",
   "metadata": {},
   "source": [
    "A documentação de funções é feita utilizando `docstring`. Docstring são lorem ipsum dolor sit amet:"
   ]
  },
  {
   "cell_type": "code",
   "execution_count": 22,
   "metadata": {
    "collapsed": true
   },
   "outputs": [],
   "source": [
    "def fatorial(n):\n",
    "    \"\"\" Retorna o fatorial de n (n!)\"\"\"\n",
    "    return 1 if n < 1 else n * fatorial(n - 1)"
   ]
  },
  {
   "cell_type": "code",
   "execution_count": 25,
   "metadata": {
    "collapsed": false
   },
   "outputs": [
    {
     "data": {
      "text/plain": [
       "(6, 24, 120)"
      ]
     },
     "execution_count": 25,
     "metadata": {},
     "output_type": "execute_result"
    }
   ],
   "source": [
    "fatorial(3), fatorial(4), fatorial(5)"
   ]
  },
  {
   "cell_type": "markdown",
   "metadata": {},
   "source": [
    "### Funções como objetos\n",
    "\n",
    "Funções em python podem ser tratadas como outros objetos (no jargão formal diz-se que funções são objetos de primeira classe)"
   ]
  },
  {
   "cell_type": "code",
   "execution_count": 26,
   "metadata": {
    "collapsed": false
   },
   "outputs": [
    {
     "data": {
      "text/plain": [
       "(6, 24, 120)"
      ]
     },
     "execution_count": 26,
     "metadata": {},
     "output_type": "execute_result"
    }
   ],
   "source": [
    "fat = fatorial\n",
    "fat(3), fat(4), fat(5)"
   ]
  },
  {
   "cell_type": "code",
   "execution_count": 27,
   "metadata": {
    "collapsed": false
   },
   "outputs": [
    {
     "data": {
      "text/plain": [
       "<function __main__.fatorial>"
      ]
     },
     "execution_count": 27,
     "metadata": {},
     "output_type": "execute_result"
    }
   ],
   "source": [
    "fat"
   ]
  },
  {
   "cell_type": "code",
   "execution_count": 28,
   "metadata": {
    "collapsed": false
   },
   "outputs": [
    {
     "data": {
      "text/plain": [
       "function"
      ]
     },
     "execution_count": 28,
     "metadata": {},
     "output_type": "execute_result"
    }
   ],
   "source": [
    "type(fat)"
   ]
  },
  {
   "cell_type": "markdown",
   "metadata": {},
   "source": [
    "É possível acessar atributos desse objeto function:"
   ]
  },
  {
   "cell_type": "code",
   "execution_count": 29,
   "metadata": {
    "collapsed": false
   },
   "outputs": [
    {
     "data": {
      "text/plain": [
       "' Retorna o fatorial de n (n!)'"
      ]
     },
     "execution_count": 29,
     "metadata": {},
     "output_type": "execute_result"
    }
   ],
   "source": [
    "fat.__doc__"
   ]
  },
  {
   "cell_type": "markdown",
   "metadata": {},
   "source": [
    "Para conhecermos os atributos e métodos de um objeto `function` podemos usar a função `dir()` que retorna os métodos atributos de um objeto"
   ]
  },
  {
   "cell_type": "code",
   "execution_count": 30,
   "metadata": {
    "collapsed": false
   },
   "outputs": [
    {
     "data": {
      "text/plain": [
       "['__annotations__',\n",
       " '__call__',\n",
       " '__class__',\n",
       " '__closure__',\n",
       " '__code__',\n",
       " '__defaults__',\n",
       " '__delattr__',\n",
       " '__dict__',\n",
       " '__dir__',\n",
       " '__doc__',\n",
       " '__eq__',\n",
       " '__format__',\n",
       " '__ge__',\n",
       " '__get__',\n",
       " '__getattribute__',\n",
       " '__globals__',\n",
       " '__gt__',\n",
       " '__hash__',\n",
       " '__init__',\n",
       " '__kwdefaults__',\n",
       " '__le__',\n",
       " '__lt__',\n",
       " '__module__',\n",
       " '__name__',\n",
       " '__ne__',\n",
       " '__new__',\n",
       " '__qualname__',\n",
       " '__reduce__',\n",
       " '__reduce_ex__',\n",
       " '__repr__',\n",
       " '__setattr__',\n",
       " '__sizeof__',\n",
       " '__str__',\n",
       " '__subclasshook__']"
      ]
     },
     "execution_count": 30,
     "metadata": {},
     "output_type": "execute_result"
    }
   ],
   "source": [
    "dir(fat)"
   ]
  },
  {
   "cell_type": "markdown",
   "metadata": {},
   "source": [
    "Os métodos e atributos envoltos em \\__ são conhecidos como Métodos Mágicos ou Métodos Dunder (Double UNDERline) e serão vistos no minicurso de Orientação a Objetos"
   ]
  },
  {
   "cell_type": "code",
   "execution_count": 31,
   "metadata": {
    "collapsed": false
   },
   "outputs": [
    {
     "data": {
      "text/plain": [
       "'fatorial'"
      ]
     },
     "execution_count": 31,
     "metadata": {},
     "output_type": "execute_result"
    }
   ],
   "source": [
    "fat.__name__"
   ]
  },
  {
   "cell_type": "code",
   "execution_count": 32,
   "metadata": {
    "collapsed": false
   },
   "outputs": [
    {
     "data": {
      "text/plain": [
       "' Retorna o fatorial de n (n!)'"
      ]
     },
     "execution_count": 32,
     "metadata": {},
     "output_type": "execute_result"
    }
   ],
   "source": [
    "fat.__doc__"
   ]
  },
  {
   "cell_type": "markdown",
   "metadata": {},
   "source": [
    "É possível acessar o metadados e o bytecode dessas funções:"
   ]
  },
  {
   "cell_type": "code",
   "execution_count": 33,
   "metadata": {
    "collapsed": false
   },
   "outputs": [
    {
     "data": {
      "text/plain": [
       "<code object fatorial at 0x7f185c2acc90, file \"<ipython-input-22-6cb648e23c5e>\", line 1>"
      ]
     },
     "execution_count": 33,
     "metadata": {},
     "output_type": "execute_result"
    }
   ],
   "source": [
    "fat.__code__"
   ]
  },
  {
   "cell_type": "code",
   "execution_count": 34,
   "metadata": {
    "collapsed": false
   },
   "outputs": [
    {
     "data": {
      "text/plain": [
       "['__class__',\n",
       " '__delattr__',\n",
       " '__dir__',\n",
       " '__doc__',\n",
       " '__eq__',\n",
       " '__format__',\n",
       " '__ge__',\n",
       " '__getattribute__',\n",
       " '__gt__',\n",
       " '__hash__',\n",
       " '__init__',\n",
       " '__le__',\n",
       " '__lt__',\n",
       " '__ne__',\n",
       " '__new__',\n",
       " '__reduce__',\n",
       " '__reduce_ex__',\n",
       " '__repr__',\n",
       " '__setattr__',\n",
       " '__sizeof__',\n",
       " '__str__',\n",
       " '__subclasshook__',\n",
       " 'co_argcount',\n",
       " 'co_cellvars',\n",
       " 'co_code',\n",
       " 'co_consts',\n",
       " 'co_filename',\n",
       " 'co_firstlineno',\n",
       " 'co_flags',\n",
       " 'co_freevars',\n",
       " 'co_kwonlyargcount',\n",
       " 'co_lnotab',\n",
       " 'co_name',\n",
       " 'co_names',\n",
       " 'co_nlocals',\n",
       " 'co_stacksize',\n",
       " 'co_varnames']"
      ]
     },
     "execution_count": 34,
     "metadata": {},
     "output_type": "execute_result"
    }
   ],
   "source": [
    "dir(fat.__code__)"
   ]
  },
  {
   "cell_type": "code",
   "execution_count": 38,
   "metadata": {
    "collapsed": false
   },
   "outputs": [
    {
     "data": {
      "text/plain": [
       "'fatorial'"
      ]
     },
     "execution_count": 38,
     "metadata": {},
     "output_type": "execute_result"
    }
   ],
   "source": [
    "fat.__code__.co_name"
   ]
  },
  {
   "cell_type": "code",
   "execution_count": 40,
   "metadata": {
    "collapsed": false
   },
   "outputs": [
    {
     "data": {
      "text/plain": [
       "('n',)"
      ]
     },
     "execution_count": 40,
     "metadata": {},
     "output_type": "execute_result"
    }
   ],
   "source": [
    "fat.__code__.co_varnames"
   ]
  },
  {
   "cell_type": "markdown",
   "metadata": {},
   "source": [
    "Bytecode:"
   ]
  },
  {
   "cell_type": "code",
   "execution_count": 41,
   "metadata": {
    "collapsed": false
   },
   "outputs": [
    {
     "data": {
      "text/plain": [
       "b'|\\x00\\x00d\\x01\\x00k\\x00\\x00r\\x10\\x00d\\x01\\x00S|\\x00\\x00t\\x00\\x00|\\x00\\x00d\\x01\\x00\\x18\\x83\\x01\\x00\\x14S'"
      ]
     },
     "execution_count": 41,
     "metadata": {},
     "output_type": "execute_result"
    }
   ],
   "source": [
    "fat.__code__.co_code"
   ]
  },
  {
   "cell_type": "code",
   "execution_count": 42,
   "metadata": {
    "collapsed": false
   },
   "outputs": [
    {
     "name": "stdout",
     "output_type": "stream",
     "text": [
      "  3           0 LOAD_FAST                0 (n)\n",
      "              3 LOAD_CONST               1 (1)\n",
      "              6 COMPARE_OP               0 (<)\n",
      "              9 POP_JUMP_IF_FALSE       16\n",
      "             12 LOAD_CONST               1 (1)\n",
      "             15 RETURN_VALUE\n",
      "        >>   16 LOAD_FAST                0 (n)\n",
      "             19 LOAD_GLOBAL              0 (fatorial)\n",
      "             22 LOAD_FAST                0 (n)\n",
      "             25 LOAD_CONST               1 (1)\n",
      "             28 BINARY_SUBTRACT\n",
      "             29 CALL_FUNCTION            1 (1 positional, 0 keyword pair)\n",
      "             32 BINARY_MULTIPLY\n",
      "             33 RETURN_VALUE\n"
     ]
    }
   ],
   "source": [
    "import dis\n",
    "dis.dis(fat)"
   ]
  },
  {
   "cell_type": "markdown",
   "metadata": {},
   "source": [
    "Como mostramos anteriormente é possível enviar funções como argumentos de outras funções. No caso usamos esse artifício para mudar o funcionamento padrão da função de ordenação `sorted()`:"
   ]
  },
  {
   "cell_type": "code",
   "execution_count": 53,
   "metadata": {
    "collapsed": false
   },
   "outputs": [
    {
     "data": {
      "text/plain": [
       "{'m': 7, 'n': 5, 'z': 10}"
      ]
     },
     "execution_count": 53,
     "metadata": {},
     "output_type": "execute_result"
    }
   ],
   "source": [
    "bromas = {'z': 10, 'n': 5, 'm': 7}\n",
    "bromas"
   ]
  },
  {
   "cell_type": "code",
   "execution_count": 54,
   "metadata": {
    "collapsed": false
   },
   "outputs": [
    {
     "data": {
      "text/plain": [
       "[('m', 7), ('n', 5), ('z', 10)]"
      ]
     },
     "execution_count": 54,
     "metadata": {},
     "output_type": "execute_result"
    }
   ],
   "source": [
    "sorted(bromas.items())"
   ]
  },
  {
   "cell_type": "code",
   "execution_count": 57,
   "metadata": {
    "collapsed": false
   },
   "outputs": [
    {
     "data": {
      "text/plain": [
       "[('n', 5), ('m', 7), ('z', 10)]"
      ]
     },
     "execution_count": 57,
     "metadata": {},
     "output_type": "execute_result"
    }
   ],
   "source": [
    "def pega_segundo(sequencia):\n",
    "    return sequencia[1]\n",
    "\n",
    "sorted(bromas.items(), key=pega_segundo)"
   ]
  },
  {
   "cell_type": "markdown",
   "metadata": {},
   "source": [
    "Neste exemplo definimos a funçao pega_segundo e enviamos ela como argumento para a função `sorted()`"
   ]
  },
  {
   "cell_type": "markdown",
   "metadata": {},
   "source": [
    "### Valores padrões de argumentos (default arguments)\n",
    "O Python permite a atribuição de valores padrão para argumentos de uma função. Ao chamar essa função esses argumentos são opcionais, sendo utilizado o valor padrão fornecido na definição da função.\n",
    "\n",
    "Por exemplo vamos criar uma função que converte um valor em dólar para real com o preço do dólar como argumento com valor padrão:"
   ]
  },
  {
   "cell_type": "code",
   "execution_count": 9,
   "metadata": {
    "collapsed": true
   },
   "outputs": [],
   "source": [
    "def dolar_para_real(valor_real, dolar=3.53):\n",
    "    return valor_real * dolar"
   ]
  },
  {
   "cell_type": "markdown",
   "metadata": {},
   "source": [
    "Para calular um preço de um produto de, por exemplo, U$89,00 só precisamos passar esse valor:"
   ]
  },
  {
   "cell_type": "code",
   "execution_count": 12,
   "metadata": {
    "collapsed": false
   },
   "outputs": [
    {
     "data": {
      "text/plain": [
       "314.16999999999996"
      ]
     },
     "execution_count": 12,
     "metadata": {},
     "output_type": "execute_result"
    }
   ],
   "source": [
    "dolar_para_real(89)"
   ]
  },
  {
   "cell_type": "markdown",
   "metadata": {},
   "source": [
    "Supondo que queiramos calcular o preço do produto no ano passado quando o valor do dólar estava menor:"
   ]
  },
  {
   "cell_type": "code",
   "execution_count": 13,
   "metadata": {
    "collapsed": false
   },
   "outputs": [
    {
     "data": {
      "text/plain": [
       "249.2"
      ]
     },
     "execution_count": 13,
     "metadata": {},
     "output_type": "execute_result"
    }
   ],
   "source": [
    "dolar_para_real(89, 2.8)"
   ]
  },
  {
   "cell_type": "markdown",
   "metadata": {},
   "source": [
    "Muitas funções da biblioteca padrão usam argumentos padrão para simplificar e extender seus usos. Muita funções que vimos neste curso fazem isso, como,  por  exemplo a função `str.split()`.\n",
    "\n",
    "Para mostrar isso vamos recorrer a sua documentação que é invocada ao passar essa função como argumento para a função `help()`:"
   ]
  },
  {
   "cell_type": "code",
   "execution_count": 15,
   "metadata": {
    "collapsed": false
   },
   "outputs": [
    {
     "name": "stdout",
     "output_type": "stream",
     "text": [
      "Help on method_descriptor:\n",
      "\n",
      "split(...)\n",
      "    S.split(sep=None, maxsplit=-1) -> list of strings\n",
      "    \n",
      "    Return a list of the words in S, using sep as the\n",
      "    delimiter string.  If maxsplit is given, at most maxsplit\n",
      "    splits are done. If sep is not specified or is None, any\n",
      "    whitespace string is a separator and empty strings are\n",
      "    removed from the result.\n",
      "\n"
     ]
    }
   ],
   "source": [
    "help(str.split)"
   ]
  },
  {
   "cell_type": "markdown",
   "metadata": {},
   "source": [
    "Como visto a função split possui dois argumentos com valores padrão: separador e número máximo de splits. Por padrão o separador é um espaço em branco e o número máximo de splits é todos os possíveis, como podemos observar neste exemplo:"
   ]
  },
  {
   "cell_type": "code",
   "execution_count": 16,
   "metadata": {
    "collapsed": false
   },
   "outputs": [
    {
     "data": {
      "text/plain": [
       "['Frase', 'sem', 'sentido', 'algum', 'para', 'ser', 'usada', 'como', 'exemplo']"
      ]
     },
     "execution_count": 16,
     "metadata": {},
     "output_type": "execute_result"
    }
   ],
   "source": [
    "'Frase sem sentido algum para ser usada como exemplo'.split()"
   ]
  },
  {
   "cell_type": "markdown",
   "metadata": {},
   "source": [
    "Podemos mudar esse comportamento passando outros argumentos:"
   ]
  },
  {
   "cell_type": "code",
   "execution_count": 21,
   "metadata": {
    "collapsed": false
   },
   "outputs": [
    {
     "data": {
      "text/plain": [
       "['Frase', 'sem sentido algum para ser usada como exemplo']"
      ]
     },
     "execution_count": 21,
     "metadata": {},
     "output_type": "execute_result"
    }
   ],
   "source": [
    "frase = 'Frase sem sentido algum para ser usada como exemplo'\n",
    "frase.split(' ', 1)  # somente 1 split foi feito gerando uma lista de dois elementos"
   ]
  },
  {
   "cell_type": "code",
   "execution_count": 22,
   "metadata": {
    "collapsed": false
   },
   "outputs": [
    {
     "data": {
      "text/plain": [
       "['www', 'dominio', 'com', 'br']"
      ]
     },
     "execution_count": 22,
     "metadata": {},
     "output_type": "execute_result"
    }
   ],
   "source": [
    "url = 'www.dominio.com.br'\n",
    "url.split('.')"
   ]
  },
  {
   "cell_type": "code",
   "execution_count": 24,
   "metadata": {
    "collapsed": false
   },
   "outputs": [
    {
     "data": {
      "text/plain": [
       "['www', 'dominio.com.br']"
      ]
     },
     "execution_count": 24,
     "metadata": {},
     "output_type": "execute_result"
    }
   ],
   "source": [
    "url.split('.', 1)  # para separar somente o www do resto"
   ]
  },
  {
   "cell_type": "markdown",
   "metadata": {},
   "source": [
    "Outra função que também faz isso é a função `open()` usada para abrir arquivos:"
   ]
  },
  {
   "cell_type": "code",
   "execution_count": 32,
   "metadata": {
    "collapsed": false
   },
   "outputs": [
    {
     "data": {
      "text/plain": [
       "<_io.TextIOWrapper name='arq.txt' mode='w' encoding='UTF-8'>"
      ]
     },
     "execution_count": 32,
     "metadata": {},
     "output_type": "execute_result"
    }
   ],
   "source": [
    "arq = open('arq.txt', 'w')  # passa nome do arquivo e modo abertura 'w' (escrita)\n",
    "arq  # arquivo aberto"
   ]
  },
  {
   "cell_type": "code",
   "execution_count": 33,
   "metadata": {
    "collapsed": true
   },
   "outputs": [],
   "source": [
    "arq.close()  # fechando arquivo"
   ]
  },
  {
   "cell_type": "code",
   "execution_count": 34,
   "metadata": {
    "collapsed": false
   },
   "outputs": [
    {
     "data": {
      "text/plain": [
       "<_io.TextIOWrapper name='arq.txt' mode='r' encoding='UTF-8'>"
      ]
     },
     "execution_count": 34,
     "metadata": {},
     "output_type": "execute_result"
    }
   ],
   "source": [
    "arq = open('arq.txt')  # por padrão o modo de abertura é 'r' (leitura)\n",
    "arq"
   ]
  },
  {
   "cell_type": "code",
   "execution_count": 35,
   "metadata": {
    "collapsed": true
   },
   "outputs": [],
   "source": [
    "arq.close()"
   ]
  },
  {
   "cell_type": "markdown",
   "metadata": {},
   "source": [
    "Veremos mais sobre esta função ainda nesta aula."
   ]
  },
  {
   "cell_type": "markdown",
   "metadata": {},
   "source": [
    "**Cuidado com argumentos padrões!**\n",
    "\n",
    "Os argumentos padrões de funções são executados apenas uma vez e isso pode causar alguns comportamentos \"estranhos\".\n",
    "\n",
    "Suponhamos que queremos criar uma função `anexa()` que adiciona um elemento a uma lista e, se a lista não for passada, criamos uma nova:"
   ]
  },
  {
   "cell_type": "code",
   "execution_count": 36,
   "metadata": {
    "collapsed": true
   },
   "outputs": [],
   "source": [
    "def anexa(elemento, lista=[]):\n",
    "    lista.append(elemento)\n",
    "    return lista"
   ]
  },
  {
   "cell_type": "code",
   "execution_count": 37,
   "metadata": {
    "collapsed": false
   },
   "outputs": [
    {
     "data": {
      "text/plain": [
       "[1]"
      ]
     },
     "execution_count": 37,
     "metadata": {},
     "output_type": "execute_result"
    }
   ],
   "source": [
    "anexa(1)"
   ]
  },
  {
   "cell_type": "code",
   "execution_count": 38,
   "metadata": {
    "collapsed": false
   },
   "outputs": [
    {
     "data": {
      "text/plain": [
       "[1, 2]"
      ]
     },
     "execution_count": 38,
     "metadata": {},
     "output_type": "execute_result"
    }
   ],
   "source": [
    "anexa(2)"
   ]
  },
  {
   "cell_type": "code",
   "execution_count": 39,
   "metadata": {
    "collapsed": false
   },
   "outputs": [
    {
     "data": {
      "text/plain": [
       "[1, 2, 3]"
      ]
     },
     "execution_count": 39,
     "metadata": {},
     "output_type": "execute_result"
    }
   ],
   "source": [
    "anexa(3)"
   ]
  },
  {
   "cell_type": "markdown",
   "metadata": {},
   "source": [
    "Como dito anteriormente o valor do argumento da lista `[]` (que cria uma lista) é executado apenas uma vez, portanto a mesma lista é usada sempre que chamamos a função `anexa()`. Para criarmos uma anova lista quando não nos é passado uma fazemos:"
   ]
  },
  {
   "cell_type": "code",
   "execution_count": 41,
   "metadata": {
    "collapsed": false
   },
   "outputs": [],
   "source": [
    "def anexa(elemento, lista=None):\n",
    "    if not lista:\n",
    "        lista = []\n",
    "    lista.append(elemento)\n",
    "    return lista"
   ]
  },
  {
   "cell_type": "markdown",
   "metadata": {},
   "source": [
    "Desse jeito criamos uma nova lista cada vez que a função é executada:"
   ]
  },
  {
   "cell_type": "code",
   "execution_count": 44,
   "metadata": {
    "collapsed": false
   },
   "outputs": [
    {
     "data": {
      "text/plain": [
       "[10]"
      ]
     },
     "execution_count": 44,
     "metadata": {},
     "output_type": "execute_result"
    }
   ],
   "source": [
    "lista = anexa(10)\n",
    "lista"
   ]
  },
  {
   "cell_type": "code",
   "execution_count": 45,
   "metadata": {
    "collapsed": false
   },
   "outputs": [
    {
     "data": {
      "text/plain": [
       "[5]"
      ]
     },
     "execution_count": 45,
     "metadata": {},
     "output_type": "execute_result"
    }
   ],
   "source": [
    "anexa(5)"
   ]
  },
  {
   "cell_type": "code",
   "execution_count": 46,
   "metadata": {
    "collapsed": false
   },
   "outputs": [
    {
     "data": {
      "text/plain": [
       "[10, 20]"
      ]
     },
     "execution_count": 46,
     "metadata": {},
     "output_type": "execute_result"
    }
   ],
   "source": [
    "anexa(20, lista)\n",
    "lista"
   ]
  },
  {
   "cell_type": "markdown",
   "metadata": {},
   "source": [
    "Como já vimos anteriormente (porém não foi explicado como) o Python permite que os argumentos da função sejam chamados por seu nome e não somente por sua posição:"
   ]
  },
  {
   "cell_type": "code",
   "execution_count": 42,
   "metadata": {
    "collapsed": false
   },
   "outputs": [
    {
     "data": {
      "text/plain": [
       "[1, 2, 3, 100]"
      ]
     },
     "execution_count": 42,
     "metadata": {},
     "output_type": "execute_result"
    }
   ],
   "source": [
    "anexa(elemento=100, lista=[1, 2, 3])"
   ]
  },
  {
   "cell_type": "code",
   "execution_count": 47,
   "metadata": {
    "collapsed": false
   },
   "outputs": [
    {
     "data": {
      "text/plain": [
       "['Exemplo', 'de', 'split', 'chamado', 'pelo', 'nome', 'dos', 'argumentos']"
      ]
     },
     "execution_count": 47,
     "metadata": {},
     "output_type": "execute_result"
    }
   ],
   "source": [
    "'Exemplo de split chamado pelo nome dos argumentos'.split(sep=' ', maxsplit=-1)"
   ]
  },
  {
   "cell_type": "markdown",
   "metadata": {},
   "source": [
    "#### Exemplo de uso de argumentos nomeados: biblioteca datetime\n",
    "\n",
    "Uma função da biblioteca padrão do Python que faz uso extensivo de argumentos padrões é a `timedelta()` da biblioteca datetime (que trabalha com datas e horários). Essa função é usada para representar durações, diferenças entre datas ou horários:"
   ]
  },
  {
   "cell_type": "code",
   "execution_count": 4,
   "metadata": {
    "collapsed": false
   },
   "outputs": [
    {
     "data": {
      "text/plain": [
       "datetime.date(2016, 5, 15)"
      ]
     },
     "execution_count": 4,
     "metadata": {},
     "output_type": "execute_result"
    }
   ],
   "source": [
    "from datetime import date, timedelta\n",
    "hoje = date.today()\n",
    "hoje  # objeto do tipo date"
   ]
  },
  {
   "cell_type": "code",
   "execution_count": 78,
   "metadata": {
    "collapsed": false
   },
   "outputs": [
    {
     "data": {
      "text/plain": [
       "(2016, 5, 14)"
      ]
     },
     "execution_count": 78,
     "metadata": {},
     "output_type": "execute_result"
    }
   ],
   "source": [
    "hoje.year, hoje.month, hoje.day  # atributos de date: day, month e year"
   ]
  },
  {
   "cell_type": "markdown",
   "metadata": {},
   "source": [
    "foo"
   ]
  },
  {
   "cell_type": "code",
   "execution_count": 69,
   "metadata": {
    "collapsed": false
   },
   "outputs": [
    {
     "data": {
      "text/plain": [
       "datetime.date(2016, 5, 15)"
      ]
     },
     "execution_count": 69,
     "metadata": {},
     "output_type": "execute_result"
    }
   ],
   "source": [
    "hoje + timedelta(days=1)  # amanhã"
   ]
  },
  {
   "cell_type": "code",
   "execution_count": 72,
   "metadata": {
    "collapsed": false
   },
   "outputs": [
    {
     "data": {
      "text/plain": [
       "datetime.date(2016, 5, 13)"
      ]
     },
     "execution_count": 72,
     "metadata": {},
     "output_type": "execute_result"
    }
   ],
   "source": [
    "hoje - timedelta(days=1) # ontem"
   ]
  },
  {
   "cell_type": "code",
   "execution_count": 70,
   "metadata": {
    "collapsed": false
   },
   "outputs": [
    {
     "data": {
      "text/plain": [
       "datetime.date(2016, 5, 16)"
      ]
     },
     "execution_count": 70,
     "metadata": {},
     "output_type": "execute_result"
    }
   ],
   "source": [
    "hoje + timedelta(days=2)  # depois de amanhã"
   ]
  },
  {
   "cell_type": "code",
   "execution_count": 73,
   "metadata": {
    "collapsed": false
   },
   "outputs": [
    {
     "data": {
      "text/plain": [
       "datetime.date(2016, 5, 12)"
      ]
     },
     "execution_count": 73,
     "metadata": {},
     "output_type": "execute_result"
    }
   ],
   "source": [
    "hoje - timedelta(days=2)  # antes de ontem"
   ]
  },
  {
   "cell_type": "code",
   "execution_count": 71,
   "metadata": {
    "collapsed": false
   },
   "outputs": [
    {
     "data": {
      "text/plain": [
       "datetime.date(2016, 5, 21)"
      ]
     },
     "execution_count": 71,
     "metadata": {},
     "output_type": "execute_result"
    }
   ],
   "source": [
    "hoje + timedelta(days=7)  # semana que vem"
   ]
  },
  {
   "cell_type": "code",
   "execution_count": 86,
   "metadata": {
    "collapsed": false
   },
   "outputs": [
    {
     "data": {
      "text/plain": [
       "datetime.date(2016, 5, 14)"
      ]
     },
     "execution_count": 86,
     "metadata": {},
     "output_type": "execute_result"
    }
   ],
   "source": [
    "hoje"
   ]
  },
  {
   "cell_type": "code",
   "execution_count": 82,
   "metadata": {
    "collapsed": false
   },
   "outputs": [
    {
     "data": {
      "text/plain": [
       "datetime.date(2016, 6, 13)"
      ]
     },
     "execution_count": 82,
     "metadata": {},
     "output_type": "execute_result"
    }
   ],
   "source": [
    "hoje + timedelta(days=30)  # mês que vem"
   ]
  },
  {
   "cell_type": "markdown",
   "metadata": {},
   "source": [
    "Como nem todo mês possui 30 dias pode ser necessário saber qual o próximo mês. Para isso é melhor usar a função `datetime.replace()` que retorna a mesma data com os valores fornecidos trocados:"
   ]
  },
  {
   "cell_type": "code",
   "execution_count": 89,
   "metadata": {
    "collapsed": false
   },
   "outputs": [
    {
     "data": {
      "text/plain": [
       "datetime.date(2016, 6, 14)"
      ]
     },
     "execution_count": 89,
     "metadata": {},
     "output_type": "execute_result"
    }
   ],
   "source": [
    "hoje.replace(month=hoje.month + 1)  # mesmo dia e ano no próximo mês"
   ]
  },
  {
   "cell_type": "code",
   "execution_count": 90,
   "metadata": {
    "collapsed": false
   },
   "outputs": [
    {
     "data": {
      "text/plain": [
       "datetime.date(2017, 5, 14)"
      ]
     },
     "execution_count": 90,
     "metadata": {},
     "output_type": "execute_result"
    }
   ],
   "source": [
    "hoje.replace(year=hoje.year + 1)  # mesmo dia e mês no próximo ano"
   ]
  },
  {
   "cell_type": "markdown",
   "metadata": {},
   "source": [
    "`timedelta()` também pode ser usado com datetimes (data e hora):"
   ]
  },
  {
   "cell_type": "code",
   "execution_count": 3,
   "metadata": {
    "collapsed": false
   },
   "outputs": [
    {
     "data": {
      "text/plain": [
       "datetime.datetime(2016, 5, 15, 22, 43, 4, 570704)"
      ]
     },
     "execution_count": 3,
     "metadata": {},
     "output_type": "execute_result"
    }
   ],
   "source": [
    "from datetime import datetime\n",
    "\n",
    "agora = datetime.now()\n",
    "agora"
   ]
  },
  {
   "cell_type": "code",
   "execution_count": 77,
   "metadata": {
    "collapsed": false
   },
   "outputs": [
    {
     "data": {
      "text/plain": [
       "(2016, 5, 14, 22, 52, 22, 176642)"
      ]
     },
     "execution_count": 77,
     "metadata": {},
     "output_type": "execute_result"
    }
   ],
   "source": [
    "agora.year, agora.month, agora.day, agora.hour, agora.minute, agora.second, agora.microsecond"
   ]
  },
  {
   "cell_type": "code",
   "execution_count": 79,
   "metadata": {
    "collapsed": false
   },
   "outputs": [
    {
     "data": {
      "text/plain": [
       "datetime.datetime(2016, 5, 14, 23, 52, 22, 176642)"
      ]
     },
     "execution_count": 79,
     "metadata": {},
     "output_type": "execute_result"
    }
   ],
   "source": [
    "agora + timedelta(hours=1)  # daqui uma hora"
   ]
  },
  {
   "cell_type": "code",
   "execution_count": 80,
   "metadata": {
    "collapsed": false
   },
   "outputs": [
    {
     "data": {
      "text/plain": [
       "datetime.datetime(2016, 5, 14, 21, 52, 22, 176642)"
      ]
     },
     "execution_count": 80,
     "metadata": {},
     "output_type": "execute_result"
    }
   ],
   "source": [
    "agora - timedelta(hours=1)  # uma hora atrás"
   ]
  },
  {
   "cell_type": "code",
   "execution_count": 81,
   "metadata": {
    "collapsed": false
   },
   "outputs": [
    {
     "data": {
      "text/plain": [
       "datetime.datetime(2016, 5, 15, 1, 22, 22, 176642)"
      ]
     },
     "execution_count": 81,
     "metadata": {},
     "output_type": "execute_result"
    }
   ],
   "source": [
    "agora + timedelta(hours=2, minutes=30)  # daqui 2 horas e meia"
   ]
  },
  {
   "cell_type": "markdown",
   "metadata": {},
   "source": [
    "Subtrair dates e datetimes gera objetos timedelta que representam a diferença de tempo entre os dois:"
   ]
  },
  {
   "cell_type": "code",
   "execution_count": 11,
   "metadata": {
    "collapsed": false
   },
   "outputs": [
    {
     "data": {
      "text/plain": [
       "datetime.timedelta(0, 945)"
      ]
     },
     "execution_count": 11,
     "metadata": {},
     "output_type": "execute_result"
    }
   ],
   "source": [
    "daqui_a_pouco = agora + timedelta(minutes=15, seconds=45)\n",
    "daqui_a_pouco - agora"
   ]
  },
  {
   "cell_type": "code",
   "execution_count": 9,
   "metadata": {
    "collapsed": false
   },
   "outputs": [
    {
     "data": {
      "text/plain": [
       "datetime.timedelta(1)"
      ]
     },
     "execution_count": 9,
     "metadata": {},
     "output_type": "execute_result"
    }
   ],
   "source": []
  },
  {
   "cell_type": "markdown",
   "metadata": {},
   "source": [
    "Chamar funções dando nomes aos seus argumentos, em conjunto com bons nomes de funções e argumentos, é uma ótima forma de aumentar a legibilidade de seu código."
   ]
  },
  {
   "cell_type": "markdown",
   "metadata": {},
   "source": [
    "### Exercícios\n",
    "\n",
    "- "
   ]
  },
  {
   "cell_type": "code",
   "execution_count": null,
   "metadata": {
    "collapsed": true
   },
   "outputs": [],
   "source": []
  },
  {
   "cell_type": "code",
   "execution_count": null,
   "metadata": {
    "collapsed": true
   },
   "outputs": [],
   "source": []
  },
  {
   "cell_type": "code",
   "execution_count": null,
   "metadata": {
    "collapsed": true
   },
   "outputs": [],
   "source": []
  },
  {
   "cell_type": "code",
   "execution_count": null,
   "metadata": {
    "collapsed": true
   },
   "outputs": [],
   "source": []
  },
  {
   "cell_type": "code",
   "execution_count": null,
   "metadata": {
    "collapsed": true
   },
   "outputs": [],
   "source": []
  },
  {
   "cell_type": "code",
   "execution_count": null,
   "metadata": {
    "collapsed": true
   },
   "outputs": [],
   "source": []
  },
  {
   "cell_type": "markdown",
   "metadata": {},
   "source": [
    "### Empacotamento e desempacotamento de argumentos de funções\n",
    "\n",
    "A criação de funções com argumentos arbitrários é feita usando o conceito de empacotamento de argumentos. Algumas funções da biblioteca padrão do Python usam esse conceito:"
   ]
  },
  {
   "cell_type": "code",
   "execution_count": 1,
   "metadata": {
    "collapsed": false
   },
   "outputs": [
    {
     "data": {
      "text/plain": [
       "2"
      ]
     },
     "execution_count": 1,
     "metadata": {},
     "output_type": "execute_result"
    }
   ],
   "source": [
    "max(1, 2)  # funciona com 2 argumentos"
   ]
  },
  {
   "cell_type": "code",
   "execution_count": 14,
   "metadata": {
    "collapsed": false
   },
   "outputs": [
    {
     "data": {
      "text/plain": [
       "3"
      ]
     },
     "execution_count": 14,
     "metadata": {},
     "output_type": "execute_result"
    }
   ],
   "source": [
    "max(1, 2, 3)  # 3 argumentos"
   ]
  },
  {
   "cell_type": "code",
   "execution_count": 17,
   "metadata": {
    "collapsed": false
   },
   "outputs": [
    {
     "data": {
      "text/plain": [
       "18"
      ]
     },
     "execution_count": 17,
     "metadata": {},
     "output_type": "execute_result"
    }
   ],
   "source": [
    "max(1, 2, 3, 4, 5, 6, 7, 8, 9, 10, 11, 12, 13, 14, 15, 16, 17, 18)  # muitos argumentos"
   ]
  },
  {
   "cell_type": "markdown",
   "metadata": {},
   "source": [
    "O que acontece é que esses vários argumentos são empacotados para uma tupla e então a partir dessa tupla de elementos é possível encontrar o máximo. A funcão `sum()` que soma os elementos de uma sequência não suporta argumentos abritrários, vamos fazer uma versão dessa função que suporte isso:"
   ]
  },
  {
   "cell_type": "code",
   "execution_count": 19,
   "metadata": {
    "collapsed": false
   },
   "outputs": [
    {
     "ename": "TypeError",
     "evalue": "sum expected at most 2 arguments, got 4",
     "output_type": "error",
     "traceback": [
      "\u001b[1;31m---------------------------------------------------------------------------\u001b[0m",
      "\u001b[1;31mTypeError\u001b[0m                                 Traceback (most recent call last)",
      "\u001b[1;32m<ipython-input-19-1f367796fa58>\u001b[0m in \u001b[0;36m<module>\u001b[1;34m()\u001b[0m\n\u001b[1;32m----> 1\u001b[1;33m \u001b[0msum\u001b[0m\u001b[1;33m(\u001b[0m\u001b[1;36m1\u001b[0m\u001b[1;33m,\u001b[0m \u001b[1;36m2\u001b[0m\u001b[1;33m,\u001b[0m \u001b[1;36m3\u001b[0m\u001b[1;33m,\u001b[0m \u001b[1;36m4\u001b[0m\u001b[1;33m)\u001b[0m  \u001b[1;31m# não suporta\u001b[0m\u001b[1;33m\u001b[0m\u001b[0m\n\u001b[0m",
      "\u001b[1;31mTypeError\u001b[0m: sum expected at most 2 arguments, got 4"
     ]
    }
   ],
   "source": [
    "sum(1, 2, 3, 4)  # não suporta"
   ]
  },
  {
   "cell_type": "markdown",
   "metadata": {},
   "source": [
    "O empacotamento de argumentos é feito na definição dos argumentos da função usando o operador `*`, conforme é mostrado a seguir. Vamos começar analisando o resultado desse argumento para depois implementar a funcionalidade de soma:"
   ]
  },
  {
   "cell_type": "code",
   "execution_count": 37,
   "metadata": {
    "collapsed": true
   },
   "outputs": [],
   "source": [
    "def soma(*numeros):\n",
    "    print('O tipo é: {}'.format(type(numeros)))\n",
    "    print('Valores: {}'.format(numeros))"
   ]
  },
  {
   "cell_type": "markdown",
   "metadata": {},
   "source": [
    "Só para não haver dúvidas: **`*numeros` não é um ponteiro**. O que realmente acontece é que os valores recebidos ao invocar a função `soma()` serão empacotados para o argumento `numeros`."
   ]
  },
  {
   "cell_type": "code",
   "execution_count": 31,
   "metadata": {
    "collapsed": false
   },
   "outputs": [
    {
     "name": "stdout",
     "output_type": "stream",
     "text": [
      "O tipo é: <class 'tuple'>\n",
      "Valores: (-1, 0, 1)\n"
     ]
    }
   ],
   "source": [
    "soma(-1, 0, 1)"
   ]
  },
  {
   "cell_type": "markdown",
   "metadata": {},
   "source": [
    "Nesse exemplo a função `soma()` foi chamada com os valores -1, 0, 1 que foram empacotados na tupla numeros. Sabendo disso podemos calcular a soma desses elementos:"
   ]
  },
  {
   "cell_type": "code",
   "execution_count": 32,
   "metadata": {
    "collapsed": true
   },
   "outputs": [],
   "source": [
    "def soma(*numeros):\n",
    "    soma = 0\n",
    "    for num in numeros:\n",
    "        soma += num\n",
    "    return soma"
   ]
  },
  {
   "cell_type": "code",
   "execution_count": 33,
   "metadata": {
    "collapsed": false
   },
   "outputs": [
    {
     "data": {
      "text/plain": [
       "10"
      ]
     },
     "execution_count": 33,
     "metadata": {},
     "output_type": "execute_result"
    }
   ],
   "source": [
    "soma(1, 2, 3, 4)"
   ]
  },
  {
   "cell_type": "code",
   "execution_count": 35,
   "metadata": {
    "collapsed": false
   },
   "outputs": [
    {
     "data": {
      "text/plain": [
       "1"
      ]
     },
     "execution_count": 35,
     "metadata": {},
     "output_type": "execute_result"
    }
   ],
   "source": [
    "soma(-2, 0, 3)"
   ]
  },
  {
   "cell_type": "markdown",
   "metadata": {},
   "source": [
    "É possível criar função que receba alguns argumentos fixos e argumentos arbitrários:"
   ]
  },
  {
   "cell_type": "code",
   "execution_count": 41,
   "metadata": {
    "collapsed": true
   },
   "outputs": [],
   "source": [
    "def foo(bar, *baz):\n",
    "    print(type(bar), type(baz))\n",
    "    print('bar: {}, baz: {}'.format(bar, baz))"
   ]
  },
  {
   "cell_type": "code",
   "execution_count": 42,
   "metadata": {
    "collapsed": false
   },
   "outputs": [
    {
     "name": "stdout",
     "output_type": "stream",
     "text": [
      "<class 'int'> <class 'tuple'>\n",
      "bar: 1, baz: (2, 3, 4, 5)\n"
     ]
    }
   ],
   "source": [
    "foo(1, 2, 3, 4, 5)"
   ]
  },
  {
   "cell_type": "code",
   "execution_count": 43,
   "metadata": {
    "collapsed": false
   },
   "outputs": [
    {
     "name": "stdout",
     "output_type": "stream",
     "text": [
      "<class 'list'> <class 'tuple'>\n",
      "bar: [1, 2, 3], baz: (10, 'aba', False, (1, 2, 3))\n"
     ]
    }
   ],
   "source": [
    "foo([1, 2, 3], 10, 'aba', False, (1, 2, 3))"
   ]
  },
  {
   "cell_type": "markdown",
   "metadata": {},
   "source": [
    "Do mesmo jeito que empacotamos argumentos recebidos na chamada de uma função podemos desempacotar argumentos para enviar as funções:"
   ]
  },
  {
   "cell_type": "code",
   "execution_count": 47,
   "metadata": {
    "collapsed": false
   },
   "outputs": [
    {
     "data": {
      "text/plain": [
       "10"
      ]
     },
     "execution_count": 47,
     "metadata": {},
     "output_type": "execute_result"
    }
   ],
   "source": [
    "numeros = -1, 0, 10\n",
    "max(*numeros)"
   ]
  },
  {
   "cell_type": "markdown",
   "metadata": {},
   "source": [
    "No exemplo anterior desempacotamos a tupla com os valores -1, 0, 10 e, ao invés de enviar uma tupla, mandamos cada um deles como um argumento separado. Para deixar esse conceito claro criaremos uma função que recebe argumentos desempacotados:"
   ]
  },
  {
   "cell_type": "code",
   "execution_count": 48,
   "metadata": {
    "collapsed": true
   },
   "outputs": [],
   "source": [
    "def soma(a, b, c):\n",
    "    \"\"\" Soma três números a, b, e c (a + b + c) \"\"\"\n",
    "    return a + b + c"
   ]
  },
  {
   "cell_type": "markdown",
   "metadata": {},
   "source": [
    "Normalmente faríamos:"
   ]
  },
  {
   "cell_type": "code",
   "execution_count": 50,
   "metadata": {
    "collapsed": false
   },
   "outputs": [
    {
     "data": {
      "text/plain": [
       "6"
      ]
     },
     "execution_count": 50,
     "metadata": {},
     "output_type": "execute_result"
    }
   ],
   "source": [
    "soma(1, 2, 3)"
   ]
  },
  {
   "cell_type": "markdown",
   "metadata": {},
   "source": [
    "Porém podemos desempacotar uma sequência de 3 elementos e enviá-los para a função:"
   ]
  },
  {
   "cell_type": "code",
   "execution_count": 51,
   "metadata": {
    "collapsed": false
   },
   "outputs": [
    {
     "data": {
      "text/plain": [
       "0"
      ]
     },
     "execution_count": 51,
     "metadata": {},
     "output_type": "execute_result"
    }
   ],
   "source": [
    "números = -1, 0, 1\n",
    "soma(*números)"
   ]
  },
  {
   "cell_type": "markdown",
   "metadata": {},
   "source": [
    "Se a lista for maior ou menor uma exceção será levantada:"
   ]
  },
  {
   "cell_type": "code",
   "execution_count": 53,
   "metadata": {
    "collapsed": false
   },
   "outputs": [
    {
     "ename": "TypeError",
     "evalue": "soma() missing 1 required positional argument: 'c'",
     "output_type": "error",
     "traceback": [
      "\u001b[1;31m---------------------------------------------------------------------------\u001b[0m",
      "\u001b[1;31mTypeError\u001b[0m                                 Traceback (most recent call last)",
      "\u001b[1;32m<ipython-input-53-984254beacd1>\u001b[0m in \u001b[0;36m<module>\u001b[1;34m()\u001b[0m\n\u001b[0;32m      1\u001b[0m \u001b[0mnúmeros\u001b[0m \u001b[1;33m=\u001b[0m \u001b[1;33m-\u001b[0m\u001b[1;36m1\u001b[0m\u001b[1;33m,\u001b[0m \u001b[1;36m0\u001b[0m\u001b[1;33m\u001b[0m\u001b[0m\n\u001b[1;32m----> 2\u001b[1;33m \u001b[0msoma\u001b[0m\u001b[1;33m(\u001b[0m\u001b[1;33m*\u001b[0m\u001b[0mnúmeros\u001b[0m\u001b[1;33m)\u001b[0m\u001b[1;33m\u001b[0m\u001b[0m\n\u001b[0m",
      "\u001b[1;31mTypeError\u001b[0m: soma() missing 1 required positional argument: 'c'"
     ]
    }
   ],
   "source": [
    "números = -1, 0\n",
    "soma(*números)"
   ]
  },
  {
   "cell_type": "code",
   "execution_count": 54,
   "metadata": {
    "collapsed": false
   },
   "outputs": [
    {
     "ename": "TypeError",
     "evalue": "soma() takes 3 positional arguments but 4 were given",
     "output_type": "error",
     "traceback": [
      "\u001b[1;31m---------------------------------------------------------------------------\u001b[0m",
      "\u001b[1;31mTypeError\u001b[0m                                 Traceback (most recent call last)",
      "\u001b[1;32m<ipython-input-54-887513f33334>\u001b[0m in \u001b[0;36m<module>\u001b[1;34m()\u001b[0m\n\u001b[0;32m      1\u001b[0m \u001b[0mnúmeros\u001b[0m \u001b[1;33m=\u001b[0m \u001b[1;33m-\u001b[0m\u001b[1;36m1\u001b[0m\u001b[1;33m,\u001b[0m \u001b[1;36m0\u001b[0m\u001b[1;33m,\u001b[0m \u001b[1;36m1\u001b[0m\u001b[1;33m,\u001b[0m \u001b[1;36m10\u001b[0m\u001b[1;33m\u001b[0m\u001b[0m\n\u001b[1;32m----> 2\u001b[1;33m \u001b[0msoma\u001b[0m\u001b[1;33m(\u001b[0m\u001b[1;33m*\u001b[0m\u001b[0mnúmeros\u001b[0m\u001b[1;33m)\u001b[0m\u001b[1;33m\u001b[0m\u001b[0m\n\u001b[0m",
      "\u001b[1;31mTypeError\u001b[0m: soma() takes 3 positional arguments but 4 were given"
     ]
    }
   ],
   "source": [
    "números = -1, 0, 1, 10\n",
    "soma(*números)"
   ]
  },
  {
   "cell_type": "markdown",
   "metadata": {},
   "source": [
    "Para ficar mais claro ainda vamos criar uma função que deve receber, obrigatoriamente, três argumentos fixos e, opcionalmente, quantos mais valores forem enviados:"
   ]
  },
  {
   "cell_type": "code",
   "execution_count": 63,
   "metadata": {
    "collapsed": true
   },
   "outputs": [],
   "source": [
    "def foo(a, b, c, *args):\n",
    "    print('a: {} {}'.format(a, type(a)))\n",
    "    print('b: {} {}'.format(b, type(b)))\n",
    "    print('c: {} {}'.format(c, type(c)))\n",
    "    print('*args: {} {}'.format(args, type(args)))"
   ]
  },
  {
   "cell_type": "code",
   "execution_count": 64,
   "metadata": {
    "collapsed": false
   },
   "outputs": [
    {
     "name": "stdout",
     "output_type": "stream",
     "text": [
      "a: foobarbaz <class 'str'>\n",
      "b: False <class 'bool'>\n",
      "c: 10 <class 'int'>\n",
      "*args: () <class 'tuple'>\n"
     ]
    }
   ],
   "source": [
    "args = ['foobarbaz', False, 10]\n",
    "foo(*args)"
   ]
  },
  {
   "cell_type": "markdown",
   "metadata": {},
   "source": [
    "Ao receber argumentos empacotados, como feito na função `foo(a, b, c, *args)`, permitimos o envio de uma quantidade arbitrária de argumentos. Isso inclui o envio de *nenhum* argumento, por esse motivos as funções embutidas `min()` e `max()` definem dois argumentos fixos e depois recebem mais argumentos empacotados:"
   ]
  },
  {
   "cell_type": "code",
   "execution_count": 69,
   "metadata": {
    "collapsed": false
   },
   "outputs": [
    {
     "ename": "TypeError",
     "evalue": "'int' object is not iterable",
     "output_type": "error",
     "traceback": [
      "\u001b[1;31m---------------------------------------------------------------------------\u001b[0m",
      "\u001b[1;31mTypeError\u001b[0m                                 Traceback (most recent call last)",
      "\u001b[1;32m<ipython-input-69-5e0a09376ba4>\u001b[0m in \u001b[0;36m<module>\u001b[1;34m()\u001b[0m\n\u001b[1;32m----> 1\u001b[1;33m \u001b[0mmin\u001b[0m\u001b[1;33m(\u001b[0m\u001b[1;36m10\u001b[0m\u001b[1;33m)\u001b[0m  \u001b[1;31m# levanta exceção\u001b[0m\u001b[1;33m\u001b[0m\u001b[0m\n\u001b[0m",
      "\u001b[1;31mTypeError\u001b[0m: 'int' object is not iterable"
     ]
    }
   ],
   "source": [
    "min(10)  # levanta exceção"
   ]
  },
  {
   "cell_type": "code",
   "execution_count": 72,
   "metadata": {
    "collapsed": false
   },
   "outputs": [
    {
     "data": {
      "text/plain": [
       "-10"
      ]
     },
     "execution_count": 72,
     "metadata": {},
     "output_type": "execute_result"
    }
   ],
   "source": [
    "min(10, -10)  # correto"
   ]
  },
  {
   "cell_type": "code",
   "execution_count": 73,
   "metadata": {
    "collapsed": false
   },
   "outputs": [
    {
     "data": {
      "text/plain": [
       "-10"
      ]
     },
     "execution_count": 73,
     "metadata": {},
     "output_type": "execute_result"
    }
   ],
   "source": [
    "min(10, -10, 0)  # também correto"
   ]
  },
  {
   "cell_type": "markdown",
   "metadata": {},
   "source": [
    "O mesmo vale para nossa função `foo()`:"
   ]
  },
  {
   "cell_type": "code",
   "execution_count": 74,
   "metadata": {
    "collapsed": false
   },
   "outputs": [
    {
     "ename": "TypeError",
     "evalue": "foo() missing 2 required positional arguments: 'b' and 'c'",
     "output_type": "error",
     "traceback": [
      "\u001b[1;31m---------------------------------------------------------------------------\u001b[0m",
      "\u001b[1;31mTypeError\u001b[0m                                 Traceback (most recent call last)",
      "\u001b[1;32m<ipython-input-74-9e45007b2b59>\u001b[0m in \u001b[0;36m<module>\u001b[1;34m()\u001b[0m\n\u001b[1;32m----> 1\u001b[1;33m \u001b[0mfoo\u001b[0m\u001b[1;33m(\u001b[0m\u001b[1;36m1\u001b[0m\u001b[1;33m)\u001b[0m\u001b[1;33m\u001b[0m\u001b[0m\n\u001b[0m",
      "\u001b[1;31mTypeError\u001b[0m: foo() missing 2 required positional arguments: 'b' and 'c'"
     ]
    }
   ],
   "source": [
    "foo(1)"
   ]
  },
  {
   "cell_type": "code",
   "execution_count": 75,
   "metadata": {
    "collapsed": false
   },
   "outputs": [
    {
     "ename": "TypeError",
     "evalue": "foo() missing 1 required positional argument: 'c'",
     "output_type": "error",
     "traceback": [
      "\u001b[1;31m---------------------------------------------------------------------------\u001b[0m",
      "\u001b[1;31mTypeError\u001b[0m                                 Traceback (most recent call last)",
      "\u001b[1;32m<ipython-input-75-d63fb28d788b>\u001b[0m in \u001b[0;36m<module>\u001b[1;34m()\u001b[0m\n\u001b[1;32m----> 1\u001b[1;33m \u001b[0mfoo\u001b[0m\u001b[1;33m(\u001b[0m\u001b[1;36m1\u001b[0m\u001b[1;33m,\u001b[0m \u001b[1;36m2\u001b[0m\u001b[1;33m)\u001b[0m\u001b[1;33m\u001b[0m\u001b[0m\n\u001b[0m",
      "\u001b[1;31mTypeError\u001b[0m: foo() missing 1 required positional argument: 'c'"
     ]
    }
   ],
   "source": [
    "foo(1, 2)"
   ]
  },
  {
   "cell_type": "code",
   "execution_count": 76,
   "metadata": {
    "collapsed": false
   },
   "outputs": [
    {
     "name": "stdout",
     "output_type": "stream",
     "text": [
      "a: 1 <class 'int'>\n",
      "b: 2 <class 'int'>\n",
      "c: 3 <class 'int'>\n",
      "*args: () <class 'tuple'>\n"
     ]
    }
   ],
   "source": [
    "foo(1, 2, 3)"
   ]
  },
  {
   "cell_type": "code",
   "execution_count": 77,
   "metadata": {
    "collapsed": false
   },
   "outputs": [
    {
     "name": "stdout",
     "output_type": "stream",
     "text": [
      "a: 1 <class 'int'>\n",
      "b: 2 <class 'int'>\n",
      "c: 3 <class 'int'>\n",
      "*args: (4, 5, 6, 7, 8, 9) <class 'tuple'>\n"
     ]
    }
   ],
   "source": [
    "foo(1, 2, 3, 4, 5, 6, 7, 8, 9)"
   ]
  },
  {
   "cell_type": "markdown",
   "metadata": {},
   "source": [
    "Empacotamento e desempacotamento de argumentos são conceitos importantes, uma vez que são usados extensivamente em bibliotecas e frameworks Python. Funções embutidas como `format()`, `max()` e `min()` usam. Além disso, muitos métodos das Class-Based Views no framework web Django também usam.\n",
    "\n",
    "Além de empacotar e desempacotar argumentos em/de sequências também é possível fazer isso para dicionários:"
   ]
  },
  {
   "cell_type": "code",
   "execution_count": 60,
   "metadata": {
    "collapsed": true
   },
   "outputs": [],
   "source": [
    "def foo(a, b, c):\n",
    "    print('a: {} {}'.format(a, type(a)))\n",
    "    print('b: {} {}'.format(b, type(b)))\n",
    "    print('c: {} {}'.format(c, type(c)))"
   ]
  },
  {
   "cell_type": "code",
   "execution_count": 81,
   "metadata": {
    "collapsed": false
   },
   "outputs": [
    {
     "name": "stdout",
     "output_type": "stream",
     "text": [
      "a: 1.5 <class 'float'>\n",
      "b: True <class 'bool'>\n",
      "c: alo <class 'str'>\n",
      "*args: () <class 'tuple'>\n"
     ]
    }
   ],
   "source": [
    "kwargs = {'a': 1.5, 'b': True, 'c': 'alo'}\n",
    "foo(**kwargs)  # desempacotando dicionário kwargs para função foo()"
   ]
  },
  {
   "cell_type": "markdown",
   "metadata": {},
   "source": [
    "O que acontece por trás disso é: os argumentos com o nome das chaves do dicionário recebem o respectivo valor, portanto é necessário se atentar com as chaves e nomes do argumentos:"
   ]
  },
  {
   "cell_type": "code",
   "execution_count": 82,
   "metadata": {
    "collapsed": false
   },
   "outputs": [
    {
     "ename": "TypeError",
     "evalue": "foo() got an unexpected keyword argument 'q'",
     "output_type": "error",
     "traceback": [
      "\u001b[1;31m---------------------------------------------------------------------------\u001b[0m",
      "\u001b[1;31mTypeError\u001b[0m                                 Traceback (most recent call last)",
      "\u001b[1;32m<ipython-input-82-61cb599c61d0>\u001b[0m in \u001b[0;36m<module>\u001b[1;34m()\u001b[0m\n\u001b[0;32m      1\u001b[0m \u001b[0mkwargs\u001b[0m \u001b[1;33m=\u001b[0m \u001b[1;33m{\u001b[0m\u001b[1;34m'q'\u001b[0m\u001b[1;33m:\u001b[0m \u001b[1;36m10\u001b[0m\u001b[1;33m,\u001b[0m \u001b[1;34m'x'\u001b[0m\u001b[1;33m:\u001b[0m \u001b[1;34m'foo'\u001b[0m\u001b[1;33m,\u001b[0m \u001b[1;34m'a'\u001b[0m\u001b[1;33m:\u001b[0m \u001b[1;36m123\u001b[0m\u001b[1;33m}\u001b[0m\u001b[1;33m\u001b[0m\u001b[0m\n\u001b[1;32m----> 2\u001b[1;33m \u001b[0mfoo\u001b[0m\u001b[1;33m(\u001b[0m\u001b[1;33m**\u001b[0m\u001b[0mkwargs\u001b[0m\u001b[1;33m)\u001b[0m\u001b[1;33m\u001b[0m\u001b[0m\n\u001b[0m",
      "\u001b[1;31mTypeError\u001b[0m: foo() got an unexpected keyword argument 'q'"
     ]
    }
   ],
   "source": [
    "kwargs = {'q': 10, 'x': 'foo', 'a': 123}\n",
    "foo(**kwargs)"
   ]
  },
  {
   "cell_type": "markdown",
   "metadata": {},
   "source": [
    "Assim como visto anteriormente também é possível, ao criar uma função, empacotar os argumentos em dicionários:"
   ]
  },
  {
   "cell_type": "code",
   "execution_count": 83,
   "metadata": {
    "collapsed": true
   },
   "outputs": [],
   "source": [
    "def foo(a, b, c, **kwargs):  # kwargs = KeyWord Arguments (argumentos de palavra-chave)\n",
    "    print('a: {} {}'.format(a, type(a)))\n",
    "    print('b: {} {}'.format(b, type(b)))\n",
    "    print('c: {} {}'.format(c, type(c)))\n",
    "    print('kwargs: {} {}'.format(kwargs, type(kwargs)))"
   ]
  },
  {
   "cell_type": "code",
   "execution_count": 84,
   "metadata": {
    "collapsed": false
   },
   "outputs": [
    {
     "name": "stdout",
     "output_type": "stream",
     "text": [
      "a: 1 <class 'int'>\n",
      "b: 2 <class 'int'>\n",
      "c: 3 <class 'int'>\n",
      "kwargs: {} <class 'dict'>\n"
     ]
    }
   ],
   "source": [
    "foo(1, 2, 3)"
   ]
  },
  {
   "cell_type": "code",
   "execution_count": 85,
   "metadata": {
    "collapsed": false
   },
   "outputs": [
    {
     "name": "stdout",
     "output_type": "stream",
     "text": [
      "a: 1 <class 'int'>\n",
      "b: 2 <class 'int'>\n",
      "c: 3 <class 'int'>\n",
      "kwargs: {'vivo': True, 'idade': 100, 'nome': 'José'} <class 'dict'>\n"
     ]
    }
   ],
   "source": [
    "foo(1, 2, 3, nome='José', idade=100, vivo=True)"
   ]
  },
  {
   "cell_type": "markdown",
   "metadata": {},
   "source": [
    "A função `str.format()` recebe argumentos posicionais e de palavra-chave arbitrários que devem corresponder a quantidade de variáveis a ser substituidas na string de formatação:"
   ]
  },
  {
   "cell_type": "code",
   "execution_count": 86,
   "metadata": {
    "collapsed": false
   },
   "outputs": [
    {
     "data": {
      "text/plain": [
       "'1'"
      ]
     },
     "execution_count": 86,
     "metadata": {},
     "output_type": "execute_result"
    }
   ],
   "source": [
    "'{0}'.format(1)"
   ]
  },
  {
   "cell_type": "code",
   "execution_count": 87,
   "metadata": {
    "collapsed": false
   },
   "outputs": [
    {
     "data": {
      "text/plain": [
       "'1 2'"
      ]
     },
     "execution_count": 87,
     "metadata": {},
     "output_type": "execute_result"
    }
   ],
   "source": [
    "'{0} {1}'.format(1, 2)"
   ]
  },
  {
   "cell_type": "markdown",
   "metadata": {},
   "source": [
    "Podemos desempacotar uma sequência e enviar à função de formatação:"
   ]
  },
  {
   "cell_type": "code",
   "execution_count": 88,
   "metadata": {
    "collapsed": false
   },
   "outputs": [
    {
     "data": {
      "text/plain": [
       "'1 2 3 4 5'"
      ]
     },
     "execution_count": 88,
     "metadata": {},
     "output_type": "execute_result"
    }
   ],
   "source": [
    "numeros = [1, 2, 3, 4, 5]\n",
    "'{0} {1} {2} {3} {4}'.format(*numeros)"
   ]
  },
  {
   "cell_type": "code",
   "execution_count": 90,
   "metadata": {
    "collapsed": false
   },
   "outputs": [
    {
     "data": {
      "text/plain": [
       "'Joana é mulher e tem 35 anos de idade.'"
      ]
     },
     "execution_count": 90,
     "metadata": {},
     "output_type": "execute_result"
    }
   ],
   "source": [
    "'{nome} é {sexo} e tem {idade} anos de idade.'.format(nome='Joana', sexo='mulher', idade=35)"
   ]
  },
  {
   "cell_type": "markdown",
   "metadata": {},
   "source": [
    "Podemos desempacotar um dicionários e enviar essas informações à função:"
   ]
  },
  {
   "cell_type": "code",
   "execution_count": 92,
   "metadata": {
    "collapsed": false
   },
   "outputs": [
    {
     "data": {
      "text/plain": [
       "'Joana é mulher e tem 35 anos de idade.'"
      ]
     },
     "execution_count": 92,
     "metadata": {},
     "output_type": "execute_result"
    }
   ],
   "source": [
    "dados = {'nome': 'Joana', 'sexo': 'mulher', 'idade': 35}\n",
    "'{nome} é {sexo} e tem {idade} anos de idade.'.format(**dados)"
   ]
  },
  {
   "cell_type": "markdown",
   "metadata": {},
   "source": [
    "Para criar uma função que receba argumentos arbitrários é preciso criar uma função que empacote tanto os argumentos posicionais (em uma tupla) quanto os nomeados (em um dicionários):"
   ]
  },
  {
   "cell_type": "code",
   "execution_count": 94,
   "metadata": {
    "collapsed": false
   },
   "outputs": [],
   "source": [
    "def silverbullet(*args, **kwargs):\n",
    "    print('args: {} {}'.format(args, type(args)))\n",
    "    print('kwargs: {} {}'.format(kwargs, type(kwargs)))"
   ]
  },
  {
   "cell_type": "code",
   "execution_count": 95,
   "metadata": {
    "collapsed": false
   },
   "outputs": [
    {
     "name": "stdout",
     "output_type": "stream",
     "text": [
      "args: (1, 2, 3, 4) <class 'tuple'>\n",
      "kwargs: {'a': 10, 'b': 20, 'c': 30} <class 'dict'>\n"
     ]
    }
   ],
   "source": [
    "silverbullet(1, 2, 3, 4, a=10, b=20, c=30)"
   ]
  },
  {
   "cell_type": "code",
   "execution_count": 97,
   "metadata": {
    "collapsed": false
   },
   "outputs": [
    {
     "name": "stdout",
     "output_type": "stream",
     "text": [
      "args: (-1, -10, 1, 2, 3) <class 'tuple'>\n",
      "kwargs: {'abc': False, 'b': 'oi', 'def': 'alololo', 'a': 150} <class 'dict'>\n"
     ]
    }
   ],
   "source": [
    "foo = 1, 2, 3\n",
    "bar = {'abc': False, 'def': 'alololo'}\n",
    "silverbullet(-1, -10, *foo, a=150, b='oi', **bar)"
   ]
  },
  {
   "cell_type": "markdown",
   "metadata": {},
   "source": [
    "### Arquivos"
   ]
  },
  {
   "cell_type": "markdown",
   "metadata": {},
   "source": [
    "Já vimos anteriormente um exemplo do uso de arquivos, aqui nesta seção vamos trabalhar mais a fundo com eles.\n",
    "\n",
    "Para abrir um arquivo existe a função embutida `open()` que recebe, além de outras coisas, o nome do arquivo e modo de abertura. Os modos suportados são:\n",
    "\n",
    "<table>\n",
    "<thead>\n",
    "<th>Character</th>\n",
    "<th>Meaning</th>\n",
    "</thead>\n",
    "<tbody>\n",
    "<tr>\n",
    "<td>'r'</td><td>abrir par leitura (padrão)</td>\n",
    "</tr>\n",
    "<tr>\n",
    "<td>'w'</td><td>abrir para escrita, o arquivo é truncado primeiro</td>\n",
    "</tr>\n",
    "<tr>\n",
    "<td>'x'</td><td>abrir para criação exclusiva, falhando se o arquivo existe</td>\n",
    "</tr>\n",
    "<tr>\n",
    "<td>'a'</td><td>abrir para escrita, anexando o conteúdo para o fim do arquivo caso ele exista</td>\n",
    "</tr>\n",
    "<tr>\n",
    "<td>'b'</td><td>modo binário (pode ser usado em  conjunto com os de abertura)</td>\n",
    "</tr>\n",
    "<tr>\n",
    "<td>'t'</td><td>modo  texto (padrão)</td>\n",
    "</tr>\n",
    "<tr>\n",
    "<td>'+'</td><td>abrir um arquivo do disco para atualização (funciona para escrita e leitura)</td>\n",
    "</tr>\n",
    "<tr>\n",
    "<td>'U'</td><td>modo quebra de linhas universal (depreciado)</td>\n",
    "</tr>\n",
    "</tbody>\n",
    "</table>\n",
    "\n",
    "Vamos começar abrindo um arquivo de texto para escrita:"
   ]
  },
  {
   "cell_type": "code",
   "execution_count": 18,
   "metadata": {
    "collapsed": false
   },
   "outputs": [
    {
     "data": {
      "text/plain": [
       "<_io.TextIOWrapper name='dados.txt' mode='w' encoding='UTF-8'>"
      ]
     },
     "execution_count": 18,
     "metadata": {},
     "output_type": "execute_result"
    }
   ],
   "source": [
    "arq = open('dados.txt', 'w')\n",
    "arq"
   ]
  },
  {
   "cell_type": "code",
   "execution_count": 19,
   "metadata": {
    "collapsed": false
   },
   "outputs": [],
   "source": [
    "arq.write('você tem dado em casa?\\n')\n",
    "arq.write('não teve graça... eu sei.')\n",
    "arq.close()"
   ]
  },
  {
   "cell_type": "markdown",
   "metadata": {},
   "source": [
    "Agora abra o arquivo `dados.txt` e veja seu conteúdo."
   ]
  },
  {
   "cell_type": "markdown",
   "metadata": {},
   "source": [
    "Note que após fechar o arquivo não podemos fazer operações nele:"
   ]
  },
  {
   "cell_type": "code",
   "execution_count": 20,
   "metadata": {
    "collapsed": false
   },
   "outputs": [
    {
     "ename": "ValueError",
     "evalue": "I/O operation on closed file.",
     "output_type": "error",
     "traceback": [
      "\u001b[1;31m---------------------------------------------------------------------------\u001b[0m",
      "\u001b[1;31mValueError\u001b[0m                                Traceback (most recent call last)",
      "\u001b[1;32m<ipython-input-20-7ccb0db4a2ec>\u001b[0m in \u001b[0;36m<module>\u001b[1;34m()\u001b[0m\n\u001b[1;32m----> 1\u001b[1;33m \u001b[0marq\u001b[0m\u001b[1;33m.\u001b[0m\u001b[0mwrite\u001b[0m\u001b[1;33m(\u001b[0m\u001b[1;34m'esqueci de escrever esta frase'\u001b[0m\u001b[1;33m)\u001b[0m\u001b[1;33m\u001b[0m\u001b[0m\n\u001b[0m",
      "\u001b[1;31mValueError\u001b[0m: I/O operation on closed file."
     ]
    }
   ],
   "source": [
    "arq.write('esqueci de escrever esta frase')"
   ]
  },
  {
   "cell_type": "markdown",
   "metadata": {},
   "source": [
    "Agora vamos usar o próprio python para ler o arquivo:"
   ]
  },
  {
   "cell_type": "code",
   "execution_count": 21,
   "metadata": {
    "collapsed": true
   },
   "outputs": [],
   "source": [
    "arq = open('dados.txt')"
   ]
  },
  {
   "cell_type": "code",
   "execution_count": 26,
   "metadata": {
    "collapsed": false
   },
   "outputs": [
    {
     "data": {
      "text/plain": [
       "'você tem dado em casa?\\nnão teve graça... eu sei.'"
      ]
     },
     "execution_count": 26,
     "metadata": {},
     "output_type": "execute_result"
    }
   ],
   "source": [
    "conteudo = arq.read()\n",
    "conteudo"
   ]
  },
  {
   "cell_type": "markdown",
   "metadata": {},
   "source": [
    "Como visto a função `file.read()` nos dá o conteúdo de todo o arquivo como uma única string. Mais para frente veremos outros métodos de leitura e escrita."
   ]
  },
  {
   "cell_type": "code",
   "execution_count": 28,
   "metadata": {
    "collapsed": false
   },
   "outputs": [],
   "source": [
    "arq.close()  # não podemos esquecer de fechar o arquivo"
   ]
  },
  {
   "cell_type": "markdown",
   "metadata": {},
   "source": [
    "Agora vamos gerar um arquivo mais complexo com dados mais úteis usando a famigerada biblioteca faker:"
   ]
  },
  {
   "cell_type": "code",
   "execution_count": 35,
   "metadata": {
    "collapsed": false
   },
   "outputs": [],
   "source": [
    "from faker import Factory\n",
    "faker = Factory.create('pt_BR')  # cria fábrica de dados falsos em pt-BR\n",
    "\n",
    "arq = open('dados.txt', 'w')\n",
    "for _ in range(100):\n",
    "    nome = faker.name()\n",
    "    cargo = faker.job()\n",
    "    empresa = faker.company()\n",
    "    arq.write('\"{}\",\"{}\",\"{}\"\\n'.format(nome, cargo, empresa))\n",
    "    \n",
    "    \n",
    "arq.close()"
   ]
  },
  {
   "cell_type": "markdown",
   "metadata": {},
   "source": [
    "Abra o arquivo `dados.txt` e dentro dele haverá 100 linhas. Cada linha contém os dados (nome, cargo e empresa) separados por vírgula.\n",
    "\n",
    "Esse formato de dados é muito popular e é chamado de CSV (Comma-separated Values ou Valores Separados por Vírgula), muitas empresas usam o CSV para mover dados entre sistemas que trabalham com formatos incompatíveis ou proprietários. Ainda nesta aula veremos mais sobre como trabalhar com esses dados.\n",
    "\n",
    "Existem algumas maneiras diferentes para ler arquivo. Podemos ler todas as linhas de uma só vez e jogá-la em uma lista (ou iterá-la diretamente) usando `file.readlines()`:"
   ]
  },
  {
   "cell_type": "code",
   "execution_count": 36,
   "metadata": {
    "collapsed": false,
    "scrolled": true
   },
   "outputs": [
    {
     "name": "stdout",
     "output_type": "stream",
     "text": [
      "<class 'list'>\n",
      "['\"Dr. Felipe Costela\",\"Tourism officer\",\"Silva\"\\n', '\"Srta. Bruna Ferreira\",\"Advertising account executive\",\"Ferreira - EI\"\\n', '\"Heitor Dias\",\"Surveyor, insurance\",\"Araújo\"\\n', '\"Alexia Pinto\",\"Psychotherapist\",\"Barros e Filhos\"\\n', '\"Lara Rocha\",\"Psychologist, occupational\",\"Azevedo Silva S/A\"\\n', '\"Isabelly Araújo\",\"Lexicographer\",\"Silva\"\\n', '\"Dra. Sabrina Santos\",\"Best boy\",\"Cunha Almeida Ltda.\"\\n', '\"Nathan Fernandes\",\"Archivist\",\"Araújo Rodrigues - EI\"\\n', '\"Thiago Lima\",\"Chiropodist\",\"Araújo\"\\n', '\"Nathan Silva\",\"Web designer\",\"Ferreira\"\\n', '\"João Barros\",\"Engineer, electrical\",\"Pereira - ME\"\\n', '\"Sra. Amanda Oliveira\",\"Ophthalmologist\",\"Silva Cardoso - EI\"\\n', '\"Dr. Carlos Eduardo Correia\",\"Therapist, music\",\"Souza\"\\n', '\"Sr. Daniel Ribeiro\",\"Financial trader\",\"Barros\"\\n', '\"Srta. Fernanda Araújo\",\"Teacher, primary school\",\"Fernandes\"\\n', '\"Gabriel Correia\",\"Naval architect\",\"Santos Cunha - ME\"\\n', '\"João Vitor Fernandes\",\"Engineer, drilling\",\"Barros\"\\n', '\"Anthony Rodrigues\",\"Insurance broker\",\"Pereira\"\\n', '\"Lara Carvalho\",\"Financial planner\",\"Cunha S.A.\"\\n', '\"Bryan Azevedo\",\"Quantity surveyor\",\"Pinto\"\\n', '\"Maysa Dias\",\"Surveyor, building\",\"Barros Ferreira Ltda.\"\\n', '\"Srta. Isadora Silva\",\"Medical physicist\",\"Pinto Pereira - ME\"\\n', '\"Marina Barbosa\",\"Lexicographer\",\"Silva\"\\n', '\"Bryan Castro\",\"Designer, exhibition/display\",\"Correia - EI\"\\n', '\"Maysa Castro\",\"Network engineer\",\"Souza - ME\"\\n', '\"Augusto Carvalho\",\"Agricultural engineer\",\"Rocha - ME\"\\n', '\"Nicole Alves\",\"Engineer, materials\",\"Dias S.A.\"\\n', '\"Ana Vitória Pereira\",\"Television floor manager\",\"Melo Lima S/A\"\\n', '\"Murilo Souza\",\"Radio producer\",\"Cunha Rocha - EI\"\\n', '\"Ana Vitória Dias\",\"Housing manager/officer\",\"Gomes S.A.\"\\n', '\"Nicole Ferreira\",\"Architect\",\"Alves\"\\n', '\"Ana Rocha\",\"Maintenance engineer\",\"Alves\"\\n', '\"Rafael Barros\",\"Production designer, theatre/television/film\",\"Costela Castro e Filhos\"\\n', '\"Kamilly Carvalho\",\"Pharmacologist\",\"Barros\"\\n', '\"Gabriel Barros\",\"Lawyer\",\"Souza\"\\n', '\"Pedro Henrique Santos\",\"Warden/ranger\",\"Melo S.A.\"\\n', '\"Nina Cunha\",\"Medical technical officer\",\"Barros\"\\n', '\"Benício Carvalho\",\"Local government officer\",\"Correia\"\\n', '\"Murilo Lima\",\"Building services engineer\",\"Ferreira - ME\"\\n', '\"Maria Cecília Rodrigues\",\"Oceanographer\",\"Gomes Carvalho Ltda.\"\\n', '\"Elisa Ferreira\",\"Administrator, Civil Service\",\"Cunha Azevedo Ltda.\"\\n', '\"Luana Souza\",\"Scientist, research (life sciences)\",\"Melo Silva - ME\"\\n', '\"João Guilherme Ribeiro\",\"Technical sales engineer\",\"Gomes\"\\n', '\"Alana Correia\",\"Mechanical engineer\",\"Ribeiro - EI\"\\n', '\"Gabriela Cunha\",\"Sales executive\",\"Rodrigues Ltda.\"\\n', '\"Joana Azevedo\",\"Contracting civil engineer\",\"Costela e Filhos\"\\n', '\"Maria Julia Santos\",\"Marine scientist\",\"Correia\"\\n', '\"Dra. Mariana Barbosa\",\"Midwife\",\"Araújo - EI\"\\n', '\"Cauê Silva\",\"Structural engineer\",\"Ferreira\"\\n', '\"Rafaela Ribeiro\",\"Petroleum engineer\",\"Oliveira\"\\n', '\"Giovanna Pinto\",\"Lighting technician, broadcasting/film/video\",\"Melo\"\\n', '\"Francisco Santos\",\"Archivist\",\"Pinto\"\\n', '\"Joana Cardoso\",\"Equities trader\",\"Dias\"\\n', '\"Vitor Gabriel Correia\",\"Communications engineer\",\"Martins\"\\n', '\"João Dias\",\"Physiotherapist\",\"Carvalho\"\\n', '\"Dr. Matheus Fernandes\",\"Nature conservation officer\",\"Pereira e Filhos\"\\n', '\"Dra. Eduarda Costela\",\"Government social research officer\",\"Alves e Filhos\"\\n', '\"Paulo Gomes\",\"Financial manager\",\"Ribeiro\"\\n', '\"Lívia Azevedo\",\"Education administrator\",\"Araújo\"\\n', '\"Vinicius Dias\",\"Careers adviser\",\"Barbosa - ME\"\\n', '\"Augusto Barbosa\",\"Engineer, building services\",\"Pereira\"\\n', '\"Bárbara Melo\",\"Buyer, retail\",\"Rocha\"\\n', '\"Pietro Barros\",\"Social worker\",\"Gomes Melo S/A\"\\n', '\"Eloah Castro\",\"Restaurant manager, fast food\",\"Pinto\"\\n', '\"Ana Ferreira\",\"Forensic scientist\",\"Rodrigues S/A\"\\n', '\"Arthur Ribeiro\",\"Sales professional, IT\",\"Ribeiro - ME\"\\n', '\"Rebeca Ribeiro\",\"Biomedical scientist\",\"Cardoso\"\\n', '\"Heloísa Carvalho\",\"Designer, furniture\",\"Dias\"\\n', '\"Isabelly Rodrigues\",\"Theatre director\",\"Rodrigues S.A.\"\\n', '\"Ryan Castro\",\"Advertising account executive\",\"Pinto Alves S.A.\"\\n', '\"Lucca Pereira\",\"Administrator\",\"Alves\"\\n', '\"Alice Rocha\",\"Sales professional, IT\",\"Carvalho\"\\n', '\"Isaac Martins\",\"Ceramics designer\",\"Barbosa\"\\n', '\"Clarice Azevedo\",\"Insurance underwriter\",\"Dias - EI\"\\n', '\"Rodrigo Pereira\",\"Buyer, industrial\",\"Almeida - ME\"\\n', '\"Bernardo Melo\",\"Restaurant manager, fast food\",\"Almeida e Filhos\"\\n', '\"Rodrigo Castro\",\"Research scientist (life sciences)\",\"Lima\"\\n', '\"Dr. Raul Correia\",\"Psychologist, prison and probation services\",\"Araújo Barbosa - ME\"\\n', '\"Sr. Calebe Melo\",\"Learning disability nurse\",\"Lima\"\\n', '\"Breno Costela\",\"Engineer, materials\",\"Melo\"\\n', '\"Ian Barros\",\"Brewing technologist\",\"Oliveira Ltda.\"\\n', '\"Yuri Melo\",\"Make\",\"Souza Rodrigues Ltda.\"\\n', '\"Yuri Ferreira\",\"Media planner\",\"Melo S.A.\"\\n', '\"Pietro Silva\",\"IT sales professional\",\"Cardoso\"\\n', '\"Brenda Alves\",\"Illustrator\",\"Correia Carvalho S/A\"\\n', '\"Renan Barbosa\",\"Acupuncturist\",\"Cunha\"\\n', '\"Pedro Silva\",\"Environmental consultant\",\"Castro\"\\n', '\"Maria Julia Almeida\",\"Librarian, public\",\"Araújo Pinto Ltda.\"\\n', '\"Erick Barros\",\"Engineer, electrical\",\"Barros Barbosa S/A\"\\n', '\"Otávio Silva\",\"Administrator, Civil Service\",\"Pinto\"\\n', '\"Ana Carolina Alves\",\"Haematologist\",\"Costela\"\\n', '\"Giovanna Correia\",\"Product designer\",\"Alves S/A\"\\n', '\"Maysa Oliveira\",\"Magazine features editor\",\"Melo - ME\"\\n', '\"Enzo Gabriel Souza\",\"Fish farm manager\",\"Dias\"\\n', '\"Sr. Vitor Gabriel Barbosa\",\"Structural engineer\",\"Dias\"\\n', '\"Olivia Ferreira\",\"Production manager\",\"Melo Correia e Filhos\"\\n', '\"Sra. Maria Alice Rodrigues\",\"Television floor manager\",\"Oliveira Souza S.A.\"\\n', '\"Theo Pereira\",\"Scientist, audiological\",\"Azevedo e Filhos\"\\n', '\"Valentina Azevedo\",\"Field seismologist\",\"Souza\"\\n', '\"Joaquim Almeida\",\"Psychologist, educational\",\"Gomes Almeida e Filhos\"\\n']\n"
     ]
    }
   ],
   "source": [
    "arq = open('dados.txt')  # abrimos o arquivo no modo padrão (escrita)\n",
    "linhas = arq.readlines()  # o arquivo é todo lido e cada linha vira um elmento na lista linhas\n",
    "print(type(linhas))\n",
    "print(linhas)\n",
    "arq.close()"
   ]
  },
  {
   "cell_type": "markdown",
   "metadata": {},
   "source": [
    "Podemos iterar a lista e trabalhar com os dados vindo do arquivo:"
   ]
  },
  {
   "cell_type": "code",
   "execution_count": 37,
   "metadata": {
    "collapsed": false
   },
   "outputs": [
    {
     "name": "stdout",
     "output_type": "stream",
     "text": [
      "\"Dr. Felipe Costela\",\"Tourism officer\",\"Silva\"\n",
      "\"Srta. Bruna Ferreira\",\"Advertising account executive\",\"Ferreira - EI\"\n",
      "\"Heitor Dias\",\"Surveyor, insurance\",\"Araújo\"\n",
      "\"Alexia Pinto\",\"Psychotherapist\",\"Barros e Filhos\"\n",
      "\"Lara Rocha\",\"Psychologist, occupational\",\"Azevedo Silva S/A\"\n",
      "\"Isabelly Araújo\",\"Lexicographer\",\"Silva\"\n",
      "\"Dra. Sabrina Santos\",\"Best boy\",\"Cunha Almeida Ltda.\"\n",
      "\"Nathan Fernandes\",\"Archivist\",\"Araújo Rodrigues - EI\"\n",
      "\"Thiago Lima\",\"Chiropodist\",\"Araújo\"\n",
      "\"Nathan Silva\",\"Web designer\",\"Ferreira\"\n"
     ]
    }
   ],
   "source": [
    "for linha in linhas[:10]:  # pegando só as 10 primeiras por brevidade\n",
    "    print(linha.strip())  # .strip() remove a quebra de linha no final"
   ]
  },
  {
   "cell_type": "markdown",
   "metadata": {},
   "source": [
    "Como vocês viram anteriormente abrimos o arquivo, mexemos com ele e depois o fechamos. Trabalhar dessa forma geralmente pode levar a erros, pois é comum esquecer de fechar o arquivo e, ter vários arquivos abertos, pode deixar o programa lento/ineficiente. (eu mesmo esqueci de fechar os arquivos nos dois exemplos acima)\n",
    "\n",
    "Uma maneira melhor de manipular arquivos é usando gerenciadores de contexto se responsabilizam pelo fechamento ou finalização de recursos utilizados e isso pode ser usado para trabalhar com arquivos ou cuidar de transações ao trabalhar com banco de dados, por exemplo.\n",
    "\n",
    "Vamos mostrar como trabalhar com gerenciadores de contexto lendo o arquivo que criamos anteriormente:"
   ]
  },
  {
   "cell_type": "code",
   "execution_count": 38,
   "metadata": {
    "collapsed": false
   },
   "outputs": [
    {
     "name": "stdout",
     "output_type": "stream",
     "text": [
      "\"Ana Carolina Alves\",\"Haematologist\",\"Costela\"\n",
      "\"Giovanna Correia\",\"Product designer\",\"Alves S/A\"\n",
      "\"Maysa Oliveira\",\"Magazine features editor\",\"Melo - ME\"\n",
      "\"Enzo Gabriel Souza\",\"Fish farm manager\",\"Dias\"\n",
      "\"Sr. Vitor Gabriel Barbosa\",\"Structural engineer\",\"Dias\"\n",
      "\"Olivia Ferreira\",\"Production manager\",\"Melo Correia e Filhos\"\n",
      "\"Sra. Maria Alice Rodrigues\",\"Television floor manager\",\"Oliveira Souza S.A.\"\n",
      "\"Theo Pereira\",\"Scientist, audiological\",\"Azevedo e Filhos\"\n",
      "\"Valentina Azevedo\",\"Field seismologist\",\"Souza\"\n",
      "\"Joaquim Almeida\",\"Psychologist, educational\",\"Gomes Almeida e Filhos\"\n"
     ]
    }
   ],
   "source": [
    "with open('dados.txt') as arq:  # abre o arquivo numeros.txt e o coloca na variável arq\n",
    "    for linha in arq.readlines()[-10:]:  # pega as 10 últimas linhas por brevidade\n",
    "        print(linha.strip())"
   ]
  },
  {
   "cell_type": "markdown",
   "metadata": {},
   "source": [
    "O arquivo `arq` já foi fechado, podemos verificar isso tentando ler uma linha do arquivo:"
   ]
  },
  {
   "cell_type": "code",
   "execution_count": 33,
   "metadata": {
    "collapsed": false
   },
   "outputs": [
    {
     "ename": "ValueError",
     "evalue": "I/O operation on closed file.",
     "output_type": "error",
     "traceback": [
      "\u001b[1;31m---------------------------------------------------------------------------\u001b[0m",
      "\u001b[1;31mValueError\u001b[0m                                Traceback (most recent call last)",
      "\u001b[1;32m<ipython-input-33-57520091610e>\u001b[0m in \u001b[0;36m<module>\u001b[1;34m()\u001b[0m\n\u001b[1;32m----> 1\u001b[1;33m \u001b[0marq\u001b[0m\u001b[1;33m.\u001b[0m\u001b[0mreadline\u001b[0m\u001b[1;33m(\u001b[0m\u001b[1;33m)\u001b[0m\u001b[1;33m\u001b[0m\u001b[0m\n\u001b[0m",
      "\u001b[1;31mValueError\u001b[0m: I/O operation on closed file."
     ]
    }
   ],
   "source": [
    "arq.readline()"
   ]
  },
  {
   "cell_type": "markdown",
   "metadata": {
    "collapsed": true
   },
   "source": [
    "Tambem é possível ler o arquivo linha a linha usando a função `file.readline()`:"
   ]
  },
  {
   "cell_type": "code",
   "execution_count": 39,
   "metadata": {
    "collapsed": false,
    "scrolled": true
   },
   "outputs": [
    {
     "name": "stdout",
     "output_type": "stream",
     "text": [
      "\"Dr. Felipe Costela\",\"Tourism officer\",\"Silva\"\n",
      "\"Srta. Bruna Ferreira\",\"Advertising account executive\",\"Ferreira - EI\"\n",
      "\"Heitor Dias\",\"Surveyor, insurance\",\"Araújo\"\n",
      "\"Alexia Pinto\",\"Psychotherapist\",\"Barros e Filhos\"\n",
      "\"Lara Rocha\",\"Psychologist, occupational\",\"Azevedo Silva S/A\"\n",
      "\"Isabelly Araújo\",\"Lexicographer\",\"Silva\"\n",
      "\"Dra. Sabrina Santos\",\"Best boy\",\"Cunha Almeida Ltda.\"\n",
      "\"Nathan Fernandes\",\"Archivist\",\"Araújo Rodrigues - EI\"\n",
      "\"Thiago Lima\",\"Chiropodist\",\"Araújo\"\n",
      "\"Nathan Silva\",\"Web designer\",\"Ferreira\"\n",
      "\"João Barros\",\"Engineer, electrical\",\"Pereira - ME\"\n",
      "\"Sra. Amanda Oliveira\",\"Ophthalmologist\",\"Silva Cardoso - EI\"\n",
      "\"Dr. Carlos Eduardo Correia\",\"Therapist, music\",\"Souza\"\n",
      "\"Sr. Daniel Ribeiro\",\"Financial trader\",\"Barros\"\n",
      "\"Srta. Fernanda Araújo\",\"Teacher, primary school\",\"Fernandes\"\n",
      "\"Gabriel Correia\",\"Naval architect\",\"Santos Cunha - ME\"\n",
      "\"João Vitor Fernandes\",\"Engineer, drilling\",\"Barros\"\n",
      "\"Anthony Rodrigues\",\"Insurance broker\",\"Pereira\"\n",
      "\"Lara Carvalho\",\"Financial planner\",\"Cunha S.A.\"\n",
      "\"Bryan Azevedo\",\"Quantity surveyor\",\"Pinto\"\n",
      "\"Maysa Dias\",\"Surveyor, building\",\"Barros Ferreira Ltda.\"\n",
      "\"Srta. Isadora Silva\",\"Medical physicist\",\"Pinto Pereira - ME\"\n",
      "\"Marina Barbosa\",\"Lexicographer\",\"Silva\"\n",
      "\"Bryan Castro\",\"Designer, exhibition/display\",\"Correia - EI\"\n",
      "\"Maysa Castro\",\"Network engineer\",\"Souza - ME\"\n",
      "\"Augusto Carvalho\",\"Agricultural engineer\",\"Rocha - ME\"\n",
      "\"Nicole Alves\",\"Engineer, materials\",\"Dias S.A.\"\n",
      "\"Ana Vitória Pereira\",\"Television floor manager\",\"Melo Lima S/A\"\n",
      "\"Murilo Souza\",\"Radio producer\",\"Cunha Rocha - EI\"\n",
      "\"Ana Vitória Dias\",\"Housing manager/officer\",\"Gomes S.A.\"\n",
      "\"Nicole Ferreira\",\"Architect\",\"Alves\"\n",
      "\"Ana Rocha\",\"Maintenance engineer\",\"Alves\"\n",
      "\"Rafael Barros\",\"Production designer, theatre/television/film\",\"Costela Castro e Filhos\"\n",
      "\"Kamilly Carvalho\",\"Pharmacologist\",\"Barros\"\n",
      "\"Gabriel Barros\",\"Lawyer\",\"Souza\"\n",
      "\"Pedro Henrique Santos\",\"Warden/ranger\",\"Melo S.A.\"\n",
      "\"Nina Cunha\",\"Medical technical officer\",\"Barros\"\n",
      "\"Benício Carvalho\",\"Local government officer\",\"Correia\"\n",
      "\"Murilo Lima\",\"Building services engineer\",\"Ferreira - ME\"\n",
      "\"Maria Cecília Rodrigues\",\"Oceanographer\",\"Gomes Carvalho Ltda.\"\n",
      "\"Elisa Ferreira\",\"Administrator, Civil Service\",\"Cunha Azevedo Ltda.\"\n",
      "\"Luana Souza\",\"Scientist, research (life sciences)\",\"Melo Silva - ME\"\n",
      "\"João Guilherme Ribeiro\",\"Technical sales engineer\",\"Gomes\"\n",
      "\"Alana Correia\",\"Mechanical engineer\",\"Ribeiro - EI\"\n",
      "\"Gabriela Cunha\",\"Sales executive\",\"Rodrigues Ltda.\"\n",
      "\"Joana Azevedo\",\"Contracting civil engineer\",\"Costela e Filhos\"\n",
      "\"Maria Julia Santos\",\"Marine scientist\",\"Correia\"\n",
      "\"Dra. Mariana Barbosa\",\"Midwife\",\"Araújo - EI\"\n",
      "\"Cauê Silva\",\"Structural engineer\",\"Ferreira\"\n",
      "\"Rafaela Ribeiro\",\"Petroleum engineer\",\"Oliveira\"\n",
      "\"Giovanna Pinto\",\"Lighting technician, broadcasting/film/video\",\"Melo\"\n",
      "\"Francisco Santos\",\"Archivist\",\"Pinto\"\n",
      "\"Joana Cardoso\",\"Equities trader\",\"Dias\"\n",
      "\"Vitor Gabriel Correia\",\"Communications engineer\",\"Martins\"\n",
      "\"João Dias\",\"Physiotherapist\",\"Carvalho\"\n",
      "\"Dr. Matheus Fernandes\",\"Nature conservation officer\",\"Pereira e Filhos\"\n",
      "\"Dra. Eduarda Costela\",\"Government social research officer\",\"Alves e Filhos\"\n",
      "\"Paulo Gomes\",\"Financial manager\",\"Ribeiro\"\n",
      "\"Lívia Azevedo\",\"Education administrator\",\"Araújo\"\n",
      "\"Vinicius Dias\",\"Careers adviser\",\"Barbosa - ME\"\n",
      "\"Augusto Barbosa\",\"Engineer, building services\",\"Pereira\"\n",
      "\"Bárbara Melo\",\"Buyer, retail\",\"Rocha\"\n",
      "\"Pietro Barros\",\"Social worker\",\"Gomes Melo S/A\"\n",
      "\"Eloah Castro\",\"Restaurant manager, fast food\",\"Pinto\"\n",
      "\"Ana Ferreira\",\"Forensic scientist\",\"Rodrigues S/A\"\n",
      "\"Arthur Ribeiro\",\"Sales professional, IT\",\"Ribeiro - ME\"\n",
      "\"Rebeca Ribeiro\",\"Biomedical scientist\",\"Cardoso\"\n",
      "\"Heloísa Carvalho\",\"Designer, furniture\",\"Dias\"\n",
      "\"Isabelly Rodrigues\",\"Theatre director\",\"Rodrigues S.A.\"\n",
      "\"Ryan Castro\",\"Advertising account executive\",\"Pinto Alves S.A.\"\n",
      "\"Lucca Pereira\",\"Administrator\",\"Alves\"\n",
      "\"Alice Rocha\",\"Sales professional, IT\",\"Carvalho\"\n",
      "\"Isaac Martins\",\"Ceramics designer\",\"Barbosa\"\n",
      "\"Clarice Azevedo\",\"Insurance underwriter\",\"Dias - EI\"\n",
      "\"Rodrigo Pereira\",\"Buyer, industrial\",\"Almeida - ME\"\n",
      "\"Bernardo Melo\",\"Restaurant manager, fast food\",\"Almeida e Filhos\"\n",
      "\"Rodrigo Castro\",\"Research scientist (life sciences)\",\"Lima\"\n",
      "\"Dr. Raul Correia\",\"Psychologist, prison and probation services\",\"Araújo Barbosa - ME\"\n",
      "\"Sr. Calebe Melo\",\"Learning disability nurse\",\"Lima\"\n",
      "\"Breno Costela\",\"Engineer, materials\",\"Melo\"\n",
      "\"Ian Barros\",\"Brewing technologist\",\"Oliveira Ltda.\"\n",
      "\"Yuri Melo\",\"Make\",\"Souza Rodrigues Ltda.\"\n",
      "\"Yuri Ferreira\",\"Media planner\",\"Melo S.A.\"\n",
      "\"Pietro Silva\",\"IT sales professional\",\"Cardoso\"\n",
      "\"Brenda Alves\",\"Illustrator\",\"Correia Carvalho S/A\"\n",
      "\"Renan Barbosa\",\"Acupuncturist\",\"Cunha\"\n",
      "\"Pedro Silva\",\"Environmental consultant\",\"Castro\"\n",
      "\"Maria Julia Almeida\",\"Librarian, public\",\"Araújo Pinto Ltda.\"\n",
      "\"Erick Barros\",\"Engineer, electrical\",\"Barros Barbosa S/A\"\n",
      "\"Otávio Silva\",\"Administrator, Civil Service\",\"Pinto\"\n",
      "\"Ana Carolina Alves\",\"Haematologist\",\"Costela\"\n",
      "\"Giovanna Correia\",\"Product designer\",\"Alves S/A\"\n",
      "\"Maysa Oliveira\",\"Magazine features editor\",\"Melo - ME\"\n",
      "\"Enzo Gabriel Souza\",\"Fish farm manager\",\"Dias\"\n",
      "\"Sr. Vitor Gabriel Barbosa\",\"Structural engineer\",\"Dias\"\n",
      "\"Olivia Ferreira\",\"Production manager\",\"Melo Correia e Filhos\"\n",
      "\"Sra. Maria Alice Rodrigues\",\"Television floor manager\",\"Oliveira Souza S.A.\"\n",
      "\"Theo Pereira\",\"Scientist, audiological\",\"Azevedo e Filhos\"\n",
      "\"Valentina Azevedo\",\"Field seismologist\",\"Souza\"\n",
      "\"Joaquim Almeida\",\"Psychologist, educational\",\"Gomes Almeida e Filhos\"\n"
     ]
    }
   ],
   "source": [
    "with open('dados.txt') as arq:\n",
    "    linha = arq.readline()\n",
    "    while linha:\n",
    "        print(linha, end='')\n",
    "        linha = arq.readline()"
   ]
  },
  {
   "cell_type": "markdown",
   "metadata": {},
   "source": [
    "### Trabalhando com arquivos CSV\n",
    "\n",
    "Não existe nenhum padrão de arquivos CSV. É comum ver arquivos desses formatos separados por outros caracteres que não a vírgula como: `;` `-` e `.`. Em alguns casos cada coluna pode ser envolta em aspas simples ou aspas duplas. Por conta dessas particularidades o Python criou uma biblioteca `csv` que auxilia na manipulação de arquivos CSV.\n",
    "\n",
    "Para ler arquivos CSV precisamos primeiro importar a biblioteca e depois criamos um leitor CSV com a função `csv.reader()`:"
   ]
  },
  {
   "cell_type": "code",
   "execution_count": 40,
   "metadata": {
    "collapsed": false,
    "scrolled": true
   },
   "outputs": [
    {
     "name": "stdout",
     "output_type": "stream",
     "text": [
      "<class 'list'> ['Dr. Felipe Costela', 'Tourism officer', 'Silva']\n",
      "<class 'list'> ['Srta. Bruna Ferreira', 'Advertising account executive', 'Ferreira - EI']\n",
      "<class 'list'> ['Heitor Dias', 'Surveyor, insurance', 'Araújo']\n",
      "<class 'list'> ['Alexia Pinto', 'Psychotherapist', 'Barros e Filhos']\n",
      "<class 'list'> ['Lara Rocha', 'Psychologist, occupational', 'Azevedo Silva S/A']\n",
      "<class 'list'> ['Isabelly Araújo', 'Lexicographer', 'Silva']\n",
      "<class 'list'> ['Dra. Sabrina Santos', 'Best boy', 'Cunha Almeida Ltda.']\n",
      "<class 'list'> ['Nathan Fernandes', 'Archivist', 'Araújo Rodrigues - EI']\n",
      "<class 'list'> ['Thiago Lima', 'Chiropodist', 'Araújo']\n",
      "<class 'list'> ['Nathan Silva', 'Web designer', 'Ferreira']\n",
      "<class 'list'> ['João Barros', 'Engineer, electrical', 'Pereira - ME']\n",
      "<class 'list'> ['Sra. Amanda Oliveira', 'Ophthalmologist', 'Silva Cardoso - EI']\n",
      "<class 'list'> ['Dr. Carlos Eduardo Correia', 'Therapist, music', 'Souza']\n",
      "<class 'list'> ['Sr. Daniel Ribeiro', 'Financial trader', 'Barros']\n",
      "<class 'list'> ['Srta. Fernanda Araújo', 'Teacher, primary school', 'Fernandes']\n",
      "<class 'list'> ['Gabriel Correia', 'Naval architect', 'Santos Cunha - ME']\n",
      "<class 'list'> ['João Vitor Fernandes', 'Engineer, drilling', 'Barros']\n",
      "<class 'list'> ['Anthony Rodrigues', 'Insurance broker', 'Pereira']\n",
      "<class 'list'> ['Lara Carvalho', 'Financial planner', 'Cunha S.A.']\n",
      "<class 'list'> ['Bryan Azevedo', 'Quantity surveyor', 'Pinto']\n",
      "<class 'list'> ['Maysa Dias', 'Surveyor, building', 'Barros Ferreira Ltda.']\n",
      "<class 'list'> ['Srta. Isadora Silva', 'Medical physicist', 'Pinto Pereira - ME']\n",
      "<class 'list'> ['Marina Barbosa', 'Lexicographer', 'Silva']\n",
      "<class 'list'> ['Bryan Castro', 'Designer, exhibition/display', 'Correia - EI']\n",
      "<class 'list'> ['Maysa Castro', 'Network engineer', 'Souza - ME']\n",
      "<class 'list'> ['Augusto Carvalho', 'Agricultural engineer', 'Rocha - ME']\n",
      "<class 'list'> ['Nicole Alves', 'Engineer, materials', 'Dias S.A.']\n",
      "<class 'list'> ['Ana Vitória Pereira', 'Television floor manager', 'Melo Lima S/A']\n",
      "<class 'list'> ['Murilo Souza', 'Radio producer', 'Cunha Rocha - EI']\n",
      "<class 'list'> ['Ana Vitória Dias', 'Housing manager/officer', 'Gomes S.A.']\n",
      "<class 'list'> ['Nicole Ferreira', 'Architect', 'Alves']\n",
      "<class 'list'> ['Ana Rocha', 'Maintenance engineer', 'Alves']\n",
      "<class 'list'> ['Rafael Barros', 'Production designer, theatre/television/film', 'Costela Castro e Filhos']\n",
      "<class 'list'> ['Kamilly Carvalho', 'Pharmacologist', 'Barros']\n",
      "<class 'list'> ['Gabriel Barros', 'Lawyer', 'Souza']\n",
      "<class 'list'> ['Pedro Henrique Santos', 'Warden/ranger', 'Melo S.A.']\n",
      "<class 'list'> ['Nina Cunha', 'Medical technical officer', 'Barros']\n",
      "<class 'list'> ['Benício Carvalho', 'Local government officer', 'Correia']\n",
      "<class 'list'> ['Murilo Lima', 'Building services engineer', 'Ferreira - ME']\n",
      "<class 'list'> ['Maria Cecília Rodrigues', 'Oceanographer', 'Gomes Carvalho Ltda.']\n",
      "<class 'list'> ['Elisa Ferreira', 'Administrator, Civil Service', 'Cunha Azevedo Ltda.']\n",
      "<class 'list'> ['Luana Souza', 'Scientist, research (life sciences)', 'Melo Silva - ME']\n",
      "<class 'list'> ['João Guilherme Ribeiro', 'Technical sales engineer', 'Gomes']\n",
      "<class 'list'> ['Alana Correia', 'Mechanical engineer', 'Ribeiro - EI']\n",
      "<class 'list'> ['Gabriela Cunha', 'Sales executive', 'Rodrigues Ltda.']\n",
      "<class 'list'> ['Joana Azevedo', 'Contracting civil engineer', 'Costela e Filhos']\n",
      "<class 'list'> ['Maria Julia Santos', 'Marine scientist', 'Correia']\n",
      "<class 'list'> ['Dra. Mariana Barbosa', 'Midwife', 'Araújo - EI']\n",
      "<class 'list'> ['Cauê Silva', 'Structural engineer', 'Ferreira']\n",
      "<class 'list'> ['Rafaela Ribeiro', 'Petroleum engineer', 'Oliveira']\n",
      "<class 'list'> ['Giovanna Pinto', 'Lighting technician, broadcasting/film/video', 'Melo']\n",
      "<class 'list'> ['Francisco Santos', 'Archivist', 'Pinto']\n",
      "<class 'list'> ['Joana Cardoso', 'Equities trader', 'Dias']\n",
      "<class 'list'> ['Vitor Gabriel Correia', 'Communications engineer', 'Martins']\n",
      "<class 'list'> ['João Dias', 'Physiotherapist', 'Carvalho']\n",
      "<class 'list'> ['Dr. Matheus Fernandes', 'Nature conservation officer', 'Pereira e Filhos']\n",
      "<class 'list'> ['Dra. Eduarda Costela', 'Government social research officer', 'Alves e Filhos']\n",
      "<class 'list'> ['Paulo Gomes', 'Financial manager', 'Ribeiro']\n",
      "<class 'list'> ['Lívia Azevedo', 'Education administrator', 'Araújo']\n",
      "<class 'list'> ['Vinicius Dias', 'Careers adviser', 'Barbosa - ME']\n",
      "<class 'list'> ['Augusto Barbosa', 'Engineer, building services', 'Pereira']\n",
      "<class 'list'> ['Bárbara Melo', 'Buyer, retail', 'Rocha']\n",
      "<class 'list'> ['Pietro Barros', 'Social worker', 'Gomes Melo S/A']\n",
      "<class 'list'> ['Eloah Castro', 'Restaurant manager, fast food', 'Pinto']\n",
      "<class 'list'> ['Ana Ferreira', 'Forensic scientist', 'Rodrigues S/A']\n",
      "<class 'list'> ['Arthur Ribeiro', 'Sales professional, IT', 'Ribeiro - ME']\n",
      "<class 'list'> ['Rebeca Ribeiro', 'Biomedical scientist', 'Cardoso']\n",
      "<class 'list'> ['Heloísa Carvalho', 'Designer, furniture', 'Dias']\n",
      "<class 'list'> ['Isabelly Rodrigues', 'Theatre director', 'Rodrigues S.A.']\n",
      "<class 'list'> ['Ryan Castro', 'Advertising account executive', 'Pinto Alves S.A.']\n",
      "<class 'list'> ['Lucca Pereira', 'Administrator', 'Alves']\n",
      "<class 'list'> ['Alice Rocha', 'Sales professional, IT', 'Carvalho']\n",
      "<class 'list'> ['Isaac Martins', 'Ceramics designer', 'Barbosa']\n",
      "<class 'list'> ['Clarice Azevedo', 'Insurance underwriter', 'Dias - EI']\n",
      "<class 'list'> ['Rodrigo Pereira', 'Buyer, industrial', 'Almeida - ME']\n",
      "<class 'list'> ['Bernardo Melo', 'Restaurant manager, fast food', 'Almeida e Filhos']\n",
      "<class 'list'> ['Rodrigo Castro', 'Research scientist (life sciences)', 'Lima']\n",
      "<class 'list'> ['Dr. Raul Correia', 'Psychologist, prison and probation services', 'Araújo Barbosa - ME']\n",
      "<class 'list'> ['Sr. Calebe Melo', 'Learning disability nurse', 'Lima']\n",
      "<class 'list'> ['Breno Costela', 'Engineer, materials', 'Melo']\n",
      "<class 'list'> ['Ian Barros', 'Brewing technologist', 'Oliveira Ltda.']\n",
      "<class 'list'> ['Yuri Melo', 'Make', 'Souza Rodrigues Ltda.']\n",
      "<class 'list'> ['Yuri Ferreira', 'Media planner', 'Melo S.A.']\n",
      "<class 'list'> ['Pietro Silva', 'IT sales professional', 'Cardoso']\n",
      "<class 'list'> ['Brenda Alves', 'Illustrator', 'Correia Carvalho S/A']\n",
      "<class 'list'> ['Renan Barbosa', 'Acupuncturist', 'Cunha']\n",
      "<class 'list'> ['Pedro Silva', 'Environmental consultant', 'Castro']\n",
      "<class 'list'> ['Maria Julia Almeida', 'Librarian, public', 'Araújo Pinto Ltda.']\n",
      "<class 'list'> ['Erick Barros', 'Engineer, electrical', 'Barros Barbosa S/A']\n",
      "<class 'list'> ['Otávio Silva', 'Administrator, Civil Service', 'Pinto']\n",
      "<class 'list'> ['Ana Carolina Alves', 'Haematologist', 'Costela']\n",
      "<class 'list'> ['Giovanna Correia', 'Product designer', 'Alves S/A']\n",
      "<class 'list'> ['Maysa Oliveira', 'Magazine features editor', 'Melo - ME']\n",
      "<class 'list'> ['Enzo Gabriel Souza', 'Fish farm manager', 'Dias']\n",
      "<class 'list'> ['Sr. Vitor Gabriel Barbosa', 'Structural engineer', 'Dias']\n",
      "<class 'list'> ['Olivia Ferreira', 'Production manager', 'Melo Correia e Filhos']\n",
      "<class 'list'> ['Sra. Maria Alice Rodrigues', 'Television floor manager', 'Oliveira Souza S.A.']\n",
      "<class 'list'> ['Theo Pereira', 'Scientist, audiological', 'Azevedo e Filhos']\n",
      "<class 'list'> ['Valentina Azevedo', 'Field seismologist', 'Souza']\n",
      "<class 'list'> ['Joaquim Almeida', 'Psychologist, educational', 'Gomes Almeida e Filhos']\n"
     ]
    }
   ],
   "source": [
    "import csv\n",
    "\n",
    "with open(\"dados.txt\") as arq_csv:  # abrindo o arquivo\n",
    "    leitor = csv.reader(arq_csv)\n",
    "    for linha in leitor:\n",
    "        print(type(linha), linha)"
   ]
  },
  {
   "cell_type": "markdown",
   "metadata": {
    "collapsed": true
   },
   "source": [
    "A função `csv.reader()` já retorna cada linha como uma lista Python com as aspas e quebra de linhas removidas.\n",
    "\n",
    "Podemos deixar a leitura do arquivo ainda melhor usando desempacotamento de sequências:"
   ]
  },
  {
   "cell_type": "code",
   "execution_count": 41,
   "metadata": {
    "collapsed": false,
    "scrolled": true
   },
   "outputs": [
    {
     "name": "stdout",
     "output_type": "stream",
     "text": [
      "Dr. Felipe Costela trabalha como Tourism officer na Silva\n",
      "Srta. Bruna Ferreira trabalha como Advertising account executive na Ferreira - EI\n",
      "Heitor Dias trabalha como Surveyor, insurance na Araújo\n",
      "Alexia Pinto trabalha como Psychotherapist na Barros e Filhos\n",
      "Lara Rocha trabalha como Psychologist, occupational na Azevedo Silva S/A\n",
      "Isabelly Araújo trabalha como Lexicographer na Silva\n",
      "Dra. Sabrina Santos trabalha como Best boy na Cunha Almeida Ltda.\n",
      "Nathan Fernandes trabalha como Archivist na Araújo Rodrigues - EI\n",
      "Thiago Lima trabalha como Chiropodist na Araújo\n",
      "Nathan Silva trabalha como Web designer na Ferreira\n",
      "João Barros trabalha como Engineer, electrical na Pereira - ME\n",
      "Sra. Amanda Oliveira trabalha como Ophthalmologist na Silva Cardoso - EI\n",
      "Dr. Carlos Eduardo Correia trabalha como Therapist, music na Souza\n",
      "Sr. Daniel Ribeiro trabalha como Financial trader na Barros\n",
      "Srta. Fernanda Araújo trabalha como Teacher, primary school na Fernandes\n",
      "Gabriel Correia trabalha como Naval architect na Santos Cunha - ME\n",
      "João Vitor Fernandes trabalha como Engineer, drilling na Barros\n",
      "Anthony Rodrigues trabalha como Insurance broker na Pereira\n",
      "Lara Carvalho trabalha como Financial planner na Cunha S.A.\n",
      "Bryan Azevedo trabalha como Quantity surveyor na Pinto\n",
      "Maysa Dias trabalha como Surveyor, building na Barros Ferreira Ltda.\n",
      "Srta. Isadora Silva trabalha como Medical physicist na Pinto Pereira - ME\n",
      "Marina Barbosa trabalha como Lexicographer na Silva\n",
      "Bryan Castro trabalha como Designer, exhibition/display na Correia - EI\n",
      "Maysa Castro trabalha como Network engineer na Souza - ME\n",
      "Augusto Carvalho trabalha como Agricultural engineer na Rocha - ME\n",
      "Nicole Alves trabalha como Engineer, materials na Dias S.A.\n",
      "Ana Vitória Pereira trabalha como Television floor manager na Melo Lima S/A\n",
      "Murilo Souza trabalha como Radio producer na Cunha Rocha - EI\n",
      "Ana Vitória Dias trabalha como Housing manager/officer na Gomes S.A.\n",
      "Nicole Ferreira trabalha como Architect na Alves\n",
      "Ana Rocha trabalha como Maintenance engineer na Alves\n",
      "Rafael Barros trabalha como Production designer, theatre/television/film na Costela Castro e Filhos\n",
      "Kamilly Carvalho trabalha como Pharmacologist na Barros\n",
      "Gabriel Barros trabalha como Lawyer na Souza\n",
      "Pedro Henrique Santos trabalha como Warden/ranger na Melo S.A.\n",
      "Nina Cunha trabalha como Medical technical officer na Barros\n",
      "Benício Carvalho trabalha como Local government officer na Correia\n",
      "Murilo Lima trabalha como Building services engineer na Ferreira - ME\n",
      "Maria Cecília Rodrigues trabalha como Oceanographer na Gomes Carvalho Ltda.\n",
      "Elisa Ferreira trabalha como Administrator, Civil Service na Cunha Azevedo Ltda.\n",
      "Luana Souza trabalha como Scientist, research (life sciences) na Melo Silva - ME\n",
      "João Guilherme Ribeiro trabalha como Technical sales engineer na Gomes\n",
      "Alana Correia trabalha como Mechanical engineer na Ribeiro - EI\n",
      "Gabriela Cunha trabalha como Sales executive na Rodrigues Ltda.\n",
      "Joana Azevedo trabalha como Contracting civil engineer na Costela e Filhos\n",
      "Maria Julia Santos trabalha como Marine scientist na Correia\n",
      "Dra. Mariana Barbosa trabalha como Midwife na Araújo - EI\n",
      "Cauê Silva trabalha como Structural engineer na Ferreira\n",
      "Rafaela Ribeiro trabalha como Petroleum engineer na Oliveira\n",
      "Giovanna Pinto trabalha como Lighting technician, broadcasting/film/video na Melo\n",
      "Francisco Santos trabalha como Archivist na Pinto\n",
      "Joana Cardoso trabalha como Equities trader na Dias\n",
      "Vitor Gabriel Correia trabalha como Communications engineer na Martins\n",
      "João Dias trabalha como Physiotherapist na Carvalho\n",
      "Dr. Matheus Fernandes trabalha como Nature conservation officer na Pereira e Filhos\n",
      "Dra. Eduarda Costela trabalha como Government social research officer na Alves e Filhos\n",
      "Paulo Gomes trabalha como Financial manager na Ribeiro\n",
      "Lívia Azevedo trabalha como Education administrator na Araújo\n",
      "Vinicius Dias trabalha como Careers adviser na Barbosa - ME\n",
      "Augusto Barbosa trabalha como Engineer, building services na Pereira\n",
      "Bárbara Melo trabalha como Buyer, retail na Rocha\n",
      "Pietro Barros trabalha como Social worker na Gomes Melo S/A\n",
      "Eloah Castro trabalha como Restaurant manager, fast food na Pinto\n",
      "Ana Ferreira trabalha como Forensic scientist na Rodrigues S/A\n",
      "Arthur Ribeiro trabalha como Sales professional, IT na Ribeiro - ME\n",
      "Rebeca Ribeiro trabalha como Biomedical scientist na Cardoso\n",
      "Heloísa Carvalho trabalha como Designer, furniture na Dias\n",
      "Isabelly Rodrigues trabalha como Theatre director na Rodrigues S.A.\n",
      "Ryan Castro trabalha como Advertising account executive na Pinto Alves S.A.\n",
      "Lucca Pereira trabalha como Administrator na Alves\n",
      "Alice Rocha trabalha como Sales professional, IT na Carvalho\n",
      "Isaac Martins trabalha como Ceramics designer na Barbosa\n",
      "Clarice Azevedo trabalha como Insurance underwriter na Dias - EI\n",
      "Rodrigo Pereira trabalha como Buyer, industrial na Almeida - ME\n",
      "Bernardo Melo trabalha como Restaurant manager, fast food na Almeida e Filhos\n",
      "Rodrigo Castro trabalha como Research scientist (life sciences) na Lima\n",
      "Dr. Raul Correia trabalha como Psychologist, prison and probation services na Araújo Barbosa - ME\n",
      "Sr. Calebe Melo trabalha como Learning disability nurse na Lima\n",
      "Breno Costela trabalha como Engineer, materials na Melo\n",
      "Ian Barros trabalha como Brewing technologist na Oliveira Ltda.\n",
      "Yuri Melo trabalha como Make na Souza Rodrigues Ltda.\n",
      "Yuri Ferreira trabalha como Media planner na Melo S.A.\n",
      "Pietro Silva trabalha como IT sales professional na Cardoso\n",
      "Brenda Alves trabalha como Illustrator na Correia Carvalho S/A\n",
      "Renan Barbosa trabalha como Acupuncturist na Cunha\n",
      "Pedro Silva trabalha como Environmental consultant na Castro\n",
      "Maria Julia Almeida trabalha como Librarian, public na Araújo Pinto Ltda.\n",
      "Erick Barros trabalha como Engineer, electrical na Barros Barbosa S/A\n",
      "Otávio Silva trabalha como Administrator, Civil Service na Pinto\n",
      "Ana Carolina Alves trabalha como Haematologist na Costela\n",
      "Giovanna Correia trabalha como Product designer na Alves S/A\n",
      "Maysa Oliveira trabalha como Magazine features editor na Melo - ME\n",
      "Enzo Gabriel Souza trabalha como Fish farm manager na Dias\n",
      "Sr. Vitor Gabriel Barbosa trabalha como Structural engineer na Dias\n",
      "Olivia Ferreira trabalha como Production manager na Melo Correia e Filhos\n",
      "Sra. Maria Alice Rodrigues trabalha como Television floor manager na Oliveira Souza S.A.\n",
      "Theo Pereira trabalha como Scientist, audiological na Azevedo e Filhos\n",
      "Valentina Azevedo trabalha como Field seismologist na Souza\n",
      "Joaquim Almeida trabalha como Psychologist, educational na Gomes Almeida e Filhos\n"
     ]
    }
   ],
   "source": [
    "with open('dados.txt') as arq_csv:\n",
    "    leitor = csv.reader(arq_csv)\n",
    "    for nome, cargo, empresa in leitor:\n",
    "        print('{} trabalha como {} na {}'.format(nome, cargo, empresa))"
   ]
  },
  {
   "cell_type": "markdown",
   "metadata": {},
   "source": [
    "Agora vamos criar um arquivo CSV em um padrão diferente usando a função `csv.writer()`. Nossas colunas serão separadas por espaço em branco e cada coluna será separada por `|` ao invés de aspas:"
   ]
  },
  {
   "cell_type": "code",
   "execution_count": 44,
   "metadata": {
    "collapsed": false
   },
   "outputs": [],
   "source": [
    "with open('mais-dados.csv', 'w') as arq_csv:\n",
    "    escritor = csv.writer(arq_csv, delimiter=' ', quotechar='|')\n",
    "    for _ in range(20):\n",
    "        dados = faker.name(), faker.job(), faker.company()\n",
    "        escritor.writerow(dados)"
   ]
  },
  {
   "cell_type": "markdown",
   "metadata": {},
   "source": [
    "Para ler o arquivo é só usar a mesma função `csv.reader()` usada anteriormente especificando o padrão:"
   ]
  },
  {
   "cell_type": "code",
   "execution_count": 46,
   "metadata": {
    "collapsed": false
   },
   "outputs": [
    {
     "name": "stdout",
     "output_type": "stream",
     "text": [
      "['Sophie Ribeiro', 'Hotel manager', 'Fernandes']\n",
      "['Raquel Correia', 'Pharmacologist', 'Araújo']\n",
      "['Maysa Cunha', 'Psychologist, counselling', 'Silva - EI']\n",
      "['Srta. Nicole Silva', 'Secondary school teacher', 'Castro Pereira - EI']\n",
      "['Sra. Raquel Rodrigues', 'Town planner', 'Almeida - EI']\n",
      "['Gustavo Fernandes', 'Air broker', 'Correia']\n",
      "['Sr. Thales Correia', 'Field seismologist', 'Gomes Almeida e Filhos']\n",
      "['Leandro Castro', 'Heritage manager', 'Santos']\n",
      "['Eduardo Pereira', 'Engineer, maintenance', 'Cunha Barros S/A']\n",
      "['Luiza Alves', 'Software engineer', 'Pinto Ribeiro S/A']\n",
      "['Luiza Rodrigues', 'Child psychotherapist', 'Fernandes']\n",
      "['Juliana Ferreira', 'Government social research officer', 'Correia']\n",
      "['Joaquim Melo', 'Public librarian', 'Fernandes - EI']\n",
      "['Thiago Oliveira', 'Sports administrator', 'Costela - EI']\n",
      "['Diogo Silva', 'Chartered management accountant', 'Oliveira Rocha - EI']\n",
      "['Alice Souza', 'Trade union research officer', 'Gomes - EI']\n",
      "['Natália Rocha', 'Sports development officer', 'Oliveira Carvalho S.A.']\n",
      "['Maysa Castro', 'Engineer, manufacturing', 'Santos Azevedo S/A']\n",
      "['Sra. Emanuelly Azevedo', 'Colour technologist', 'Santos']\n",
      "['Juliana Santos', 'Print production planner', 'Silva']\n"
     ]
    }
   ],
   "source": [
    "with open('mais-dados.csv') as arq_csv:\n",
    "    for linha in csv.reader(arq_csv, delimiter=' ', quotechar='|'):\n",
    "        print(linha)"
   ]
  },
  {
   "cell_type": "markdown",
   "metadata": {},
   "source": [
    "Para mais informações sobre como usar a biblioteca `csv` consulte sua [documentação oficial](https://docs.python.org/3/library/csv.html#csv-fmt-params)"
   ]
  },
  {
   "cell_type": "markdown",
   "metadata": {},
   "source": [
    "**Fim da Aula 05**"
   ]
  }
 ],
 "metadata": {
  "kernelspec": {
   "display_name": "Python 3",
   "language": "python",
   "name": "python3"
  },
  "language_info": {
   "codemirror_mode": {
    "name": "ipython",
    "version": 3
   },
   "file_extension": ".py",
   "mimetype": "text/x-python",
   "name": "python",
   "nbconvert_exporter": "python",
   "pygments_lexer": "ipython3",
   "version": "3.5.1+"
  }
 },
 "nbformat": 4,
 "nbformat_minor": 0
}
