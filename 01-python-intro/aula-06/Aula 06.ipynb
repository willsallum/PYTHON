{
 "cells": [
  {
   "cell_type": "markdown",
   "metadata": {},
   "source": [
    "# [Py-Intro] Aula 06\n",
    "\n",
    "## Módulos e testes unitários\n",
    "\n",
    "### O que você vai aprender nesta aula?\n",
    "\n",
    "- Módulos e scripts\n",
    "    - Como criar seus próprios módulos\n",
    "    - Funcionamento da importação de pacotes\n",
    "    - Como criar módulos executáveis (ou scripts importáveis)\n",
    "- Testes\n",
    "    - O que são testes\n",
    "    - Etc."
   ]
  },
  {
   "cell_type": "markdown",
   "metadata": {},
   "source": [
    "## Módulos\n",
    "\n",
    "Até este momento vimos vários exemplos de código Python, porém todos dentro do Jupyter Notebook. Esta é uma ótima ferramenta para aprendizado, porém ela restringe o uso de nossos programas, estes só são acessíveis de dentro do Jupyter Notebook. A partir de agora vamos começar a criar nossos próprios programas e módulos em arquivos separados que poderão ser reutilizados e separados em vários arquivos conforme a necessidade.\n",
    "\n",
    "Esses arquivos com código são comumente chamados de *scripts* e, para o Python, cada arquivo desses é um *módulo*. Módulos podem ser importado em outros módulos ou no módulo principal (main module).\n",
    "\n",
    "Um módulo é um arquivo contendo contendo código Python. O nome do arquivo é o nome do módulo com um sufixo **.py**."
   ]
  },
  {
   "cell_type": "markdown",
   "metadata": {},
   "source": [
    "Vamos começar com um exemplo simples, abra um arquivo chamado `fibonacci.py` e coloque o seguinte código (ou copie o arquivo do repositório na mesma pasta deste notebook):\n",
    "\n",
    "```python\n",
    "\"\"\" Módulo de números da sequência de Fibonacci \"\"\"\n",
    "\n",
    "\n",
    "def fib(n):\n",
    "    \"\"\" Exibe na tela a sequência de Fibonacci até n \"\"\"\n",
    "    a, b = 0, 1\n",
    "    while b < n:\n",
    "        print(b, end=' ')\n",
    "        a, b = b, a+b\n",
    "    print()\n",
    "\n",
    "    \n",
    "def fib2(n):   # return Fibonacci series up to n\n",
    "    \"\"\" Retorna uma lista contendo os números da sequência de Fibonacci até n \"\"\"\n",
    "    result = []\n",
    "    a, b = 0, 1\n",
    "    while b < n:\n",
    "        result.append(b)\n",
    "        a, b = b, a+b\n",
    "    return result\n",
    "```"
   ]
  },
  {
   "cell_type": "markdown",
   "metadata": {},
   "source": [
    "Na mesma pasta desse arquivo abra o interpretador python com o comando `python3.5`.\n",
    "\n",
    "Agora importe o módulo fibonacci da seguinte maneira:"
   ]
  },
  {
   "cell_type": "code",
   "execution_count": 2,
   "metadata": {
    "collapsed": true
   },
   "outputs": [],
   "source": [
    "import fibonacci"
   ]
  },
  {
   "cell_type": "markdown",
   "metadata": {},
   "source": [
    "Acessamos as funções desse módulo:"
   ]
  },
  {
   "cell_type": "code",
   "execution_count": 3,
   "metadata": {
    "collapsed": false
   },
   "outputs": [
    {
     "name": "stdout",
     "output_type": "stream",
     "text": [
      "1 1 2 3 5 8 13 21 34 55 89 144 233 377 610 987 \n"
     ]
    }
   ],
   "source": [
    "fibonacci.fib(1000)"
   ]
  },
  {
   "cell_type": "code",
   "execution_count": 4,
   "metadata": {
    "collapsed": false
   },
   "outputs": [
    {
     "data": {
      "text/plain": [
       "[1, 1, 2, 3, 5, 8, 13, 21, 34, 55, 89, 144, 233, 377, 610, 987]"
      ]
     },
     "execution_count": 4,
     "metadata": {},
     "output_type": "execute_result"
    }
   ],
   "source": [
    "fibonacci.fib2(1000)"
   ]
  },
  {
   "cell_type": "markdown",
   "metadata": {},
   "source": [
    "Podemos inspecionar o nome do módulo acessando seu atributo `__name__`:"
   ]
  },
  {
   "cell_type": "code",
   "execution_count": 5,
   "metadata": {
    "collapsed": false
   },
   "outputs": [
    {
     "data": {
      "text/plain": [
       "'fibonacci'"
      ]
     },
     "execution_count": 5,
     "metadata": {},
     "output_type": "execute_result"
    }
   ],
   "source": [
    "fibonacci.__name__"
   ]
  },
  {
   "cell_type": "markdown",
   "metadata": {},
   "source": [
    "É importante notar que documentamos nosso módulo usando docstrings nas funções e no começo do arquivo. Isso permite que outras ferramentas gerem uma documentação de nosso código como a função `help()` faz:"
   ]
  },
  {
   "cell_type": "code",
   "execution_count": 6,
   "metadata": {
    "collapsed": false
   },
   "outputs": [
    {
     "name": "stdout",
     "output_type": "stream",
     "text": [
      "Help on module fibonacci:\n",
      "\n",
      "NAME\n",
      "    fibonacci - Módulo de números da sequência de Fibonacci\n",
      "\n",
      "FUNCTIONS\n",
      "    fib(n)\n",
      "        Exibe na tela a sequência de Fibonacci até n\n",
      "    \n",
      "    fib2(n)\n",
      "        Retorna uma lista contendo os números da sequência de Fibonacci até n\n",
      "\n",
      "FILE\n",
      "    /home/luiz/talks/trilha/01-python-intro/aula-06/fibonacci.py\n",
      "\n",
      "\n"
     ]
    }
   ],
   "source": [
    "help(fibonacci)"
   ]
  },
  {
   "cell_type": "markdown",
   "metadata": {},
   "source": [
    "É dessa forma que as bibliotecas (e o próprio código-fonte da linguagem) são documentados, como podemos constar com os números inteiros:"
   ]
  },
  {
   "cell_type": "code",
   "execution_count": 7,
   "metadata": {
    "collapsed": false,
    "scrolled": true
   },
   "outputs": [
    {
     "name": "stdout",
     "output_type": "stream",
     "text": [
      "Help on class int in module builtins:\n",
      "\n",
      "class int(object)\n",
      " |  int(x=0) -> integer\n",
      " |  int(x, base=10) -> integer\n",
      " |  \n",
      " |  Convert a number or string to an integer, or return 0 if no arguments\n",
      " |  are given.  If x is a number, return x.__int__().  For floating point\n",
      " |  numbers, this truncates towards zero.\n",
      " |  \n",
      " |  If x is not a number or if base is given, then x must be a string,\n",
      " |  bytes, or bytearray instance representing an integer literal in the\n",
      " |  given base.  The literal can be preceded by '+' or '-' and be surrounded\n",
      " |  by whitespace.  The base defaults to 10.  Valid bases are 0 and 2-36.\n",
      " |  Base 0 means to interpret the base from the string as an integer literal.\n",
      " |  >>> int('0b100', base=0)\n",
      " |  4\n",
      " |  \n",
      " |  Methods defined here:\n",
      " |  \n",
      " |  __abs__(self, /)\n",
      " |      abs(self)\n",
      " |  \n",
      " |  __add__(self, value, /)\n",
      " |      Return self+value.\n",
      " |  \n",
      " |  __and__(self, value, /)\n",
      " |      Return self&value.\n",
      " |  \n",
      " |  __bool__(self, /)\n",
      " |      self != 0\n",
      " |  \n",
      " |  __ceil__(...)\n",
      " |      Ceiling of an Integral returns itself.\n",
      " |  \n",
      " |  __divmod__(self, value, /)\n",
      " |      Return divmod(self, value).\n",
      " |  \n",
      " |  __eq__(self, value, /)\n",
      " |      Return self==value.\n",
      " |  \n",
      " |  __float__(self, /)\n",
      " |      float(self)\n",
      " |  \n",
      " |  __floor__(...)\n",
      " |      Flooring an Integral returns itself.\n",
      " |  \n",
      " |  __floordiv__(self, value, /)\n",
      " |      Return self//value.\n",
      " |  \n",
      " |  __format__(...)\n",
      " |      default object formatter\n",
      " |  \n",
      " |  __ge__(self, value, /)\n",
      " |      Return self>=value.\n",
      " |  \n",
      " |  __getattribute__(self, name, /)\n",
      " |      Return getattr(self, name).\n",
      " |  \n",
      " |  __getnewargs__(...)\n",
      " |  \n",
      " |  __gt__(self, value, /)\n",
      " |      Return self>value.\n",
      " |  \n",
      " |  __hash__(self, /)\n",
      " |      Return hash(self).\n",
      " |  \n",
      " |  __index__(self, /)\n",
      " |      Return self converted to an integer, if self is suitable for use as an index into a list.\n",
      " |  \n",
      " |  __int__(self, /)\n",
      " |      int(self)\n",
      " |  \n",
      " |  __invert__(self, /)\n",
      " |      ~self\n",
      " |  \n",
      " |  __le__(self, value, /)\n",
      " |      Return self<=value.\n",
      " |  \n",
      " |  __lshift__(self, value, /)\n",
      " |      Return self<<value.\n",
      " |  \n",
      " |  __lt__(self, value, /)\n",
      " |      Return self<value.\n",
      " |  \n",
      " |  __mod__(self, value, /)\n",
      " |      Return self%value.\n",
      " |  \n",
      " |  __mul__(self, value, /)\n",
      " |      Return self*value.\n",
      " |  \n",
      " |  __ne__(self, value, /)\n",
      " |      Return self!=value.\n",
      " |  \n",
      " |  __neg__(self, /)\n",
      " |      -self\n",
      " |  \n",
      " |  __new__(*args, **kwargs) from builtins.type\n",
      " |      Create and return a new object.  See help(type) for accurate signature.\n",
      " |  \n",
      " |  __or__(self, value, /)\n",
      " |      Return self|value.\n",
      " |  \n",
      " |  __pos__(self, /)\n",
      " |      +self\n",
      " |  \n",
      " |  __pow__(self, value, mod=None, /)\n",
      " |      Return pow(self, value, mod).\n",
      " |  \n",
      " |  __radd__(self, value, /)\n",
      " |      Return value+self.\n",
      " |  \n",
      " |  __rand__(self, value, /)\n",
      " |      Return value&self.\n",
      " |  \n",
      " |  __rdivmod__(self, value, /)\n",
      " |      Return divmod(value, self).\n",
      " |  \n",
      " |  __repr__(self, /)\n",
      " |      Return repr(self).\n",
      " |  \n",
      " |  __rfloordiv__(self, value, /)\n",
      " |      Return value//self.\n",
      " |  \n",
      " |  __rlshift__(self, value, /)\n",
      " |      Return value<<self.\n",
      " |  \n",
      " |  __rmod__(self, value, /)\n",
      " |      Return value%self.\n",
      " |  \n",
      " |  __rmul__(self, value, /)\n",
      " |      Return value*self.\n",
      " |  \n",
      " |  __ror__(self, value, /)\n",
      " |      Return value|self.\n",
      " |  \n",
      " |  __round__(...)\n",
      " |      Rounding an Integral returns itself.\n",
      " |      Rounding with an ndigits argument also returns an integer.\n",
      " |  \n",
      " |  __rpow__(self, value, mod=None, /)\n",
      " |      Return pow(value, self, mod).\n",
      " |  \n",
      " |  __rrshift__(self, value, /)\n",
      " |      Return value>>self.\n",
      " |  \n",
      " |  __rshift__(self, value, /)\n",
      " |      Return self>>value.\n",
      " |  \n",
      " |  __rsub__(self, value, /)\n",
      " |      Return value-self.\n",
      " |  \n",
      " |  __rtruediv__(self, value, /)\n",
      " |      Return value/self.\n",
      " |  \n",
      " |  __rxor__(self, value, /)\n",
      " |      Return value^self.\n",
      " |  \n",
      " |  __sizeof__(...)\n",
      " |      Returns size in memory, in bytes\n",
      " |  \n",
      " |  __str__(self, /)\n",
      " |      Return str(self).\n",
      " |  \n",
      " |  __sub__(self, value, /)\n",
      " |      Return self-value.\n",
      " |  \n",
      " |  __truediv__(self, value, /)\n",
      " |      Return self/value.\n",
      " |  \n",
      " |  __trunc__(...)\n",
      " |      Truncating an Integral returns itself.\n",
      " |  \n",
      " |  __xor__(self, value, /)\n",
      " |      Return self^value.\n",
      " |  \n",
      " |  bit_length(...)\n",
      " |      int.bit_length() -> int\n",
      " |      \n",
      " |      Number of bits necessary to represent self in binary.\n",
      " |      >>> bin(37)\n",
      " |      '0b100101'\n",
      " |      >>> (37).bit_length()\n",
      " |      6\n",
      " |  \n",
      " |  conjugate(...)\n",
      " |      Returns self, the complex conjugate of any int.\n",
      " |  \n",
      " |  from_bytes(...) from builtins.type\n",
      " |      int.from_bytes(bytes, byteorder, *, signed=False) -> int\n",
      " |      \n",
      " |      Return the integer represented by the given array of bytes.\n",
      " |      \n",
      " |      The bytes argument must be a bytes-like object (e.g. bytes or bytearray).\n",
      " |      \n",
      " |      The byteorder argument determines the byte order used to represent the\n",
      " |      integer.  If byteorder is 'big', the most significant byte is at the\n",
      " |      beginning of the byte array.  If byteorder is 'little', the most\n",
      " |      significant byte is at the end of the byte array.  To request the native\n",
      " |      byte order of the host system, use `sys.byteorder' as the byte order value.\n",
      " |      \n",
      " |      The signed keyword-only argument indicates whether two's complement is\n",
      " |      used to represent the integer.\n",
      " |  \n",
      " |  to_bytes(...)\n",
      " |      int.to_bytes(length, byteorder, *, signed=False) -> bytes\n",
      " |      \n",
      " |      Return an array of bytes representing an integer.\n",
      " |      \n",
      " |      The integer is represented using length bytes.  An OverflowError is\n",
      " |      raised if the integer is not representable with the given number of\n",
      " |      bytes.\n",
      " |      \n",
      " |      The byteorder argument determines the byte order used to represent the\n",
      " |      integer.  If byteorder is 'big', the most significant byte is at the\n",
      " |      beginning of the byte array.  If byteorder is 'little', the most\n",
      " |      significant byte is at the end of the byte array.  To request the native\n",
      " |      byte order of the host system, use `sys.byteorder' as the byte order value.\n",
      " |      \n",
      " |      The signed keyword-only argument determines whether two's complement is\n",
      " |      used to represent the integer.  If signed is False and a negative integer\n",
      " |      is given, an OverflowError is raised.\n",
      " |  \n",
      " |  ----------------------------------------------------------------------\n",
      " |  Data descriptors defined here:\n",
      " |  \n",
      " |  denominator\n",
      " |      the denominator of a rational number in lowest terms\n",
      " |  \n",
      " |  imag\n",
      " |      the imaginary part of a complex number\n",
      " |  \n",
      " |  numerator\n",
      " |      the numerator of a rational number in lowest terms\n",
      " |  \n",
      " |  real\n",
      " |      the real part of a complex number\n",
      "\n"
     ]
    }
   ],
   "source": [
    "help(int)"
   ]
  },
  {
   "cell_type": "markdown",
   "metadata": {},
   "source": [
    "Um módulo pode conter código python que inicializa o próprio módulo, além de ter definições de funções e variáveis. Esse código de inicialização é executado **somente** quando o interpretador Python encontra um `import <nome do módulo>`. Aqui descobrimos que existem códigos que são executados em *tempo de importação* e outros (como códigos dentro de funções e métodos) que são rodados em *tempo de execução*.\n",
    "\n",
    "Os módulos são isolados entre si. Cada um possui sua própria tabela privada de símbolos (contendo funções, variáveis etc.), portanto ao escrever módulos é possível definir variáveis \"globais\" sem se preocupar com choques de nomes.\n",
    "\n",
    "Módulos podem importar outros módulos. Geralmente essas importações são feitas no começo do arquivo. Esses módulos importados são adicionados na tabela de símbolos do módulo que realizou a importação."
   ]
  },
  {
   "cell_type": "markdown",
   "metadata": {},
   "source": [
    "É considerado boa prática importar somente as funções que serão utilizadas em seu módulo.\n",
    "\n",
    "Isso é feito assim:"
   ]
  },
  {
   "cell_type": "code",
   "execution_count": 10,
   "metadata": {
    "collapsed": false
   },
   "outputs": [],
   "source": [
    "from fibonacci import fib, fib2"
   ]
  },
  {
   "cell_type": "code",
   "execution_count": 11,
   "metadata": {
    "collapsed": false
   },
   "outputs": [
    {
     "name": "stdout",
     "output_type": "stream",
     "text": [
      "1 1 2 3 5 8 13 21 34 55 89 144 233 377 \n"
     ]
    }
   ],
   "source": [
    "fib(500)"
   ]
  },
  {
   "cell_type": "code",
   "execution_count": 12,
   "metadata": {
    "collapsed": false
   },
   "outputs": [
    {
     "data": {
      "text/plain": [
       "[1, 1, 2, 3, 5, 8, 13, 21, 34, 55, 89, 144, 233, 377]"
      ]
     },
     "execution_count": 12,
     "metadata": {},
     "output_type": "execute_result"
    }
   ],
   "source": [
    "fib2(500)"
   ]
  },
  {
   "cell_type": "markdown",
   "metadata": {},
   "source": [
    "Também é possível importar todas as funções usando `import *`, porém essa prática deixa o código mais ilegível e a maioria dos programadores não a utiliza."
   ]
  },
  {
   "cell_type": "code",
   "execution_count": 13,
   "metadata": {
    "collapsed": true
   },
   "outputs": [],
   "source": [
    "from fibonacci import *"
   ]
  },
  {
   "cell_type": "code",
   "execution_count": 14,
   "metadata": {
    "collapsed": false
   },
   "outputs": [
    {
     "name": "stdout",
     "output_type": "stream",
     "text": [
      "1 1 2 3 5 8 13 21 34 55 89 144 233 377 \n"
     ]
    }
   ],
   "source": [
    "fib(500)"
   ]
  },
  {
   "cell_type": "code",
   "execution_count": 15,
   "metadata": {
    "collapsed": false
   },
   "outputs": [
    {
     "data": {
      "text/plain": [
       "[1, 1, 2, 3, 5, 8, 13, 21, 34, 55, 89, 144, 233, 377]"
      ]
     },
     "execution_count": 15,
     "metadata": {},
     "output_type": "execute_result"
    }
   ],
   "source": [
    "fib2(500)"
   ]
  },
  {
   "cell_type": "markdown",
   "metadata": {},
   "source": [
    "Também podemos organizar nossos módulos em pastas. Por exemplo temos uma pasta `exemplos` junto a essa aula que contém uma implementação de [vetor euclidiano](https://en.wikipedia.org/wiki/Euclidean_vector) no arquivo vetor.py. Esse módulo nos fornece uma classe `Vetor` que armazena as posições `x` e `y` em uma tupla, além das funções `soma_vetor()` e `subtrai_vetor()`."
   ]
  },
  {
   "cell_type": "markdown",
   "metadata": {},
   "source": [
    "Aqui está a implementação desse vetor para consulta:\n",
    "\n",
    "```python\n",
    "\"\"\" Este módulo oferece um vetor espacial e operações de vetor\n",
    "\n",
    "Fornece uma classe `Vetor` que armazena as posições x e y em uma `namedtuple`\n",
    "e funções de soma (soma_vetor) e subtração (subtrai_vetor)\n",
    "\"\"\"\n",
    "\n",
    "\n",
    "from collections import namedtuple\n",
    "\n",
    "Vetor = namedtuple('Vetor', ['x', 'y'])\n",
    "\n",
    "\n",
    "def soma_vetor(v1, v2):\n",
    "    \"\"\"\n",
    "    Retorna a soma dos vetores v1 e v2 (v1 + v2)\n",
    "    \"\"\"\n",
    "    return Vetor(v1.x + v2.x, v1.y + v2.y)\n",
    "\n",
    "\n",
    "def subtrai_vetor(v1, v2):\n",
    "    \"\"\"\n",
    "    Retorna a subtração dos vetores v1 e v2 (v1 - v2)\n",
    "    \"\"\"\n",
    "    return Vetor(v1.x - v2.x, v1.y - v2.y)\n",
    "```"
   ]
  },
  {
   "cell_type": "markdown",
   "metadata": {},
   "source": [
    "Agora vamos importar o módulo localizado em `./exemplos/vetor.py`:"
   ]
  },
  {
   "cell_type": "code",
   "execution_count": 31,
   "metadata": {
    "collapsed": false
   },
   "outputs": [],
   "source": [
    "from exemplos import vetor"
   ]
  },
  {
   "cell_type": "markdown",
   "metadata": {},
   "source": [
    "Como vimos anteriomente temos acesso ao nome do módulo através do atributo `__name__` da variável `vetor`: "
   ]
  },
  {
   "cell_type": "code",
   "execution_count": 32,
   "metadata": {
    "collapsed": false
   },
   "outputs": [
    {
     "data": {
      "text/plain": [
       "'exemplos.vetor'"
      ]
     },
     "execution_count": 32,
     "metadata": {},
     "output_type": "execute_result"
    }
   ],
   "source": [
    "vetor.__name__"
   ]
  },
  {
   "cell_type": "markdown",
   "metadata": {},
   "source": [
    "Vale lembrar que o python busca por módulos na pasta em que o interpretador é rodado, como a pasta `exemplos` está na pasta que o python (e o jupyter notebook) rodam é possível acessá-lo. O Python também busca módulos em outras pastas, porém esse assunto será tratado daqui a pouco."
   ]
  },
  {
   "cell_type": "markdown",
   "metadata": {},
   "source": [
    "Agora que temos acesso ao módulo vetor podemos acessar seus recursos e criar um vetor matemático"
   ]
  },
  {
   "cell_type": "code",
   "execution_count": 17,
   "metadata": {
    "collapsed": false
   },
   "outputs": [
    {
     "data": {
      "text/plain": [
       "Vetor(x=1, y=5)"
      ]
     },
     "execution_count": 17,
     "metadata": {},
     "output_type": "execute_result"
    }
   ],
   "source": [
    "v1 = vetor.Vetor(x=1, y=5)\n",
    "v1"
   ]
  },
  {
   "cell_type": "code",
   "execution_count": 18,
   "metadata": {
    "collapsed": false
   },
   "outputs": [
    {
     "data": {
      "text/plain": [
       "Vetor(x=-2, y=3)"
      ]
     },
     "execution_count": 18,
     "metadata": {},
     "output_type": "execute_result"
    }
   ],
   "source": [
    "v2 = vetor.Vetor(x=-2, y=3)\n",
    "v2"
   ]
  },
  {
   "cell_type": "markdown",
   "metadata": {},
   "source": [
    "Também podemos usar as funções de soma e subtração de vetor:"
   ]
  },
  {
   "cell_type": "code",
   "execution_count": 19,
   "metadata": {
    "collapsed": false
   },
   "outputs": [
    {
     "data": {
      "text/plain": [
       "Vetor(x=-1, y=8)"
      ]
     },
     "execution_count": 19,
     "metadata": {},
     "output_type": "execute_result"
    }
   ],
   "source": [
    "vetor.soma_vetor(v1, v2)"
   ]
  },
  {
   "cell_type": "code",
   "execution_count": 20,
   "metadata": {
    "collapsed": false
   },
   "outputs": [
    {
     "data": {
      "text/plain": [
       "Vetor(x=3, y=2)"
      ]
     },
     "execution_count": 20,
     "metadata": {},
     "output_type": "execute_result"
    }
   ],
   "source": [
    "vetor.subtrai_vetor(v1, v2)"
   ]
  },
  {
   "cell_type": "markdown",
   "metadata": {},
   "source": [
    "Assim como fizemos com o exemplo do fibonacci podemos importar diretamente as funções que vamos usar usando `from ... import ...`:"
   ]
  },
  {
   "cell_type": "code",
   "execution_count": 25,
   "metadata": {
    "collapsed": false
   },
   "outputs": [
    {
     "data": {
      "text/plain": [
       "Vetor(x=2, y=3)"
      ]
     },
     "execution_count": 25,
     "metadata": {},
     "output_type": "execute_result"
    }
   ],
   "source": [
    "from vetor import Vetor, soma_vetor, subtrai_vetor\n",
    "\n",
    "v1 = Vetor(2, 3)\n",
    "v1"
   ]
  },
  {
   "cell_type": "code",
   "execution_count": 26,
   "metadata": {
    "collapsed": false
   },
   "outputs": [
    {
     "data": {
      "text/plain": [
       "Vetor(x=4, y=-1)"
      ]
     },
     "execution_count": 26,
     "metadata": {},
     "output_type": "execute_result"
    }
   ],
   "source": [
    "v2 = Vetor(4, -1)\n",
    "v2"
   ]
  },
  {
   "cell_type": "code",
   "execution_count": 27,
   "metadata": {
    "collapsed": false
   },
   "outputs": [
    {
     "data": {
      "text/plain": [
       "Vetor(x=6, y=2)"
      ]
     },
     "execution_count": 27,
     "metadata": {},
     "output_type": "execute_result"
    }
   ],
   "source": [
    "soma_vetor(v1, v2)"
   ]
  },
  {
   "cell_type": "code",
   "execution_count": 28,
   "metadata": {
    "collapsed": false
   },
   "outputs": [
    {
     "data": {
      "text/plain": [
       "Vetor(x=-2, y=4)"
      ]
     },
     "execution_count": 28,
     "metadata": {},
     "output_type": "execute_result"
    }
   ],
   "source": [
    "subtrai_vetor(v1, v2)"
   ]
  },
  {
   "cell_type": "markdown",
   "metadata": {},
   "source": [
    "Agora que nós entendemos como criar e usar módulos Python, vamos aprender como executar esses módulos como scripts. Um programa python é executado da seguinte forma:\n",
    "\n",
    "```sh\n",
    "$ python <nome-do-arquivo>.py <argumentos>\n",
    "```"
   ]
  },
  {
   "cell_type": "markdown",
   "metadata": {},
   "source": [
    "Dessa forma o código do módulo é executado, mas o `__name__` recebe `\"__main__\"`. Se adicionarmos o seguinte código no final do modulo `fibonnaci.py`:\n",
    "\n",
    "```py\n",
    "if __name__ == \"__main__\":\n",
    "    import sys\n",
    "    n = int(sys.argv[1])\n",
    "    fib(n)\n",
    "```"
   ]
  },
  {
   "cell_type": "markdown",
   "metadata": {},
   "source": [
    "Tornamos nosso módulo um script executável além de um módulo importável, pois o código que trata os argumentos é rodado somente quando o módulo executado como o arquivo principal (\"main file\"):"
   ]
  },
  {
   "cell_type": "markdown",
   "metadata": {},
   "source": [
    "```\n",
    "$ python fibonnaci.py 50\n",
    "1 1 2 3 5 8 13 21 34 55 89\n",
    "```\n",
    "    "
   ]
  },
  {
   "cell_type": "markdown",
   "metadata": {},
   "source": [
    "O módulo `sys` (importado no exemplo anterior) fornece funções e variáveis do sistema. No exemplo usamos `sys.argv` que armazena os argumentos enviados a um script python, armazenando-os como strings em uma lista. Para saber mais sobre esse módulo consulte a [documentação oficial](https://docs.python.org/3/library/sys.html?highlight=sys#module-sys)"
   ]
  },
  {
   "cell_type": "markdown",
   "metadata": {},
   "source": [
    "Em alguma aula anterior foi falado sobre a função embutida `dir()` que retorna uma lista de atributos do objeto fornecido. É possível usar essa função em módulos para saber quais funções e atributos esse oferece:"
   ]
  },
  {
   "cell_type": "code",
   "execution_count": 34,
   "metadata": {
    "collapsed": false
   },
   "outputs": [
    {
     "data": {
      "text/plain": [
       "['__builtins__',\n",
       " '__cached__',\n",
       " '__doc__',\n",
       " '__file__',\n",
       " '__loader__',\n",
       " '__name__',\n",
       " '__package__',\n",
       " '__spec__',\n",
       " 'fib',\n",
       " 'fib2']"
      ]
     },
     "execution_count": 34,
     "metadata": {},
     "output_type": "execute_result"
    }
   ],
   "source": [
    "dir(fibonacci)"
   ]
  },
  {
   "cell_type": "code",
   "execution_count": 35,
   "metadata": {
    "collapsed": false
   },
   "outputs": [
    {
     "data": {
      "text/plain": [
       "['Vetor',\n",
       " '__builtins__',\n",
       " '__cached__',\n",
       " '__doc__',\n",
       " '__file__',\n",
       " '__loader__',\n",
       " '__name__',\n",
       " '__package__',\n",
       " '__spec__',\n",
       " 'namedtuple',\n",
       " 'soma_vetor',\n",
       " 'subtrai_vetor']"
      ]
     },
     "execution_count": 35,
     "metadata": {},
     "output_type": "execute_result"
    }
   ],
   "source": [
    "dir(vetor)"
   ]
  },
  {
   "cell_type": "markdown",
   "metadata": {},
   "source": [
    "### Testes\n",
    "\n",
    "\"Teste é o processo de executar um programa ou sistema com a intenção de encontrar erros\". (Myers, 1979 - The art of software testing)\n",
    "\n",
    "Diferentes tipos de teste podem ser utilizados para verificar se um programa se comporta como o especificado. Os testes podem ser classificados em teste de caixa-preta, teste de caixa-branca ou teste baseado em defeito. A técnica do teste é definida pelo tipo de informação utilizada para realizar o teste:\n",
    "    - Técnica caixa-preta: testes baseados na especificação de requisitos do programa. Nenhum conhecimento de como o programa é implementado é requerido.\n",
    "    - Técnica caixa-branca: os testes são baseados na implementação do software.\n",
    "    - Técnica baseada em defeito: os testes são baseados em informações históricas sobre defeitos cometidos frequentemente durante o processo de desenvolvimento de software.\n",
    "    \n",
    "Benefícios de testes:\n",
    "- Encontrar erros mais cedo: quanto mais tarde um erro é encontrado mais caro custa o estrago.\n",
    "- Simplificar integração\n",
    "- Ajuda a criar interfaces melhores\n",
    "\n",
    "Nesta aula veremos somente com Teste de Unidade (ou teste unitário) que faz parte das técnicas de caixa-branca.\n",
    "\n",
    "O objetivo do teste unitário é identificar erros de lógica e de programação na menor unidade de programação. A unidade, em Python, podem ser métodos, classes e funções."
   ]
  },
  {
   "cell_type": "markdown",
   "metadata": {},
   "source": [
    "#### doctest\n",
    "\n",
    "Antes de começar a mexer com testes unitários, vamos implementar testes simples usando o módulo `doctest`.\n",
    "\n",
    "O módulo `doctest` procura por textos que parecem com o shell interativo do Python e executa essas linhas verificando se elas executam exatamente como mostrado. É como se você estivesse digitando no modo interativo e recebendo as respostas corretas.\n",
    "\n",
    "`doctest` oferece uma maneira simples e fácil de programar usando TDD (Test Driven Development) com Python para iniciantes na  linguagem.\n",
    "\n",
    "Só para deixar claro o módulo `doctest` não oferece uma API para testes unitários, ele é utilizado para documentação, testes rasos e para usar TDD de uma maneira simples.\n",
    "\n",
    "Bem, como diria Linus Torvalds \"Falar é barato. Mostra-me o código\": vamos aos exemplos de testes com `doctest` para os módulo `fibonacci` e `vetor` vistos anteriormente:"
   ]
  },
  {
   "cell_type": "markdown",
   "metadata": {
    "collapsed": true
   },
   "source": [
    "```py\n",
    "\"\"\" Módulo de números da sequência de Fibonacci \"\"\"\n",
    "\n",
    "\n",
    "def fib(n):\n",
    "    \"\"\"\n",
    "    Exibe na tela a sequência de Fibonacci até n\n",
    "    \n",
    "    >>> fib(10)\n",
    "    1 1 2 3 5 8 \n",
    "    >>> fib(-1)\n",
    "    <BLANKLINE>\n",
    "    \"\"\"\n",
    "    a, b = 0, 1\n",
    "    while b < n:\n",
    "        print(b, end=' ')\n",
    "        a, b = b, a+b\n",
    "    print()\n",
    "\n",
    "\n",
    "def fib2(n):   # return Fibonacci series up to n\n",
    "    \"\"\"\n",
    "    Retorna uma lista contendo os números da sequência de Fibonacci até n\n",
    "    \n",
    "    >>> fib2(10)\n",
    "    [1, 1, 2, 3, 5, 8]\n",
    "    >>> fib(-1)\n",
    "    []\n",
    "    \"\"\"\n",
    "    result = []\n",
    "    a, b = 0, 1\n",
    "    while b < n:\n",
    "        result.append(b)\n",
    "        a, b = b, a+b\n",
    "    return result\n",
    "```"
   ]
  },
  {
   "cell_type": "markdown",
   "metadata": {},
   "source": [
    "Para executar os doctests nesse exemplo: grave o código em um arquivo, como por exemplo `fibonacci.py`, abra um terminal e navegue até sua pasta e rode o seguinte comando:\n",
    "\n",
    "```sh\n",
    "$ python -m doctest fibonacci.py\n",
    "```\n",
    "\n",
    "Se esse comando não emitir mensagem de erro isso significa que o programa passou nos testes. Caso você queira um relatório completo da execução dos testes pode rodar esse comando no modo verboso da seguinte forma:\n",
    "\n",
    "```sh\n",
    "$ python -m doctest -v fibonacci.py\n",
    "```\n",
    "\n",
    "Ao rodar o último comando a saída deve ser igual a essa:\n",
    "\n",
    "```\n",
    "Trying:\n",
    "    fib(10)\n",
    "Expecting:\n",
    "    1 1 2 3 5 8 \n",
    "ok\n",
    "Trying:\n",
    "    fib(-1)\n",
    "Expecting:\n",
    "    <BLANKLINE>\n",
    "ok\n",
    "Trying:\n",
    "    fib2(10)\n",
    "Expecting:\n",
    "    [1, 1, 2, 3, 5, 8]\n",
    "ok\n",
    "Trying:\n",
    "    fib2(-1)\n",
    "Expecting:\n",
    "    []\n",
    "ok\n",
    "1 items had no tests:\n",
    "    fibonacci\n",
    "2 items passed all tests:\n",
    "   2 tests in fibonacci.fib\n",
    "   2 tests in fibonacci.fib2\n",
    "4 tests in 3 items.\n",
    "4 passed and 0 failed.\n",
    "Test passed.\n",
    "```"
   ]
  },
  {
   "cell_type": "markdown",
   "metadata": {
    "collapsed": true
   },
   "source": [
    "Como visto no exemplo, os doctests ficam dentro das docstrings e os códigos que vem após `>>>` são executados como se esivessem na shell Python e a linha a seguir é a resposta esperada da execução do código.\n",
    "\n",
    "Quando alguma função é executada e não gera saída e nem retorna valor devemos colocar `<BLANKLINE>` como resposta.\n",
    "\n",
    "Nesse exemplo testamos: o funcionamento da função `fib()` que deve imprimir no console a sequência até o número 10, também foi testado uma entrada inválida (n = -1) que não deve imprimir algo. O mesmo foi feito `fib2()`, com a diferença que esta retorna uma lista."
   ]
  },
  {
   "cell_type": "markdown",
   "metadata": {
    "collapsed": true
   },
   "source": [
    "Agora vamos ver como ficam os doctests para o módulo `vetor`, grave o seguinte código em um arquivo `vetor.py`:\n",
    "\n",
    "```py\n",
    "\"\"\"\n",
    "Oferece um vetor matemático e operações de vetor\n",
    "\n",
    ">>> v = Vetor(x=10, y=5)\n",
    ">>> v.x == v[0] == 10\n",
    "True\n",
    ">>> v.y == v[1] == 5\n",
    "True\n",
    "\"\"\"\n",
    "\n",
    "from collections import namedtuple\n",
    "\n",
    "\n",
    "Vetor = namedtuple('Vetor', ['x', 'y'])\n",
    "\n",
    "\n",
    "def soma_vetor(v1, v2):\n",
    "    \"\"\"\n",
    "    Retorna um vetor que representa a soma dos vetores v1 e v2 (v1 + v2)\n",
    "    \n",
    "    >>> v1 = Vetor(5, 2)\n",
    "    >>> v2 = Vetor(2, 7)\n",
    "    >>> soma_vetor(v1, v2)\n",
    "    Vetor(x=7, y=9)\n",
    "    \"\"\"\n",
    "    return Vetor(x=v1.x + v2.x, y=v1.y + v2.y)\n",
    "\n",
    "\n",
    "def subtrai_vetor(v1, v2):\n",
    "    \"\"\"\n",
    "    Retorna um vetor que representa a soma dos vetores v1 e v2 (v1 + v2)\n",
    "    \n",
    "    >>> v1 = Vetor(3, 4)\n",
    "    >>> v2 = Vetor(1, 5)\n",
    "    >>> subtrai_vetor(v1, v2)\n",
    "    Vetor(x=2, y=-1)\n",
    "    \"\"\"\n",
    "    return Vetor(x=v1.x - v2.x, y=v1.y - v2.y)\n",
    "```"
   ]
  },
  {
   "cell_type": "markdown",
   "metadata": {},
   "source": [
    "Para rodar os testes navegue até a pasta do arquivo `vetor.py` em um terminal e digite:\n",
    "\n",
    "```sh\n",
    "$ python -m doctest -v vetor.py\n",
    "```\n",
    "\n",
    "O resultado desse comando deve ser igual a esse:\n",
    "\n",
    "```\n",
    "Trying:\n",
    "    v = Vetor(x=10, y=5)\n",
    "Expecting nothing\n",
    "ok\n",
    "Trying:\n",
    "    v.x == v[0] == 10\n",
    "Expecting:\n",
    "    True\n",
    "ok\n",
    "Trying:\n",
    "    v.y == v[1] == 5\n",
    "Expecting:\n",
    "    True\n",
    "ok\n",
    "Trying:\n",
    "    v1 = Vetor(5, 2)\n",
    "Expecting nothing\n",
    "ok\n",
    "Trying:\n",
    "    v2 = Vetor(2, 7)\n",
    "Expecting nothing\n",
    "ok\n",
    "Trying:\n",
    "    soma_vetor(v1, v2)\n",
    "Expecting:\n",
    "    Vetor(x=7, y=9)\n",
    "ok\n",
    "Trying:\n",
    "    v1 = Vetor(3, 4)\n",
    "Expecting nothing\n",
    "ok\n",
    "Trying:\n",
    "    v2 = Vetor(1, 5)\n",
    "Expecting nothing\n",
    "ok\n",
    "Trying:\n",
    "    subtrai_vetor(v1, v2)\n",
    "Expecting:\n",
    "    Vetor(x=2, y=-1)\n",
    "ok\n",
    "4 items had no tests:\n",
    "    vetor.Vetor\n",
    "    vetor.Vetor.x\n",
    "    vetor.Vetor.y\n",
    "    vetor.multiplica_vetor\n",
    "3 items passed all tests:\n",
    "   3 tests in vetor\n",
    "   3 tests in vetor.soma_vetor\n",
    "   3 tests in vetor.subtrai_vetor\n",
    "9 tests in 7 items.\n",
    "9 passed and 0 failed.\n",
    "Test passed.\n",
    "\n",
    "```"
   ]
  },
  {
   "cell_type": "markdown",
   "metadata": {},
   "source": [
    "Nesse exemplo testamos: a criação de um objeto da classe `Vetor` que deve conter os atributos `Vetor.x` e `Vetor.y` e permitir o acesso de seus elementos por índice. Também testamos as funções `soma_vetor()` e `subtrai_vetor()` em que criamos dois vetores e os passamos como parametro para as funções.\n",
    "\n",
    "Com isso terminamos este tópico sobre o módulo `doctest` - que oferece uma maneira simples de testar e documentar APIs. Caso você queria saber mais confira a [documentação oficial](https://docs.python.org/3/library/doctest.html).\n",
    "\n",
    "Agora vamos abordar a biblioteca `unittest` que é utilizada para implementar testes unitários para aplicações Python."
   ]
  },
  {
   "cell_type": "markdown",
   "metadata": {},
   "source": [
    "### unittest\n",
    "\n",
    "O módulo `unittest` faz parte da biblioteca padrão do Python e oferece uma API de testes de unidade baseada no framework xUnit. Alguns pythonistas dizem que a `unittest` não é pythônica por seu \"sotaque javanês\".\n",
    "\n",
    "Nesta aula veremos somente uma simples introdução à testes unitários com `unittest`. No curso de django falaremos mais profundamente sobre testes com foco em aplicações web.\n",
    "\n",
    "Vamos começar implementando os testes unitários do módulo `fibonacci`, para isso crie um arquivo `test_fibonacci.py` na mesma pasta em que se encontra o arquivo `fibonacci.py`."
   ]
  },
  {
   "cell_type": "markdown",
   "metadata": {},
   "source": [
    "A função `fibonnaci.fib()` somente imprime a sequência de fibonacci na tela e é mais complicada de testar, por esse motivo vamos começar pelo teste da `fibonnaci.fib2()` que retorna uma lista:\n",
    "\n",
    "```py\n",
    "from unittest import TestCase\n",
    "\n",
    "from fibonacci import fib2\n",
    "\n",
    "\n",
    "class TesteFibonacci(TestCase):\n",
    "    def testa_fib2_entrada_invalida(self):\n",
    "        sequencia = fib2(-1)\n",
    "        self.assertEqual(sequencia, [])\n",
    "\n",
    "    def testa_fib2(self):\n",
    "        sequencia = fib2(100)\n",
    "        self.assertEqual(sequencia, [1, 1, 2, 3, 5, 8, 13, 21, 34, 55, 89])\n",
    "\n",
    "```\n",
    "\n",
    "Rodamos o teste com o seguinte comando:\n",
    "\n",
    "```sh\n",
    "$ python -m unittest test_fibonnaci.py\n",
    "```\n",
    "\n",
    "Se nenhum erro aparecer isso quer dizer que os testes passaram! Para obter mais informações sobre o teste é possível rodá-los de forma verbosa:\n",
    "\n",
    "```sh\n",
    "$ python -m unittest -v test_fibonacci.py\n",
    "```\n",
    "\n",
    "E a saida verbosa deve ser igual a essa:\n",
    "\n",
    "```\n",
    "testa_fib2 (exemplos.test_fibonacci.TesteFibonacci) ... ok\n",
    "testa_fib2_entrada_invalida (exemplos.test_fibonacci.TesteFibonacci) ... ok\n",
    "\n",
    "----------------------------------------------------------------------\n",
    "Ran 2 tests in 0.000s\n",
    "\n",
    "OK\n",
    "```"
   ]
  },
  {
   "cell_type": "markdown",
   "metadata": {},
   "source": [
    "Nesse exemplo importamos a classe `TestCase` do módulo `unittest` que nos permite definir uma unidade individual de teste que checa respostas específicas para entradas dadas.\n",
    "\n",
    "Criamos a classe `TesteFibonnaci` que herda de `unittest.TestCase` e, portanto, se torna um caso de teste que será rodado pelo \"rodador\" de testes (test runner). Nessa classe definimos um método chamado `testa_fib2_entrada_invalida()` para testar a função `fibonacci.fib2()` quando chamada com uma entrada inválida. Também definimos um método `testa_fib2()` para testar a criação de uma sequência de fibonacci até 100.\n",
    "\n",
    "Você deve ter reparado que os métodos da classe `TesteFibonacci` recebem o argumento `self` como parametro. Isso acontece pois todos os métodos de classe no Python recebem a instância (self) de forma explícita. Em Java ou C++ o acesso à instância se dá de forma implícita pelo uso do `this`.\n",
    "\n",
    "As linhas que chamam `self.assertEqual(a, b)` são responsáveis por verificar se a saída esperada das funções testadas correspondem ao código implementado."
   ]
  },
  {
   "cell_type": "markdown",
   "metadata": {},
   "source": [
    "Para finalizar vamos escrever os testes de unidade do módulo `vetor` visto anteriormente. Para isso crie um arquivo chamado `test_vetor.py` na mesma pasta em que se encontra o arquivo `vetor.py`.\n",
    "\n",
    "Vamos começar testando a criação do vetor:\n",
    "\n",
    "```py\n",
    "from unittest import TestCase\n",
    "\n",
    "from vetor import Vetor\n",
    "\n",
    "\n",
    "class TestaVetor(TestCase):\n",
    "    def testa_vetor(self):\n",
    "        v = Vetor(x=1, y=-1)\n",
    "        self.assertEqual(v.x, 1)\n",
    "        self.assertEqual(v.y, -1)\n",
    "```\n",
    "\n",
    "Para rodar os testes use o seguinte comando:\n",
    "\n",
    "```sh\n",
    "$ python -m unittest -v test_vetor.py\n",
    "```\n",
    "\n",
    "A saída desse comando deve ser igual a essa:\n",
    "```\n",
    "testa_vetor (exemplos.test_vetor.TesteVetor) ... ok\n",
    "\n",
    "----------------------------------------------------------------------\n",
    "Ran 1 test in 0.000s\n",
    "\n",
    "OK\n",
    "```\n",
    "\n",
    "Nesse teste garantimos a existência e funcionamento da classe Vetor: que deve receber dois argumentos `x` e `y` e criar dois atributos `Vetor.x` e `Vetor.y` e permitir seu acesso."
   ]
  },
  {
   "cell_type": "markdown",
   "metadata": {},
   "source": [
    "Agora vamos testar as funções `soma_vetor()` e `subtrai_vetor()`:\n",
    "\n",
    "```py\n",
    "\n",
    "class TestaVetor(TestCase):\n",
    "    def testa_vetor(self):\n",
    "        v = Vetor(x=1, y=-1)\n",
    "        self.assertEqual(v.x, 1)\n",
    "        self.assertEqual(v.y, -1)\n",
    "    \n",
    "    def testa_soma(self):\n",
    "        v1 = Vetor(5, 1)\n",
    "        v2 = Vetor(0, 3)\n",
    "        v = soma_vetor(v1, v2)\n",
    "        self.assertEqual(v, Vetor(5, 4))\n",
    "    \n",
    "    def testa_subtrai(self):\n",
    "        v1 = Vetor(5, 1)\n",
    "        v2 = Vetor(2, 3)\n",
    "        v = subtrai_vetor(v1, v2)\n",
    "        self.assertEqual(v, Vetor(3, -2))\n",
    "```\n",
    "\n",
    "Nos métodos `testa_soma()` e `testa_subtrai()` criamos dois vetores, realizamos as operações e testamos com `self.assertEqual()` se os resultados das funções correspondem ao esperado.\n",
    "\n",
    "Ao rodar esses testes com o comando\n",
    "\n",
    "```sh\n",
    "$ pythoon -m unittest -v test_vetor.py\n",
    "```\n",
    "\n",
    "A seguinte mensagem deve aparecer no terminal:\n",
    "\n",
    "```\n",
    "testa_soma (exemplos.test_vetor.TestaVetor) ... ok\n",
    "testa_subtrai (exemplos.test_vetor.TestaVetor) ... ok\n",
    "testa_vetor (exemplos.test_vetor.TestaVetor) ... ok\n",
    "\n",
    "----------------------------------------------------------------------\n",
    "Ran 3 tests in 0.000s\n",
    "\n",
    "OK\n",
    "```"
   ]
  },
  {
   "cell_type": "markdown",
   "metadata": {},
   "source": [
    "Assim terminanos a aula, agora você já sabe o básico de testes de unidade em Python e agora pode implementar esses testes para suas aplicações caso julgue necessário."
   ]
  },
  {
   "cell_type": "markdown",
   "metadata": {},
   "source": [
    "#### Fim da aula 06\n",
    "\n",
    "##### Extra!\n",
    "\n",
    "Testando funções que o resultado aparece na saída padrão (stdout) como a `fibonacci.fib()`. Esse teste trará algumas técnicas mais \"avançadas\" de Python e é totalmente **opcional**.\n",
    "\n",
    "Para testar a função `fibonacci.fib()` precisamos trocar a saída padrão (que exibe caracteres na tela) para uma stream que tenhamos acesso. A stream padrão está em `sys.stdout` e podemos utilizar a `io.StringIO()` uma stream em memória que armazena textos em formato string.\n",
    "\n",
    "Sabendo disso podemos criar nosso teste:\n",
    "\n",
    "```py\n",
    "from io import StringIO\n",
    "import sys\n",
    "from unittest import TestCase\n",
    "\n",
    "from fibonacci import fib\n",
    "\n",
    "\n",
    "class TestFibonacci(TestCase):\n",
    "    def test_fib(self):\n",
    "        original_stdout = sys.stdout  # guardamos a stream padrão\n",
    "        stream = StringIO()  # criamos outra stream que armazena texto\n",
    "        sys.stdout = stream  # trocamos a stream padrão pela nossa\n",
    "        fib(100)  # rodamos nosso teste\n",
    "        result = stream.getvalue()  # pegamos o resultado da nossa stream\n",
    "        sys.stdout = original_stdout  # desfazemos a troca da stream padrão\n",
    "        self.assertEqual(result, '1 1 2 3 5 8 13 21 34 55 89 \\n')  # testamos o resultado de `fib(100)`\n",
    "```\n",
    "\n",
    "Coloque essa classe no arquivo `test_fibonacci.py` - que deve estar na mesma pasta do arquivo `fibonacci.py` - e rode os testes com o comando:\n",
    "\n",
    "```sh\n",
    "$ python -m unittest -v test_fibonacci.py\n",
    "```\n",
    "\n",
    "A saída deve ser igual a esta:\n",
    "\n",
    "```\n",
    "test_fib (exemplos.test_fib.TestFibonacci) ... ok\n",
    "\n",
    "----------------------------------------------------------------------\n",
    "Ran 1 test in 0.000s\n",
    "\n",
    "OK\n",
    "```"
   ]
  },
  {
   "cell_type": "markdown",
   "metadata": {},
   "source": [
    "Acontece que essa não é a melhor maneira de implementar a captura da `stdout`. Já vimos anteriormente uma forma de lidar com blocos de códigos que funcionam em contextos específicos (neste caso o contexto é o redirecionamento da saída padrão capturada para uma stream durante a execução da função `fib()`).\n",
    "\n",
    "A maneira correta de resolver esse problema seria criar um gerenciador de contexto (visto rapidamente na Aula 05 que fala sobre funções e arquivos). Talvez seja necessário consultar a [documentação oficial](https://docs.python.org/3/library/contextlib.html) para entender melhor os recursos utilizados no exemplo a seguir.\n",
    "\n",
    "```py\n",
    "from io import StringIO\n",
    "from contextlib import contextmanager\n",
    "import sys\n",
    "import unittest\n",
    "\n",
    "from fibonacci import fib\n",
    "\n",
    "\n",
    "@contextmanager\n",
    "def capture_stdout(stream):\n",
    "    original_stdout = sys.stdout\n",
    "    sys.stdout = stream\n",
    "    # o código até aqui é executado ao entrar no gerenciador de contexto\n",
    "    yield\n",
    "    # daqui para baixo é executado ao sair do bloco do gerenciador de contexto\n",
    "    sys.stdout = original_stdout\n",
    "\n",
    "\n",
    "class TestFibonacci(unittest.TestCase):\n",
    "    def test_fib(self):\n",
    "        stream = StringIO()\n",
    "        with capture_stdout(stream):\n",
    "            fib(100)\n",
    "        result = stream.getvalue()\n",
    "        self.assertEqual(result, '1 1 2 3 5 8 13 21 34 55 89 \\n')\n",
    "```\n",
    "\n",
    "Como podemos ver o código do nosso teste fica **muito** mais simples utilizando o gerenciador de contexto, pois isolamos a lógica de redirecionamento de saída para o *context manager*."
   ]
  },
  {
   "cell_type": "markdown",
   "metadata": {},
   "source": [
    "Quando fui colocar o link da documentação do módulo `contextlib` que oferece facilidades relacionadas à gerenciadores de contexto aproveitei para lê-la e acabei encontrando uma função que faz o redirecionamento da saída padrão chamada `contextlib.redirect_stdout()`. Então a solução ideal é não reinventar a roda e utilizá-la:\n",
    "\n",
    "```py\n",
    "from io import StringIO\n",
    "from contextlib import redirect_stdout\n",
    "import unittest\n",
    "\n",
    "from fibonacci import fib\n",
    "\n",
    "\n",
    "class TestFibonacci(unittest.TestCase):\n",
    "    def test_fib(self):\n",
    "        stream = StringIO()\n",
    "        with redirect_stdout(stream):\n",
    "            fib(100)\n",
    "        result = stream.getvalue()\n",
    "        self.assertEqual(result, '1 1 2 3 5 8 13 21 34 55 89 \\n')\n",
    "\n",
    "```"
   ]
  }
 ],
 "metadata": {
  "kernelspec": {
   "display_name": "Python 3",
   "language": "python",
   "name": "python3"
  },
  "language_info": {
   "codemirror_mode": {
    "name": "ipython",
    "version": 3
   },
   "file_extension": ".py",
   "mimetype": "text/x-python",
   "name": "python",
   "nbconvert_exporter": "python",
   "pygments_lexer": "ipython3",
   "version": "3.5.1+"
  }
 },
 "nbformat": 4,
 "nbformat_minor": 0
}
